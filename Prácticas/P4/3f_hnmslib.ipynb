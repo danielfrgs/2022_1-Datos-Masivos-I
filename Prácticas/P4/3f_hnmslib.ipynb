{
  "nbformat": 4,
  "nbformat_minor": 0,
  "metadata": {
    "colab": {
      "name": "hnmslib.ipynb",
      "provenance": [],
      "collapsed_sections": [],
      "authorship_tag": "ABX9TyP+t1I6+w8F9IWLUvVtE6wO",
      "include_colab_link": true
    },
    "kernelspec": {
      "name": "python3",
      "display_name": "Python 3"
    }
  },
  "cells": [
    {
      "cell_type": "markdown",
      "metadata": {
        "id": "view-in-github",
        "colab_type": "text"
      },
      "source": [
        "<a href=\"https://colab.research.google.com/github/gibranfp/CursoDatosMasivosI/blob/main/notebooks/3e_hnmslib.ipynb\" target=\"_parent\"><img src=\"https://colab.research.google.com/assets/colab-badge.svg\" alt=\"Open In Colab\"/></a>"
      ]
    },
    {
      "cell_type": "markdown",
      "metadata": {
        "id": "vdUGGucRbHND"
      },
      "source": [
        "# Búsqueda del vecino más cercano aproximado mediante grafos jerárquicos navegables de mundo pequeño\n",
        "En esta libreta se realiza un buscador del vecino más cercano aproximado usando grafos jerárquicos navegables de mundo pequeño (Hnswlib). "
      ]
    },
    {
      "cell_type": "code",
      "metadata": {
        "id": "jp0vDo8kmXQ5"
      },
      "source": [
        "from os import listdir\n",
        "from os.path import isfile, join\n",
        "import struct\n",
        "import os \n",
        "\n",
        "import numpy as np"
      ],
      "execution_count": 1,
      "outputs": []
    },
    {
      "cell_type": "markdown",
      "metadata": {
        "id": "X9b7Hku2t8UV"
      },
      "source": [
        "Instalamos la biblioteca [Hnswlib](https://github.com/nmslib/hnswlib)"
      ]
    },
    {
      "cell_type": "code",
      "metadata": {
        "colab": {
          "base_uri": "https://localhost:8080/"
        },
        "id": "b4oGtxJrt_Qv",
        "outputId": "64400952-7f6c-418e-9522-0f977421660f"
      },
      "source": [
        "!pip install hnswlib\n",
        "import hnswlib"
      ],
      "execution_count": 2,
      "outputs": [
        {
          "output_type": "stream",
          "text": [
            "Requirement already satisfied: hnswlib in /usr/local/lib/python3.7/dist-packages (0.5.1)\n",
            "Requirement already satisfied: numpy in /usr/local/lib/python3.7/dist-packages (from hnswlib) (1.19.5)\n"
          ],
          "name": "stdout"
        }
      ]
    },
    {
      "cell_type": "markdown",
      "metadata": {
        "id": "P3Wvgq06cYGm"
      },
      "source": [
        "## Conjunto de datos\n",
        "Para evaluar el buscador vamos usar el conjunto de vectores SIFT [ANN_SIFT10K](http://corpus-texmex.irisa.fr/) del grupo TEXMEX, el cual descargamos y extraemos."
      ]
    },
    {
      "cell_type": "code",
      "metadata": {
        "id": "wc2odYXEjxut",
        "colab": {
          "base_uri": "https://localhost:8080/"
        },
        "outputId": "87885997-560a-4df9-8090-ce8cf1dc92cc"
      },
      "source": [
        "!wget -q ftp://ftp.irisa.fr/local/texmex/corpus/siftsmall.tar.gz\n",
        "!tar xvzf siftsmall.tar.gz"
      ],
      "execution_count": 3,
      "outputs": [
        {
          "output_type": "stream",
          "text": [
            "siftsmall/\n",
            "siftsmall/siftsmall_base.fvecs\n",
            "siftsmall/siftsmall_groundtruth.ivecs\n",
            "siftsmall/siftsmall_learn.fvecs\n",
            "siftsmall/siftsmall_query.fvecs\n"
          ],
          "name": "stdout"
        }
      ]
    },
    {
      "cell_type": "markdown",
      "metadata": {
        "id": "bcCrqcSsdPq9"
      },
      "source": [
        "Definimos una función para leer los vectores de un archivo `.fvecs`."
      ]
    },
    {
      "cell_type": "code",
      "metadata": {
        "id": "A21yFipGn27r"
      },
      "source": [
        "import struct\n",
        "import os \n",
        "\n",
        "def lee_fvecs(ruta):\n",
        "  with open(ruta, 'rb') as f:\n",
        "    d = struct.unpack('i', f.read(4))[0]\n",
        "    n = f.seek(0, os.SEEK_END) // (4 + 4 * d)\n",
        "    f.seek(0)\n",
        "    vecs = np.zeros((n, d))\n",
        "    for i in range(n):\n",
        "      f.read(4)\n",
        "      vecs[i] = struct.unpack('f' * d, f.read(d * 4))\n",
        "  \n",
        "  return vecs "
      ],
      "execution_count": 4,
      "outputs": []
    },
    {
      "cell_type": "markdown",
      "metadata": {
        "id": "idVajqxIdYhc"
      },
      "source": [
        "Leemos el conjunto de vectores base y consulta."
      ]
    },
    {
      "cell_type": "code",
      "metadata": {
        "id": "3dVRDdDsG8ua",
        "colab": {
          "base_uri": "https://localhost:8080/"
        },
        "outputId": "fb8b3175-c43b-4d6a-8e8c-ba634da7d9d1"
      },
      "source": [
        "base = lee_fvecs('siftsmall/siftsmall_base.fvecs')\n",
        "consultas = lee_fvecs('siftsmall/siftsmall_query.fvecs')\n",
        "\n",
        "print('Base: {0} Consultas: {1}'.format(base.shape, consultas.shape))"
      ],
      "execution_count": 5,
      "outputs": [
        {
          "output_type": "stream",
          "text": [
            "Base: (10000, 128) Consultas: (100, 128)\n"
          ],
          "name": "stdout"
        }
      ]
    },
    {
      "cell_type": "markdown",
      "metadata": {
        "id": "PMp9OQTJddXL"
      },
      "source": [
        "Definimos una función para leer los vectores más cercanos reales (_groundtruth_) de un archivo `.ivecs`"
      ]
    },
    {
      "cell_type": "code",
      "metadata": {
        "id": "TtJ_pLDXHy1L"
      },
      "source": [
        "def lee_ivecs(ruta):\n",
        "  with open(ruta, 'rb') as f:\n",
        "    d = struct.unpack('i', f.read(4))[0]\n",
        "    n = f.seek(0, os.SEEK_END) // (4 + 4 * d)\n",
        "    f.seek(0)\n",
        "    vecs = np.zeros((n, d), dtype=np.int)\n",
        "    for i in range(n):\n",
        "      f.read(4)\n",
        "      vecs[i] = struct.unpack('i' * d, f.read(d * 4))\n",
        "  \n",
        "  return vecs "
      ],
      "execution_count": 6,
      "outputs": []
    },
    {
      "cell_type": "markdown",
      "metadata": {
        "id": "URIfS7yYdwji"
      },
      "source": [
        "Leemos estos vectores."
      ]
    },
    {
      "cell_type": "code",
      "metadata": {
        "id": "e2njOGnqI1N1",
        "colab": {
          "base_uri": "https://localhost:8080/"
        },
        "outputId": "6f352daa-1dff-41d5-fcf6-c56c822fbab8"
      },
      "source": [
        "gt = lee_ivecs('siftsmall/siftsmall_groundtruth.ivecs')\n",
        "print('Groundtruth: {0}'.format(gt.shape))"
      ],
      "execution_count": 7,
      "outputs": [
        {
          "output_type": "stream",
          "text": [
            "Groundtruth: (100, 100)\n"
          ],
          "name": "stdout"
        }
      ]
    },
    {
      "cell_type": "markdown",
      "metadata": {
        "id": "H4RtFE5QdzYm"
      },
      "source": [
        "## Distancia $\\ell_2$\n",
        "Creamos un índice de Hnswlib para la distancia $\\ell_2$, configuramos los hiperparámetros y almacenamos el conjunto base."
      ]
    },
    {
      "cell_type": "code",
      "metadata": {
        "id": "PBJnC-ZXvaFc"
      },
      "source": [
        "p = hnswlib.Index(space='l2', dim=base.shape[1]) \n",
        "p.init_index(max_elements=base.shape[0], ef_construction=100, M=16)\n",
        "p.set_ef(10)\n",
        "p.set_num_threads(4)\n",
        "p.add_items(base)"
      ],
      "execution_count": 8,
      "outputs": []
    },
    {
      "cell_type": "markdown",
      "metadata": {
        "id": "LBU8fCpMv453"
      },
      "source": [
        "Realizamos las consultas usando este índice."
      ]
    },
    {
      "cell_type": "code",
      "metadata": {
        "id": "b_57CXJMvMLd"
      },
      "source": [
        "nns_l2, l2_dists = p.knn_query(consultas, k=1)"
      ],
      "execution_count": 9,
      "outputs": []
    },
    {
      "cell_type": "markdown",
      "metadata": {
        "id": "oCJtOHB3ebuW"
      },
      "source": [
        "Extraemos los vecinos más cercanos encontrados por Hswlib y los de referencia y los comparamos."
      ]
    },
    {
      "cell_type": "code",
      "metadata": {
        "id": "24gZNDZLSpkN",
        "colab": {
          "base_uri": "https://localhost:8080/"
        },
        "outputId": "f211f2ce-85d6-4ffb-8c21-849fe353aeb5"
      },
      "source": [
        "vmc_real = [g[0] for g in gt]\n",
        "correcto = [nns_l2[i] == vmc_real[i] for i in range(len(nns_l2))]\n",
        "print('Promedio encontrados = {0}'.format(np.mean(correcto)))"
      ],
      "execution_count": 10,
      "outputs": [
        {
          "output_type": "stream",
          "text": [
            "Promedio encontrados = 0.95\n"
          ],
          "name": "stdout"
        }
      ]
    },
    {
      "cell_type": "markdown",
      "metadata": {
        "id": "FVfVkovFsOqf"
      },
      "source": [
        "## Ejercicio\n",
        " * Compara el desempeño de los algoritmos usando distintos hiperparámetros\n",
        " * Usa otro conjunto de datos para evaluar los algoritmos"
      ]
    }
  ]
}
