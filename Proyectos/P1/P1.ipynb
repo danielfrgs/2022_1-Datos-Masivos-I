{
 "cells": [
  {
   "cell_type": "markdown",
   "metadata": {},
   "source": [
    "# Mini Proyecto\n",
    "\n",
    "datos: https://www.cs.cmu.edu/~ark/personas/"
   ]
  },
  {
   "cell_type": "code",
   "execution_count": 2,
   "metadata": {},
   "outputs": [
    {
     "name": "stderr",
     "output_type": "stream",
     "text": [
      "22/02/26 23:21:01 WARN Utils: Your hostname, MacBook-Air-de-Daniel.local resolves to a loopback address: 127.0.0.1; using 192.168.68.104 instead (on interface en0)\n",
      "22/02/26 23:21:01 WARN Utils: Set SPARK_LOCAL_IP if you need to bind to another address\n",
      "Using Spark's default log4j profile: org/apache/spark/log4j-defaults.properties\n",
      "Setting default log level to \"WARN\".\n",
      "To adjust logging level use sc.setLogLevel(newLevel). For SparkR, use setLogLevel(newLevel).\n",
      "22/02/26 23:21:05 WARN NativeCodeLoader: Unable to load native-hadoop library for your platform... using builtin-java classes where applicable\n"
     ]
    }
   ],
   "source": [
    "# Librerias\n",
    "\n",
    "import pandas as pd\n",
    "import pyspark\n",
    "# Cargar Funciones Extra\n",
    "from pyspark.sql.functions import * \n",
    "from pyspark.sql import SparkSession\n",
    "\n",
    "spark = SparkSession.builder.appName('Proyecto_1').getOrCreate()"
   ]
  },
  {
   "cell_type": "code",
   "execution_count": 27,
   "metadata": {},
   "outputs": [
    {
     "name": "stderr",
     "output_type": "stream",
     "text": [
      "[nltk_data] Downloading package stopwords to\n",
      "[nltk_data]     /Users/danielfragoso/nltk_data...\n",
      "[nltk_data]   Unzipping corpora/stopwords.zip.\n"
     ]
    }
   ],
   "source": [
    "#Carga de bibliotecas extras\n",
    "import numpy as np\n",
    "import matplotlib.pyplot as plt\n",
    "\n",
    "#Carga de NLTK\n",
    "import nltk\n",
    "import nltk\n",
    "nltk.download('stopwords')\n",
    "import string"
   ]
  },
  {
   "cell_type": "code",
   "execution_count": 4,
   "metadata": {},
   "outputs": [],
   "source": [
    "def read_tsv(direccion):\n",
    "    import csv\n",
    "    tsv_file = open(direccion)\n",
    "    read_tsv = csv.reader(tsv_file, delimiter= \"\\t\")\n",
    "    lista = [row for row in read_tsv]\n",
    "    tsv_file.close()\n",
    "    return(spark.sparkContext.parallelize(lista))\n",
    "\n",
    "def read_txt(direccion):\n",
    "    import csv\n",
    "    txt_file = open(direccion)\n",
    "    read_tsv = csv.reader(txt_file, delimiter= \"\\t\")\n",
    "    lista = [row for row in read_tsv]\n",
    "    txt_file.close()\n",
    "    return(spark.sparkContext.parallelize(lista))"
   ]
  },
  {
   "cell_type": "code",
   "execution_count": 5,
   "metadata": {},
   "outputs": [],
   "source": [
    "# Importamos datos:\n",
    "\n",
    "character = read_tsv('MovieSummaries/character.metadata.tsv')\n",
    "movie = read_tsv('MovieSummaries/movie.metadata.tsv')"
   ]
  },
  {
   "cell_type": "code",
   "execution_count": 6,
   "metadata": {},
   "outputs": [],
   "source": [
    "name = read_txt('MovieSummaries/name.clusters.txt')\n",
    "tvtropes = read_txt('MovieSummaries/tvtropes.clusters.txt')\n",
    "plot_summaries =read_txt('MovieSummaries/plot_summaries.txt')"
   ]
  },
  {
   "cell_type": "markdown",
   "metadata": {},
   "source": [
    "¿Cual es género más visto?"
   ]
  },
  {
   "cell_type": "code",
   "execution_count": 7,
   "metadata": {},
   "outputs": [],
   "source": [
    "def sep_gen(renglon):\n",
    "    renglon_separado = renglon[8]\n",
    "    import re\n",
    "    generos = re.findall(r'\"([\\w\\s]+)\"', renglon_separado)\n",
    "    for g in generos:\n",
    "        yield g"
   ]
  },
  {
   "cell_type": "code",
   "execution_count": 8,
   "metadata": {},
   "outputs": [
    {
     "name": "stderr",
     "output_type": "stream",
     "text": [
      "22/02/26 23:21:23 WARN TaskSetManager: Stage 0 contains a task of very large size (4397 KiB). The maximum recommended task size is 1000 KiB.\n",
      "                                                                                \r"
     ]
    }
   ],
   "source": [
    "genere = movie.flatMap(sep_gen)\n",
    "genere = genere.map(lambda renglon: (renglon, 1))\n",
    "# Conteo\n",
    "genere_count = genere.reduceByKey(lambda val_1 , val_2: val_1 + val_2).sortBy(lambda renglon: renglon[1], ascending = False)"
   ]
  },
  {
   "cell_type": "code",
   "execution_count": 9,
   "metadata": {},
   "outputs": [
    {
     "data": {
      "text/plain": [
       "[('Drama', 34007),\n",
       " ('Comedy', 16349),\n",
       " ('Romance Film', 10234),\n",
       " ('Action', 8798),\n",
       " ('Thriller', 8744),\n",
       " ('Short Film', 8141),\n",
       " ('World cinema', 7155),\n",
       " ('Crime Fiction', 6948),\n",
       " ('Indie', 6897),\n",
       " ('Documentary', 5630)]"
      ]
     },
     "execution_count": 9,
     "metadata": {},
     "output_type": "execute_result"
    }
   ],
   "source": [
    "genere_count.take(10)"
   ]
  },
  {
   "cell_type": "markdown",
   "metadata": {},
   "source": [
    "La palabra más larga de las descripciones"
   ]
  },
  {
   "cell_type": "code",
   "execution_count": 89,
   "metadata": {},
   "outputs": [],
   "source": [
    "def com_string(x, y):\n",
    "    if len(x) > len(y):\n",
    "        return x\n",
    "    return y\n",
    "\n",
    "def del_url(renglon):\n",
    "    import re\n",
    "    generos = re.sub(r'http\\S+', ' ', renglon)\n",
    "    return generos"
   ]
  },
  {
   "cell_type": "code",
   "execution_count": 90,
   "metadata": {},
   "outputs": [],
   "source": [
    "desc = plot_summaries.map(lambda x: x[1])\n",
    "desc = desc.map(del_url)"
   ]
  },
  {
   "cell_type": "code",
   "execution_count": 91,
   "metadata": {},
   "outputs": [],
   "source": [
    "# Reduzcammos a palabras\n",
    "\n",
    "words = desc.map(lambda x: x.split(' '))\n",
    "\n",
    "#Eliminamos signos de puntuación y espacios en blanco\n",
    "import string\n",
    "def removePunctuationsFunct(x):\n",
    "    list_punct=list(string.punctuation)\n",
    "    filtered = [''.join(c for c in s if c not in list_punct) for s in x] \n",
    "    filtered_space = [s for s in filtered if s] #remove empty space \n",
    "    return filtered\n",
    "\n",
    "#Removemos stopwords (palabras vacias)\n",
    "def removeStopWordsFunct(x):\n",
    "    from nltk.corpus import stopwords\n",
    "    stop_words=set(stopwords.words('english'))\n",
    "    filteredSentence = [w for w in x if not w in stop_words]\n",
    "    return filteredSentence\n",
    "\n",
    "words = words.map(removeStopWordsFunct)\n",
    "words = words.map(removePunctuationsFunct)\n"
   ]
  },
  {
   "cell_type": "code",
   "execution_count": 92,
   "metadata": {},
   "outputs": [],
   "source": [
    "def sep(renglon):\n",
    "    for g in renglon:\n",
    "        return g\n",
    "\n",
    "words_sep = words.map(sep)"
   ]
  },
  {
   "cell_type": "code",
   "execution_count": 93,
   "metadata": {},
   "outputs": [
    {
     "name": "stderr",
     "output_type": "stream",
     "text": [
      "22/02/27 16:41:31 WARN TaskSetManager: Stage 42 contains a task of very large size (18273 KiB). The maximum recommended task size is 1000 KiB.\n",
      "                                                                                \r"
     ]
    }
   ],
   "source": [
    "word_legth = words_sep.reduce(com_string)"
   ]
  },
  {
   "cell_type": "code",
   "execution_count": 94,
   "metadata": {},
   "outputs": [
    {
     "data": {
      "text/plain": [
       "'PlotdatePrologueThursdayMondaySaturdayTuesdayFridaySundayWednesdayEpilogue'"
      ]
     },
     "execution_count": 94,
     "metadata": {},
     "output_type": "execute_result"
    }
   ],
   "source": [
    "word_legth"
   ]
  },
  {
   "cell_type": "markdown",
   "metadata": {},
   "source": [
    "Contar el número de documentos en los que ocurre cada palabra, bigrama y trigrama."
   ]
  },
  {
   "cell_type": "code",
   "execution_count": 126,
   "metadata": {},
   "outputs": [],
   "source": [
    "cont = plot_summaries.map(lambda x: (x[0], x[1].split(' ')))\n",
    "cont = cont.map(lambda x: (x[0], removeStopWordsFunct(x[1])))\n",
    "cont = cont.map(lambda x: (x[0], removePunctuationsFunct(x[1])))"
   ]
  },
  {
   "cell_type": "code",
   "execution_count": 128,
   "metadata": {},
   "outputs": [],
   "source": [
    "cont_war = cont.map(lambda x: (x[0], x[1].count('war')))"
   ]
  },
  {
   "cell_type": "code",
   "execution_count": 130,
   "metadata": {},
   "outputs": [
    {
     "name": "stderr",
     "output_type": "stream",
     "text": [
      "22/02/27 18:55:44 WARN TaskSetManager: Stage 63 contains a task of very large size (18273 KiB). The maximum recommended task size is 1000 KiB.\n",
      "22/02/27 18:56:21 WARN TaskSetManager: Stage 64 contains a task of very large size (18273 KiB). The maximum recommended task size is 1000 KiB.\n",
      "                                                                                \r"
     ]
    }
   ],
   "source": [
    "cont_war = cont_war.sortBy(lambda renglon: renglon[1], ascending = False)"
   ]
  },
  {
   "cell_type": "code",
   "execution_count": 131,
   "metadata": {},
   "outputs": [
    {
     "name": "stderr",
     "output_type": "stream",
     "text": [
      "22/02/27 18:56:57 WARN TaskSetManager: Stage 65 contains a task of very large size (18273 KiB). The maximum recommended task size is 1000 KiB.\n",
      "                                                                                \r"
     ]
    },
    {
     "data": {
      "text/plain": [
       "[('886892', 10),\n",
       " ('3843721', 9),\n",
       " ('3653120', 8),\n",
       " ('3903364', 8),\n",
       " ('1432805', 8)]"
      ]
     },
     "execution_count": 131,
     "metadata": {},
     "output_type": "execute_result"
    }
   ],
   "source": [
    "cont_war.take(5)"
   ]
  },
  {
   "cell_type": "code",
   "execution_count": 156,
   "metadata": {},
   "outputs": [],
   "source": [
    "war_movies = cont_war.filter(lambda renglon: renglon[1] > 5)"
   ]
  },
  {
   "cell_type": "markdown",
   "metadata": {},
   "source": [
    "¿Cual es la película que más menciona guerra en su descripción?"
   ]
  },
  {
   "cell_type": "code",
   "execution_count": 132,
   "metadata": {},
   "outputs": [
    {
     "name": "stderr",
     "output_type": "stream",
     "text": [
      "22/02/27 18:58:15 WARN TaskSetManager: Stage 67 contains a task of very large size (4397 KiB). The maximum recommended task size is 1000 KiB.\n"
     ]
    },
    {
     "data": {
      "text/plain": [
       "[['886892',\n",
       "  '/m/03lv4x',\n",
       "  'Breaker Morant',\n",
       "  '1980',\n",
       "  '4735000',\n",
       "  '107.0',\n",
       "  '{\"/m/02h40lc\": \"English Language\"}',\n",
       "  '{\"/m/0chghy\": \"Australia\", \"/m/0ctw_b\": \"New Zealand\"}',\n",
       "  '{\"/m/01fc50\": \"Anti-war\", \"/m/0hj3mx2\": \"British Empire Film\", \"/m/03g3w\": \"History\", \"/m/04xvlr\": \"Period piece\", \"/m/07s9rl0\": \"Drama\", \"/m/082gq\": \"War film\", \"/m/07k67c\": \"Anti-war film\", \"/m/05bh16v\": \"Courtroom Drama\"}']]"
      ]
     },
     "execution_count": 132,
     "metadata": {},
     "output_type": "execute_result"
    }
   ],
   "source": [
    "movie.filter(lambda x: x[0] == '886892').take(1)"
   ]
  },
  {
   "cell_type": "markdown",
   "metadata": {},
   "source": [
    "<img src='MovieSummaries/Breaker_morant.png'>"
   ]
  },
  {
   "cell_type": "markdown",
   "metadata": {},
   "source": [
    "¿De que país provienen principalmente las películas de guerra?"
   ]
  },
  {
   "cell_type": "code",
   "execution_count": 157,
   "metadata": {},
   "outputs": [
    {
     "data": {
      "text/plain": [
       "[('886892', 10),\n",
       " ('3843721', 9),\n",
       " ('3653120', 8),\n",
       " ('3903364', 8),\n",
       " ('1432805', 8)]"
      ]
     },
     "execution_count": 157,
     "metadata": {},
     "output_type": "execute_result"
    }
   ],
   "source": [
    "war_movies.take(5)"
   ]
  },
  {
   "cell_type": "code",
   "execution_count": 160,
   "metadata": {},
   "outputs": [
    {
     "name": "stderr",
     "output_type": "stream",
     "text": [
      "22/02/27 21:57:15 WARN TaskSetManager: Stage 95 contains a task of very large size (4397 KiB). The maximum recommended task size is 1000 KiB.\n"
     ]
    },
    {
     "data": {
      "text/plain": [
       "[('975900', '{\"/m/09c7w0\": \"United States of America\"}')]"
      ]
     },
     "execution_count": 160,
     "metadata": {},
     "output_type": "execute_result"
    }
   ],
   "source": [
    "country = movie.map(lambda x: (x[0], x[7]))\n",
    "country.take(1)"
   ]
  },
  {
   "cell_type": "code",
   "execution_count": 229,
   "metadata": {},
   "outputs": [],
   "source": [
    "country_war = country.join(war_movies)"
   ]
  },
  {
   "cell_type": "code",
   "execution_count": 230,
   "metadata": {},
   "outputs": [],
   "source": [
    "def sep_gen_2(renglon):\n",
    "    renglon_separado = renglon[0]\n",
    "    import re\n",
    "    generos = re.findall(r'\"([\\w\\s]+)\"', renglon_separado)\n",
    "    for g in generos:\n",
    "        yield g"
   ]
  },
  {
   "cell_type": "code",
   "execution_count": 233,
   "metadata": {},
   "outputs": [],
   "source": [
    "country_war = country_war.flatMap(lambda x: sep_gen_2(x[1]))"
   ]
  },
  {
   "cell_type": "code",
   "execution_count": 237,
   "metadata": {},
   "outputs": [],
   "source": [
    "country_war_cont = country_war.map(lambda x: (x, 1)).reduceByKey(lambda val_1 , val_2: val_1 + val_2).sortBy(lambda renglon: renglon[1], ascending = False)"
   ]
  },
  {
   "cell_type": "code",
   "execution_count": 238,
   "metadata": {},
   "outputs": [
    {
     "data": {
      "text/plain": [
       "[('United States of America', 12),\n",
       " ('United Kingdom', 6),\n",
       " ('Japan', 4),\n",
       " ('Canada', 2),\n",
       " ('Serbia', 2),\n",
       " ('Bosnia and Herzegovina', 2),\n",
       " ('Australia', 2),\n",
       " ('France', 2),\n",
       " ('Croatia', 2),\n",
       " ('Argentina', 1)]"
      ]
     },
     "execution_count": 238,
     "metadata": {},
     "output_type": "execute_result"
    },
    {
     "name": "stderr",
     "output_type": "stream",
     "text": [
      "22/02/28 01:57:46 WARN HeartbeatReceiver: Removing executor driver with no recent heartbeats: 6768516 ms exceeds timeout 120000 ms\n",
      "22/02/28 01:57:46 WARN SparkContext: Killing executors is not supported by current scheduler.\n"
     ]
    }
   ],
   "source": [
    "country_war_cont.take(10)"
   ]
  }
 ],
 "metadata": {
  "interpreter": {
   "hash": "dace54320b3e5d10a320680296c22e4020a583bcc2297e7e554010d74f6aaf0c"
  },
  "kernelspec": {
   "display_name": "Python 3.9.2 64-bit ('3.9.2')",
   "language": "python",
   "name": "python3"
  },
  "language_info": {
   "codemirror_mode": {
    "name": "ipython",
    "version": 3
   },
   "file_extension": ".py",
   "mimetype": "text/x-python",
   "name": "python",
   "nbconvert_exporter": "python",
   "pygments_lexer": "ipython3",
   "version": "3.9.10"
  },
  "orig_nbformat": 4
 },
 "nbformat": 4,
 "nbformat_minor": 2
}
