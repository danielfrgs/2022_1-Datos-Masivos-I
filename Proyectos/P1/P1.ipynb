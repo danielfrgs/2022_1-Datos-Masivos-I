{
 "cells": [
  {
   "cell_type": "markdown",
   "metadata": {},
   "source": [
    "# Mini Proyecto\n",
    "\n",
    "datos: https://www.cs.cmu.edu/~ark/personas/"
   ]
  },
  {
   "cell_type": "code",
   "execution_count": 3,
   "metadata": {},
   "outputs": [
    {
     "name": "stderr",
     "output_type": "stream",
     "text": [
      "22/02/25 17:51:00 WARN Utils: Your hostname, MacBook-Air-de-Daniel.local resolves to a loopback address: 127.0.0.1; using 192.168.68.104 instead (on interface en0)\n",
      "22/02/25 17:51:00 WARN Utils: Set SPARK_LOCAL_IP if you need to bind to another address\n",
      "Using Spark's default log4j profile: org/apache/spark/log4j-defaults.properties\n",
      "Setting default log level to \"WARN\".\n",
      "To adjust logging level use sc.setLogLevel(newLevel). For SparkR, use setLogLevel(newLevel).\n",
      "22/02/25 17:51:02 WARN NativeCodeLoader: Unable to load native-hadoop library for your platform... using builtin-java classes where applicable\n"
     ]
    }
   ],
   "source": [
    "# Librerias\n",
    "\n",
    "import pandas as pd\n",
    "import pyspark\n",
    "# Cargar Funciones Extra\n",
    "from pyspark.sql.functions import * \n",
    "from pyspark.sql import SparkSession\n",
    "\n",
    "spark = SparkSession.builder.appName('Proyecto_1').getOrCreate()"
   ]
  },
  {
   "cell_type": "code",
   "execution_count": 24,
   "metadata": {},
   "outputs": [],
   "source": [
    "#Carga de bibliotecas extras\n",
    "import numpy as np\n",
    "import matplotlib.pyplot as plt\n",
    "\n",
    "#Carga de NLTK\n",
    "import nltk\n",
    "import string"
   ]
  },
  {
   "cell_type": "code",
   "execution_count": 44,
   "metadata": {},
   "outputs": [],
   "source": [
    "def read_tsv(direccion):\n",
    "    import csv\n",
    "    tsv_file = open(direccion)\n",
    "    read_tsv = csv.reader(tsv_file, delimiter= \"\\t\")\n",
    "    lista = [row for row in read_tsv]\n",
    "    tsv_file.close()\n",
    "    return(spark.sparkContext.parallelize(lista))\n",
    "\n",
    "def read_txt(direccion):\n",
    "    import csv\n",
    "    txt_file = open(direccion)\n",
    "    read_tsv = csv.reader(txt_file, delimiter= \"\\t\")\n",
    "    lista = [row for row in read_tsv]\n",
    "    txt_file.close()\n",
    "    return(spark.sparkContext.parallelize(lista))"
   ]
  },
  {
   "cell_type": "code",
   "execution_count": 45,
   "metadata": {},
   "outputs": [],
   "source": [
    "# Importamos datos:\n",
    "\n",
    "character = read_tsv('MovieSummaries/character.metadata.tsv')\n",
    "movie = read_tsv('MovieSummaries/movie.metadata.tsv')"
   ]
  },
  {
   "cell_type": "code",
   "execution_count": 51,
   "metadata": {},
   "outputs": [],
   "source": [
    "name = read_txt('MovieSummaries/name.clusters.txt')\n",
    "tvtropes = read_txt('MovieSummaries/tvtropes.clusters.txt')\n",
    "plot_summaries =read_txt('MovieSummaries/plot_summaries.txt')"
   ]
  },
  {
   "cell_type": "markdown",
   "metadata": {},
   "source": [
    "¿Cual es género más visto?"
   ]
  },
  {
   "cell_type": "code",
   "execution_count": 125,
   "metadata": {},
   "outputs": [],
   "source": [
    "def sep_gen(renglon):\n",
    "    renglon_separado = renglon[8]\n",
    "    import re\n",
    "    generos = re.findall(r'\"([\\w\\s]+)\"', renglon_separado)\n",
    "    for g in generos:\n",
    "        yield g"
   ]
  },
  {
   "cell_type": "code",
   "execution_count": 139,
   "metadata": {},
   "outputs": [
    {
     "name": "stderr",
     "output_type": "stream",
     "text": [
      "22/02/26 00:37:11 WARN TaskSetManager: Stage 61 contains a task of very large size (4397 KiB). The maximum recommended task size is 1000 KiB.\n",
      "                                                                                \r"
     ]
    }
   ],
   "source": [
    "genere = movie.flatMap(sep_gen)\n",
    "genere = genere.map(lambda renglon: (renglon, 1))\n",
    "# Conteo\n",
    "genere_count = genere.reduceByKey(lambda val_1 , val_2: val_1 + val_2).sortBy(lambda renglon: renglon[1], ascending = False)"
   ]
  },
  {
   "cell_type": "code",
   "execution_count": 140,
   "metadata": {},
   "outputs": [
    {
     "data": {
      "text/plain": [
       "[('Drama', 34007),\n",
       " ('Comedy', 16349),\n",
       " ('Romance Film', 10234),\n",
       " ('Action', 8798),\n",
       " ('Thriller', 8744),\n",
       " ('Short Film', 8141),\n",
       " ('World cinema', 7155),\n",
       " ('Crime Fiction', 6948),\n",
       " ('Indie', 6897),\n",
       " ('Documentary', 5630)]"
      ]
     },
     "execution_count": 140,
     "metadata": {},
     "output_type": "execute_result"
    }
   ],
   "source": [
    "genere_count.take(10)"
   ]
  }
 ],
 "metadata": {
  "interpreter": {
   "hash": "dace54320b3e5d10a320680296c22e4020a583bcc2297e7e554010d74f6aaf0c"
  },
  "kernelspec": {
   "display_name": "Python 3.9.2 64-bit ('3.9.2')",
   "language": "python",
   "name": "python3"
  },
  "language_info": {
   "codemirror_mode": {
    "name": "ipython",
    "version": 3
   },
   "file_extension": ".py",
   "mimetype": "text/x-python",
   "name": "python",
   "nbconvert_exporter": "python",
   "pygments_lexer": "ipython3",
   "version": "3.9.10"
  },
  "orig_nbformat": 4
 },
 "nbformat": 4,
 "nbformat_minor": 2
}
