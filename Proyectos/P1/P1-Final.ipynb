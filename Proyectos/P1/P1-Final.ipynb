{
  "cells": [
    {
      "cell_type": "markdown",
      "metadata": {
        "id": "hBvd6QaHbp2N"
      },
      "source": [
        "# Mini Proyecto\n",
        "\n",
        "datos: https://www.cs.cmu.edu/~ark/personas/"
      ]
    },
    {
      "cell_type": "code",
      "execution_count": 10,
      "metadata": {
        "id": "knejH5JGbp2V"
      },
      "outputs": [],
      "source": [
        "# Librerias\n",
        "\n",
        "import pandas as pd\n",
        "import pyspark\n",
        "# Cargar Funciones Extra\n",
        "from pyspark.sql.functions import * \n",
        "from pyspark.sql import SparkSession\n",
        "\n",
        "spark = SparkSession.builder.appName('Proyecto_1').getOrCreate()"
      ]
    },
    {
      "cell_type": "code",
      "execution_count": 11,
      "metadata": {
        "colab": {
          "base_uri": "https://localhost:8080/"
        },
        "id": "PF1vrYVVbp2Z",
        "outputId": "9ff8301f-d25e-40ce-a9fa-9087df790748"
      },
      "outputs": [
        {
          "name": "stderr",
          "output_type": "stream",
          "text": [
            "[nltk_data] Downloading package stopwords to\n",
            "[nltk_data]     /Users/danielfragoso/nltk_data...\n",
            "[nltk_data]   Package stopwords is already up-to-date!\n"
          ]
        }
      ],
      "source": [
        "#Carga de bibliotecas extras\n",
        "import numpy as np\n",
        "import matplotlib.pyplot as plt\n",
        "\n",
        "#Carga de NLTK\n",
        "import nltk\n",
        "import nltk\n",
        "nltk.download('stopwords')\n",
        "import string"
      ]
    },
    {
      "cell_type": "markdown",
      "metadata": {
        "id": "wlGewQysk8NF"
      },
      "source": [
        "Generación de Funciones auxiliares para limpiar algunos registros que se utilizaran posteriormente."
      ]
    },
    {
      "cell_type": "code",
      "execution_count": 12,
      "metadata": {
        "id": "ePgpFwtpbp2a"
      },
      "outputs": [],
      "source": [
        "# Lectura de datos TSV\n",
        "def read_tsv(direccion):\n",
        "    import csv\n",
        "    tsv_file = open(direccion)\n",
        "    read_tsv = csv.reader(tsv_file, delimiter= \"\\t\")\n",
        "    lista = [row for row in read_tsv]\n",
        "    tsv_file.close()\n",
        "    return(spark.sparkContext.parallelize(lista))\n",
        "\n",
        "# Lectura de datos TXT\n",
        "def read_txt(direccion):\n",
        "    import csv\n",
        "    txt_file = open(direccion)\n",
        "    read_tsv = csv.reader(txt_file, delimiter= \"\\t\")\n",
        "    lista = [row for row in read_tsv]\n",
        "    txt_file.close()\n",
        "    return(spark.sparkContext.parallelize(lista))"
      ]
    },
    {
      "cell_type": "code",
      "execution_count": 13,
      "metadata": {
        "id": "GYHp13Aybp2b"
      },
      "outputs": [],
      "source": [
        "# Importamos datos:\n",
        "\n",
        "character = read_tsv('MovieSummaries/character.metadata.tsv')\n",
        "movie = read_tsv('MovieSummaries/movie.metadata.tsv')"
      ]
    },
    {
      "cell_type": "code",
      "execution_count": null,
      "metadata": {},
      "outputs": [],
      "source": []
    },
    {
      "cell_type": "code",
      "execution_count": 14,
      "metadata": {
        "id": "TLE4yHFsbp2c"
      },
      "outputs": [],
      "source": [
        "name = read_txt('MovieSummaries/name.clusters.txt')\n",
        "tvtropes = read_txt('MovieSummaries/tvtropes.clusters.txt')\n",
        "plot_summaries =read_txt('MovieSummaries/plot_summaries.txt')"
      ]
    },
    {
      "cell_type": "markdown",
      "metadata": {
        "id": "kmhanD6vbp2d"
      },
      "source": [
        "## ¿Cual es género más visto?"
      ]
    },
    {
      "cell_type": "code",
      "execution_count": 15,
      "metadata": {
        "id": "AfhWsBBtbp2f"
      },
      "outputs": [],
      "source": [
        "# Función que divide los géneros.\n",
        "\n",
        "def sep_gen(renglon):\n",
        "    renglon_separado = renglon[8]\n",
        "    import re\n",
        "    generos = re.findall(r'\"([\\w\\s]+)\"', renglon_separado)\n",
        "    for g in generos:\n",
        "        yield g"
      ]
    },
    {
      "cell_type": "code",
      "execution_count": 16,
      "metadata": {
        "id": "T4Fp0x6zbp2g"
      },
      "outputs": [
        {
          "name": "stderr",
          "output_type": "stream",
          "text": [
            "22/02/28 22:30:19 WARN TaskSetManager: Stage 0 contains a task of very large size (4397 KiB). The maximum recommended task size is 1000 KiB.\n",
            "                                                                                \r"
          ]
        }
      ],
      "source": [
        "genere = movie.flatMap(sep_gen)\n",
        "genere = genere.map(lambda renglon: (renglon, 1))\n",
        "# Conteo\n",
        "genere_count = genere.reduceByKey(lambda val_1 , val_2: val_1 + val_2).sortBy(lambda renglon: renglon[1], ascending = False)"
      ]
    },
    {
      "cell_type": "code",
      "execution_count": 17,
      "metadata": {
        "id": "cCiiCfWSbp2j"
      },
      "outputs": [
        {
          "data": {
            "text/plain": [
              "[('Drama', 34007),\n",
              " ('Comedy', 16349),\n",
              " ('Romance Film', 10234),\n",
              " ('Action', 8798),\n",
              " ('Thriller', 8744),\n",
              " ('Short Film', 8141),\n",
              " ('World cinema', 7155),\n",
              " ('Crime Fiction', 6948),\n",
              " ('Indie', 6897),\n",
              " ('Documentary', 5630)]"
            ]
          },
          "execution_count": 17,
          "metadata": {},
          "output_type": "execute_result"
        }
      ],
      "source": [
        "genere_count.take(10)"
      ]
    },
    {
      "cell_type": "markdown",
      "metadata": {
        "id": "9hFvs_szbp2k"
      },
      "source": [
        "## La palabra más larga de las descripciones\n",
        "\n",
        "\n"
      ]
    },
    {
      "cell_type": "code",
      "execution_count": 18,
      "metadata": {
        "id": "dMkQIqvzbp2m"
      },
      "outputs": [],
      "source": [
        "# Comparación de Strings\n",
        "def com_string(x, y):\n",
        "    if len(x) > len(y):\n",
        "        return x\n",
        "    return y\n",
        "  \n",
        "#Eliminacion de url's\n",
        "def del_url(renglon):\n",
        "    import re\n",
        "    generos = re.sub(r'http\\S+', ' ', renglon)\n",
        "    return generos"
      ]
    },
    {
      "cell_type": "code",
      "execution_count": 19,
      "metadata": {
        "id": "ow_8QxpCbp2n"
      },
      "outputs": [],
      "source": [
        "desc = plot_summaries.map(lambda x: x[1])\n",
        "desc = desc.map(del_url)"
      ]
    },
    {
      "cell_type": "code",
      "execution_count": 20,
      "metadata": {
        "id": "_VsKJbCGbp2o"
      },
      "outputs": [],
      "source": [
        "# Reduzcammos a palabras\n",
        "\n",
        "words = desc.map(lambda x: x.split(' '))\n",
        "\n",
        "#Eliminamos signos de puntuación y espacios en blanco\n",
        "import string\n",
        "def removePunctuationsFunct(x):\n",
        "    list_punct=list(string.punctuation)\n",
        "    filtered = [''.join(c for c in s if c not in list_punct) for s in x] \n",
        "    filtered_space = [s for s in filtered if s] #remove empty space \n",
        "    return filtered\n",
        "\n",
        "#Removemos stopwords (palabras vacias)\n",
        "def removeStopWordsFunct(x):\n",
        "    from nltk.corpus import stopwords\n",
        "    stop_words=set(stopwords.words('english'))\n",
        "    filteredSentence = [w for w in x if not w in stop_words]\n",
        "    return filteredSentence\n",
        "\n",
        "words = words.map(removeStopWordsFunct)\n",
        "words = words.map(removePunctuationsFunct)\n"
      ]
    },
    {
      "cell_type": "code",
      "execution_count": 21,
      "metadata": {
        "id": "8Wy5QAfbbp2q"
      },
      "outputs": [],
      "source": [
        "def sep(renglon):\n",
        "    for g in renglon:\n",
        "        return g\n",
        "\n",
        "words_sep = words.map(sep)"
      ]
    },
    {
      "cell_type": "code",
      "execution_count": 22,
      "metadata": {
        "id": "Srf-lNlmbp2r"
      },
      "outputs": [
        {
          "name": "stderr",
          "output_type": "stream",
          "text": [
            "22/02/28 22:30:40 WARN TaskSetManager: Stage 7 contains a task of very large size (18273 KiB). The maximum recommended task size is 1000 KiB.\n",
            "                                                                                \r"
          ]
        }
      ],
      "source": [
        "word_legth = words_sep.reduce(com_string)"
      ]
    },
    {
      "cell_type": "code",
      "execution_count": 23,
      "metadata": {
        "id": "WsbwMUbObp2s"
      },
      "outputs": [
        {
          "data": {
            "text/plain": [
              "'PlotdatePrologueThursdayMondaySaturdayTuesdayFridaySundayWednesdayEpilogue'"
            ]
          },
          "execution_count": 23,
          "metadata": {},
          "output_type": "execute_result"
        }
      ],
      "source": [
        "word_legth"
      ]
    },
    {
      "cell_type": "markdown",
      "metadata": {
        "id": "7CmIjR-lbp2t"
      },
      "source": [
        "## Contar el número de veces que aparece la palabra 'war' en la descripción "
      ]
    },
    {
      "cell_type": "code",
      "execution_count": 24,
      "metadata": {
        "id": "4ub2zWUxbp2t"
      },
      "outputs": [],
      "source": [
        "cont = plot_summaries.map(lambda x: (x[0], x[1].split(' ')))\n",
        "cont = cont.map(lambda x: (x[0], removeStopWordsFunct(x[1])))\n",
        "cont = cont.map(lambda x: (x[0], removePunctuationsFunct(x[1])))"
      ]
    },
    {
      "cell_type": "code",
      "execution_count": 25,
      "metadata": {
        "id": "DQHo2r_3bp2t"
      },
      "outputs": [],
      "source": [
        "cont_war = cont.map(lambda x: (x[0], x[1].count('war')))"
      ]
    },
    {
      "cell_type": "code",
      "execution_count": 26,
      "metadata": {
        "id": "kIXZPCdlbp2u"
      },
      "outputs": [
        {
          "name": "stderr",
          "output_type": "stream",
          "text": [
            "22/02/28 22:32:52 WARN TaskSetManager: Stage 8 contains a task of very large size (18273 KiB). The maximum recommended task size is 1000 KiB.\n",
            "22/02/28 22:34:29 WARN TaskSetManager: Stage 9 contains a task of very large size (18273 KiB). The maximum recommended task size is 1000 KiB.\n",
            "                                                                                \r"
          ]
        }
      ],
      "source": [
        "cont_war = cont_war.sortBy(lambda renglon: renglon[1], ascending = False)"
      ]
    },
    {
      "cell_type": "code",
      "execution_count": 27,
      "metadata": {
        "id": "8DY2I8Z8bp2v"
      },
      "outputs": [
        {
          "name": "stderr",
          "output_type": "stream",
          "text": [
            "22/02/28 22:35:49 WARN TaskSetManager: Stage 10 contains a task of very large size (18273 KiB). The maximum recommended task size is 1000 KiB.\n",
            "                                                                                \r"
          ]
        },
        {
          "data": {
            "text/plain": [
              "[('886892', 10),\n",
              " ('3843721', 9),\n",
              " ('3653120', 8),\n",
              " ('3903364', 8),\n",
              " ('1432805', 8)]"
            ]
          },
          "execution_count": 27,
          "metadata": {},
          "output_type": "execute_result"
        }
      ],
      "source": [
        "cont_war.take(5)"
      ]
    },
    {
      "cell_type": "code",
      "execution_count": 28,
      "metadata": {
        "id": "qNSG808Ybp2w"
      },
      "outputs": [],
      "source": [
        "war_movies = cont_war.filter(lambda renglon: renglon[1] > 5)"
      ]
    },
    {
      "cell_type": "markdown",
      "metadata": {
        "id": "TkPMxKHMbp2x"
      },
      "source": [
        "## ¿Cual es la película que más menciona 'war' en su descripción?"
      ]
    },
    {
      "cell_type": "code",
      "execution_count": 29,
      "metadata": {
        "id": "8M_BR3U5bp2y"
      },
      "outputs": [
        {
          "name": "stderr",
          "output_type": "stream",
          "text": [
            "22/02/28 22:37:16 WARN TaskSetManager: Stage 12 contains a task of very large size (4397 KiB). The maximum recommended task size is 1000 KiB.\n"
          ]
        },
        {
          "data": {
            "text/plain": [
              "[['886892',\n",
              "  '/m/03lv4x',\n",
              "  'Breaker Morant',\n",
              "  '1980',\n",
              "  '4735000',\n",
              "  '107.0',\n",
              "  '{\"/m/02h40lc\": \"English Language\"}',\n",
              "  '{\"/m/0chghy\": \"Australia\", \"/m/0ctw_b\": \"New Zealand\"}',\n",
              "  '{\"/m/01fc50\": \"Anti-war\", \"/m/0hj3mx2\": \"British Empire Film\", \"/m/03g3w\": \"History\", \"/m/04xvlr\": \"Period piece\", \"/m/07s9rl0\": \"Drama\", \"/m/082gq\": \"War film\", \"/m/07k67c\": \"Anti-war film\", \"/m/05bh16v\": \"Courtroom Drama\"}']]"
            ]
          },
          "execution_count": 29,
          "metadata": {},
          "output_type": "execute_result"
        }
      ],
      "source": [
        "movie.filter(lambda x: x[0] == '886892').take(1)"
      ]
    },
    {
      "cell_type": "markdown",
      "metadata": {
        "id": "VlUuRbq0bp2z"
      },
      "source": [
        "<img src='MovieSummaries/Breaker_morant.png'>"
      ]
    },
    {
      "cell_type": "markdown",
      "metadata": {
        "id": "Wc6qlrExbp2z"
      },
      "source": [
        "## ¿De que país provienen principalmente las películas de guerra?"
      ]
    },
    {
      "cell_type": "code",
      "execution_count": 30,
      "metadata": {
        "id": "071kdTcQbp20"
      },
      "outputs": [
        {
          "data": {
            "text/plain": [
              "[('886892', 10),\n",
              " ('3843721', 9),\n",
              " ('3653120', 8),\n",
              " ('3903364', 8),\n",
              " ('1432805', 8)]"
            ]
          },
          "execution_count": 30,
          "metadata": {},
          "output_type": "execute_result"
        }
      ],
      "source": [
        "war_movies.take(5)"
      ]
    },
    {
      "cell_type": "code",
      "execution_count": 31,
      "metadata": {
        "id": "ymGxHAC4bp20"
      },
      "outputs": [
        {
          "name": "stderr",
          "output_type": "stream",
          "text": [
            "22/02/28 22:37:17 WARN TaskSetManager: Stage 15 contains a task of very large size (4397 KiB). The maximum recommended task size is 1000 KiB.\n"
          ]
        },
        {
          "data": {
            "text/plain": [
              "[('975900', '{\"/m/09c7w0\": \"United States of America\"}')]"
            ]
          },
          "execution_count": 31,
          "metadata": {},
          "output_type": "execute_result"
        }
      ],
      "source": [
        "country = movie.map(lambda x: (x[0], x[7]))\n",
        "country.take(1)"
      ]
    },
    {
      "cell_type": "code",
      "execution_count": 32,
      "metadata": {
        "id": "H8LzG7aubp21"
      },
      "outputs": [],
      "source": [
        "country_war = country.join(war_movies)"
      ]
    },
    {
      "cell_type": "code",
      "execution_count": 33,
      "metadata": {
        "id": "egC3QKj7bp21"
      },
      "outputs": [],
      "source": [
        "def sep_gen_2(renglon):\n",
        "    renglon_separado = renglon[0]\n",
        "    import re\n",
        "    generos = re.findall(r'\"([\\w\\s]+)\"', renglon_separado)\n",
        "    for g in generos:\n",
        "        yield g"
      ]
    },
    {
      "cell_type": "code",
      "execution_count": 34,
      "metadata": {
        "id": "yYvxe6C6bp21"
      },
      "outputs": [],
      "source": [
        "country_war = country_war.flatMap(lambda x: sep_gen_2(x[1]))"
      ]
    },
    {
      "cell_type": "code",
      "execution_count": 35,
      "metadata": {
        "id": "dJYcha_5bp21"
      },
      "outputs": [
        {
          "name": "stderr",
          "output_type": "stream",
          "text": [
            "22/02/28 22:37:20 WARN TaskSetManager: Stage 17 contains a task of very large size (4397 KiB). The maximum recommended task size is 1000 KiB.\n",
            "                                                                                \r"
          ]
        }
      ],
      "source": [
        "country_war_cont = country_war.map(lambda x: (x, 1)).reduceByKey(lambda val_1 , val_2: val_1 + val_2).sortBy(lambda renglon: renglon[1], ascending = False)"
      ]
    },
    {
      "cell_type": "code",
      "execution_count": 36,
      "metadata": {
        "id": "_wbvsLrlbp22"
      },
      "outputs": [
        {
          "data": {
            "text/plain": [
              "[('United States of America', 12),\n",
              " ('United Kingdom', 6),\n",
              " ('Japan', 4),\n",
              " ('Canada', 2),\n",
              " ('Serbia', 2),\n",
              " ('Bosnia and Herzegovina', 2),\n",
              " ('Australia', 2),\n",
              " ('France', 2),\n",
              " ('Croatia', 2),\n",
              " ('Argentina', 1)]"
            ]
          },
          "execution_count": 36,
          "metadata": {},
          "output_type": "execute_result"
        }
      ],
      "source": [
        "country_war_cont.take(10)"
      ]
    },
    {
      "cell_type": "markdown",
      "metadata": {
        "id": "oeRmYin8b8LU"
      },
      "source": [
        "## ¿Qué palabras se repiten más?\n"
      ]
    },
    {
      "cell_type": "code",
      "execution_count": 37,
      "metadata": {
        "id": "Wxqwm3RUy_B4"
      },
      "outputs": [
        {
          "name": "stdout",
          "output_type": "stream",
          "text": [
            "['23890098', \"Shlykov, a hard-working taxi driver and Lyosha, a saxophonist, develop a bizarre love-hate relationship, and despite their prejudices, realize they aren't so different after all.\"]\n",
            "['31186339', 'The nation of Panem consists of a wealthy Capitol and twelve poorer districts. As punishment for a past rebellion, each district must provide a boy and girl  between the ages of 12 and 18 selected by lottery  for the annual Hunger Games. The tributes must fight to the death in an arena; the sole survivor is rewarded with fame and wealth. In her first Reaping, 12-year-old Primrose Everdeen is chosen from District 12. Her older sister Katniss volunteers to take her place. Peeta Mellark, a baker\\'s son who once gave Katniss bread when she was starving, is the other District 12 tribute. Katniss and Peeta are taken to the Capitol, accompanied by their frequently drunk mentor, past victor Haymitch Abernathy. He warns them about the \"Career\" tributes who train intensively at special academies and almost always win. During a TV interview with Caesar Flickerman, Peeta unexpectedly reveals his love for Katniss. She is outraged, believing it to be a ploy to gain audience support, as \"sponsors\" may provide in-Games gifts of food, medicine, and tools. However, she discovers Peeta meant what he said. The televised Games begin with half of the tributes killed in the first few minutes; Katniss barely survives ignoring Haymitch\\'s advice to run away from the melee over the tempting supplies and weapons strewn in front of a structure called the Cornucopia. Peeta forms an uneasy alliance with the four Careers. They later find Katniss and corner her up a tree. Rue, hiding in a nearby tree, draws her attention to a poisonous tracker jacker nest hanging from a branch. Katniss drops it on her sleeping besiegers. They all scatter, except for Glimmer, who is killed by the insects. Hallucinating due to tracker jacker venom, Katniss is warned to run away by Peeta. Rue cares for Katniss for a couple of days until she recovers. Meanwhile, the alliance has gathered all the supplies into a pile. Katniss has Rue draw them off, then destroys the stockpile by setting off the mines planted around it. Furious, Cato kills the boy assigned to guard it. As Katniss runs from the scene, she hears Rue calling her name. She finds Rue trapped and releases her. Marvel, a tribute from District 1, throws a spear at Katniss, but she dodges the spear, causing it to stab Rue in the stomach instead. Katniss shoots him dead with an arrow. She then comforts the dying Rue with a song. Afterward, she gathers and arranges flowers around Rue\\'s body. When this is televised, it sparks a riot in Rue\\'s District 11. President Snow summons Seneca Crane, the Gamemaker, to express his displeasure at the way the Games are turning out. Since Katniss and Peeta have been presented to the public as \"star-crossed lovers\", Haymitch is able to convince Crane to make a rule change to avoid inciting further riots. It is announced that tributes from the same district can win as a pair. Upon hearing this, Katniss searches for Peeta and finds him with an infected sword wound in the leg. She portrays herself as deeply in love with him and gains a sponsor\\'s gift of soup. An announcer proclaims a feast, where the thing each survivor needs most will be provided. Peeta begs her not to risk getting him medicine. Katniss promises not to go, but after he falls asleep, she heads to the feast. Clove ambushes her and pins her down. As Clove gloats, Thresh, the other District 11 tribute, kills Clove after overhearing her tormenting Katniss about killing Rue. He spares Katniss \"just this time...for Rue\". The medicine works, keeping Peeta mobile. Foxface, the girl from District 5, dies from eating nightlock berries she stole from Peeta; neither knew they are highly poisonous. Crane changes the time of day in the arena to late at night and unleashes a pack of hound-like creatures to speed things up. They kill Thresh and force Katniss and Peeta to flee to the roof of the Cornucopia, where they encounter Cato. After a battle, Katniss wounds Cato with an arrow and Peeta hurls him to the creatures below. Katniss shoots Cato to spare him a prolonged death. With Peeta and Katniss apparently victorious, the rule change allowing two winners is suddenly revoked. Peeta tells Katniss to shoot him. Instead, she gives him half of the nightlock. However, before they can commit suicide, they are hastily proclaimed the victors of the 74th Hunger Games. Haymitch warns Katniss that she has made powerful enemies after her display of defiance. She and Peeta return to District 12, while Crane is locked in a room with a bowl of nightlock berries, and President Snow considers the situation.']\n",
            "['20663735', \"Poovalli Induchoodan  is sentenced for six years prison life for murdering his classmate. Induchoodan, the only son of Justice Maranchery Karunakara Menon  was framed in the case by Manapally Madhavan Nambiar  and his crony DYSP Sankaranarayanan  to take revenge on idealist judge Menon who had earlier given jail sentence to Manapally in a corruption case. Induchoodan, who had achieved top rank in Indian Civil Service loses the post and Manapally Sudheeran ([[Saikumar  enters the list of civil service trainees. We learn in flashback that it was Ramakrishnan  the son of Moopil Nair , who had actually killed his classmate. Six years passes by and Manapally Madhavan Nambiar, now a former state minister, is dead and Induchoodan, who is all rage at the gross injustice meted out to him - thus destroying his promising life, is released from prison. Induchoodan thwarts Manapally Pavithran  from performing the funeral rituals of Nambiar at Bharathapuzha. Many confrontations between Induchoodan and Manapally's henchmen follow. Induchoodan also falls in love with Anuradha ([[Aishwarya , the strong-willed and independent-minded daughter of Mooppil Nair. Justice Menon and his wife returns back to Kerala to stay with Induchoodan. There is an appearance of a girl named Indulekha ([[Kanaka , who claims to be the daughter of Justice Menon. Menon flatly refuses the claim and banishes her. Forced by circumstances and at the instigation and help of Manapally Pavithran, she reluctantly come out open with the claim. Induchoodan at first thrashes the protesters. But upon knowing the truth from Chandrabhanu his uncle, he accepts the task of her protection in the capacity as elder brother. Induchoodan decides to marry off Indulekha to his good friend Jayakrishnan . Induchoodan has a confrontation with his father and prods him to accept mistake and acknowledge the parentage of Indulekha. Menon ultimately regrets and goes on to confess to his daughter. The very next day, when Induchoodan returns to Poovally, Indulekha is found dead and Menon is accused of murdering her. The whole act was planned by Pavithran, who after killing Indulekha, forces Raman Nair  to testify against Menon in court. In court, Nandagopal Maarar , a close friend of Induchoodan and a famous supreme court lawyer, appears for Menon and manages to lay bare the murder plot and hidden intentions of other party . Menon is judged innocent of the crime by court. After confronting Pavithran and promising just retribution to the crime of killing Indulekha, Induchoodan returns to his father, who now shows remorse for all his actions including not believing in the innocence of his son. But while speaking to Induchoodan, Menon suffers a heart stroke and passes away. At Menon's funeral, Manapally Pavithran arrives to poke fun at Induchoodan and he also tries to carry out the postponed last rituals of his own father. Induchoodan interrupts the ritual and avenges for the death of his sister and father by severely injuring Pavithran. On his way back to peaceful life, Induchoodan accepts Anuradha as his life partner.\"]\n",
            "['2231378', 'The Lemon Drop Kid , a New York City swindler, is illegally touting horses at a Florida racetrack. After several successful hustles, the Kid comes across a beautiful, but gullible, woman intending to bet a lot of money. The Kid convinces her to switch her bet, employing a prefabricated con. Unfortunately for the Kid, the woman \"belongs\" to notorious gangster Moose Moran , as does the money. The Kid\\'s choice finishes dead last and a furious Moran demands the Kid provide him with $10,000  by Christmas Eve, or the Kid \"won\\'t make it to New Year\\'s.\" The Kid decides to return to New York to try to come up with the money. He first tries his on-again, off-again girlfriend Brainy Baxter . However, when talk of long-term commitment arises, the Kid quickly makes an escape. He next visits local crime boss \"Oxford\" Charley , with whom he has had past dealings. This falls through as Charley is in serious tax trouble and does not particularly care for the Kid anyway. As he leaves Charley\\'s establishment and is about to give up hope, the Kid notices a cornerside Santa Claus and his kettle. Thinking quickly, the Kid fashions himself a Santa suit and begins collecting donations. This fails as he is recognized by a passing policeman, who remembers his previous underhanded activity well. The Kid lands in court, where he is convicted of collecting for a charity without a license and sentenced to ten days in jail . However, while in court, the Kid learns where his scheme went wrong. After a short stay, Brainy arrives to bail him out. He then sets about restarting his Santa operation, this time with legitimate backing. To this end, he needs a charity to represent and a city license. The kid receives key inspiration when he remembers that Nellie Thursday , a kindly neighborhood resident, has been denied entry to a retirement home because of her jailed husband\\'s criminal past as a safecracker. Organizing other small-time New York swindlers and Brainy, who is both surprised and charmed at the Kid\\'s apparent goodwill, the Kid converts an abandoned casino  into the \"Nellie Thursday Home For Old Dolls\". A small group of elderly women and makeshift amenities complete the project. The Kid is able to receive the all-important city license. Now free to collect, the Kid and his compatriots dress as Santa Claus and position themselves throughout Manhattan. The others are unaware that the Kid plans to keep the money for himself to pay off Moran. The scheme is a huge success, netting $2,000 in only a few days. An overjoyed Brainy decides to leave her job as a dancer and look after the \"home\" full-time until after Christmas. Coincidentally, her employer is none other than \"Oxford\" Charley, whom Brainy cheerfully informs of the effort. Seeing a potential gold mine, Charley decides to muscle in on the operation. Reasoning that the Nellie Thursday home is \"wherever Nellie Thursday is\", Charley and his crew kidnap the home\\'s inhabitants  and move them to Charley\\'s mansion in Nyack. The Kid learns of this when he returns to the home after a late night to find the home deserted and money  gone. Clued in by oversized Oxford footprints in the snow, the Kid and his friends pay Charley a visit. Here, Charley reveals the true nature of the Kid\\'s scheme through a phone conversation with Moose Moran. The Kid\\'s accomplices are angry and move to confront him, but the Kid manages to slip away. However, Brainy tracks him down outside and voices her disgust at his actions. After a few days of stewing in self-pity , the Kid is surprised to meet Nellie, who has escaped Charley\\'s compound. He decides to recover the money, sneaking into Charley\\'s home in the guise of an elderly woman. He finds that Charley and his crew are again moving the women, this time to a more secure location. Using the heightened activity to his advantage, the Kid enters Charley\\'s office and confronts him. After a brief struggle, the Kid overpowers Charley and makes off with the money, narrowly avoiding the thugs Charley has sent after him. The ensuing chaos allows Brainy and the others to escape. Later that night, the Kid returns to the original Nellie Thursday home to meet with Moose Moran . The deal appears to be in jeopardy as Moran arrives with Charley. Charley demands that the Kid reimburse him, which would leave too little for Moran. However, the Kid turns the tables by hitting a switch, revealing hidden casino tables. All are occupied, mainly by the escaped old dolls. The Kid and his still-loyal friends hold off the gangsters as the police initiate a raid. Moran and Charley are arrested while the judge who sentenced the Kid earlier warns that he will be \"keeping an eye on him\". The Kid assures him that will not be necessary and his attention will lie on the home, which is going to become a reality. The night\\'s main event begins as Nellie\\'s husband Henry, free on parole, joyously reunites with his wife.']\n",
            "['595909', 'Seventh-day Adventist Church pastor Michael Chamberlain, his wife Lindy, their two sons, and their nine-week-old daughter Azaria are on a camping holiday in the Outback. With the baby sleeping in their tent, the family is enjoying a barbecue with their fellow campers when a cry is heard. Lindy returns to the tent to check on Azaria and is certain she sees a dingo with something in its mouth running off as she approaches. When she discovers the infant is missing, everyone joins forces to search for her, without success. It is assumed what Lindy saw was the animal carrying off the child, and a subsequent inquest rules her account of events is true. The tide of public opinion soon turns against the Chamberlains. For many, Lindy seems too stoic, too cold-hearted, and too accepting of the disaster that has befallen her. Gossip about her begins to swell and soon is accepted as statements of fact. The couple\\'s beliefs are not widely practised in the country, and when the media report a rumour that the name Azaria means \"sacrifice in the wilderness\" , the public is quick to believe they decapitated their baby with a pair of scissors as part of a bizarre religious rite. Law-enforcement officials find new witnesses, forensics experts, and a lot of circumstantial evidence—including a small wooden coffin Michael uses as a receptacle for his parishioners\\' packs of un-smoked cigarettes—and reopen the investigation, and eventually Lindy is charged with murder. Seven months pregnant, she ignores her attorneys\\' advice to play on the jury\\'s sympathy and appears emotionless on the stand, convincing onlookers she is guilty of the crime of which she is accused. As the trial progresses, Michael\\'s faith in his religion and his belief in his wife disintegrate, and he stumbles through his testimony, suggesting he is concealing the truth. In October 1982, Lindy is found guilty and sentenced to life imprisonment with hard labour, while Michael is found guilty as an accessory and given an 18-month suspended sentence. More than three years later, while searching for the body of an English tourist who fell from Uluru, police discover a small item of clothing that is identified as the jacket Lindy had insisted Azaria was wearing over her jumpsuit, which had been recovered early in the investigation. She is immediately released from prison, the case reopened and all convictions against the Chamberlains overturned.']\n"
          ]
        },
        {
          "name": "stderr",
          "output_type": "stream",
          "text": [
            "22/02/28 22:37:25 WARN TaskSetManager: Stage 39 contains a task of very large size (18273 KiB). The maximum recommended task size is 1000 KiB.\n"
          ]
        }
      ],
      "source": [
        "# Visualización de RDD con datos\n",
        "for letra in plot_summaries.take(5):\n",
        "  print(letra)"
      ]
    },
    {
      "cell_type": "code",
      "execution_count": 38,
      "metadata": {
        "id": "nVhFB0fGyw_b"
      },
      "outputs": [
        {
          "name": "stdout",
          "output_type": "stream",
          "text": [
            "shlykov, a hard-working taxi driver and lyosha, a saxophonist, develop a bizarre love-hate relationship, and despite their prejudices, realize they aren't so different after all.\n",
            "the nation of panem consists of a wealthy capitol and twelve poorer districts. as punishment for a past rebellion, each district must provide a boy and girl  between the ages of 12 and 18 selected by lottery  for the annual hunger games. the tributes must fight to the death in an arena; the sole survivor is rewarded with fame and wealth. in her first reaping, 12-year-old primrose everdeen is chosen from district 12. her older sister katniss volunteers to take her place. peeta mellark, a baker's son who once gave katniss bread when she was starving, is the other district 12 tribute. katniss and peeta are taken to the capitol, accompanied by their frequently drunk mentor, past victor haymitch abernathy. he warns them about the \"career\" tributes who train intensively at special academies and almost always win. during a tv interview with caesar flickerman, peeta unexpectedly reveals his love for katniss. she is outraged, believing it to be a ploy to gain audience support, as \"sponsors\" may provide in-games gifts of food, medicine, and tools. however, she discovers peeta meant what he said. the televised games begin with half of the tributes killed in the first few minutes; katniss barely survives ignoring haymitch's advice to run away from the melee over the tempting supplies and weapons strewn in front of a structure called the cornucopia. peeta forms an uneasy alliance with the four careers. they later find katniss and corner her up a tree. rue, hiding in a nearby tree, draws her attention to a poisonous tracker jacker nest hanging from a branch. katniss drops it on her sleeping besiegers. they all scatter, except for glimmer, who is killed by the insects. hallucinating due to tracker jacker venom, katniss is warned to run away by peeta. rue cares for katniss for a couple of days until she recovers. meanwhile, the alliance has gathered all the supplies into a pile. katniss has rue draw them off, then destroys the stockpile by setting off the mines planted around it. furious, cato kills the boy assigned to guard it. as katniss runs from the scene, she hears rue calling her name. she finds rue trapped and releases her. marvel, a tribute from district 1, throws a spear at katniss, but she dodges the spear, causing it to stab rue in the stomach instead. katniss shoots him dead with an arrow. she then comforts the dying rue with a song. afterward, she gathers and arranges flowers around rue's body. when this is televised, it sparks a riot in rue's district 11. president snow summons seneca crane, the gamemaker, to express his displeasure at the way the games are turning out. since katniss and peeta have been presented to the public as \"star-crossed lovers\", haymitch is able to convince crane to make a rule change to avoid inciting further riots. it is announced that tributes from the same district can win as a pair. upon hearing this, katniss searches for peeta and finds him with an infected sword wound in the leg. she portrays herself as deeply in love with him and gains a sponsor's gift of soup. an announcer proclaims a feast, where the thing each survivor needs most will be provided. peeta begs her not to risk getting him medicine. katniss promises not to go, but after he falls asleep, she heads to the feast. clove ambushes her and pins her down. as clove gloats, thresh, the other district 11 tribute, kills clove after overhearing her tormenting katniss about killing rue. he spares katniss \"just this time...for rue\". the medicine works, keeping peeta mobile. foxface, the girl from district 5, dies from eating nightlock berries she stole from peeta; neither knew they are highly poisonous. crane changes the time of day in the arena to late at night and unleashes a pack of hound-like creatures to speed things up. they kill thresh and force katniss and peeta to flee to the roof of the cornucopia, where they encounter cato. after a battle, katniss wounds cato with an arrow and peeta hurls him to the creatures below. katniss shoots cato to spare him a prolonged death. with peeta and katniss apparently victorious, the rule change allowing two winners is suddenly revoked. peeta tells katniss to shoot him. instead, she gives him half of the nightlock. however, before they can commit suicide, they are hastily proclaimed the victors of the 74th hunger games. haymitch warns katniss that she has made powerful enemies after her display of defiance. she and peeta return to district 12, while crane is locked in a room with a bowl of nightlock berries, and president snow considers the situation.\n",
            "poovalli induchoodan  is sentenced for six years prison life for murdering his classmate. induchoodan, the only son of justice maranchery karunakara menon  was framed in the case by manapally madhavan nambiar  and his crony dysp sankaranarayanan  to take revenge on idealist judge menon who had earlier given jail sentence to manapally in a corruption case. induchoodan, who had achieved top rank in indian civil service loses the post and manapally sudheeran ([[saikumar  enters the list of civil service trainees. we learn in flashback that it was ramakrishnan  the son of moopil nair , who had actually killed his classmate. six years passes by and manapally madhavan nambiar, now a former state minister, is dead and induchoodan, who is all rage at the gross injustice meted out to him - thus destroying his promising life, is released from prison. induchoodan thwarts manapally pavithran  from performing the funeral rituals of nambiar at bharathapuzha. many confrontations between induchoodan and manapally's henchmen follow. induchoodan also falls in love with anuradha ([[aishwarya , the strong-willed and independent-minded daughter of mooppil nair. justice menon and his wife returns back to kerala to stay with induchoodan. there is an appearance of a girl named indulekha ([[kanaka , who claims to be the daughter of justice menon. menon flatly refuses the claim and banishes her. forced by circumstances and at the instigation and help of manapally pavithran, she reluctantly come out open with the claim. induchoodan at first thrashes the protesters. but upon knowing the truth from chandrabhanu his uncle, he accepts the task of her protection in the capacity as elder brother. induchoodan decides to marry off indulekha to his good friend jayakrishnan . induchoodan has a confrontation with his father and prods him to accept mistake and acknowledge the parentage of indulekha. menon ultimately regrets and goes on to confess to his daughter. the very next day, when induchoodan returns to poovally, indulekha is found dead and menon is accused of murdering her. the whole act was planned by pavithran, who after killing indulekha, forces raman nair  to testify against menon in court. in court, nandagopal maarar , a close friend of induchoodan and a famous supreme court lawyer, appears for menon and manages to lay bare the murder plot and hidden intentions of other party . menon is judged innocent of the crime by court. after confronting pavithran and promising just retribution to the crime of killing indulekha, induchoodan returns to his father, who now shows remorse for all his actions including not believing in the innocence of his son. but while speaking to induchoodan, menon suffers a heart stroke and passes away. at menon's funeral, manapally pavithran arrives to poke fun at induchoodan and he also tries to carry out the postponed last rituals of his own father. induchoodan interrupts the ritual and avenges for the death of his sister and father by severely injuring pavithran. on his way back to peaceful life, induchoodan accepts anuradha as his life partner.\n",
            "the lemon drop kid , a new york city swindler, is illegally touting horses at a florida racetrack. after several successful hustles, the kid comes across a beautiful, but gullible, woman intending to bet a lot of money. the kid convinces her to switch her bet, employing a prefabricated con. unfortunately for the kid, the woman \"belongs\" to notorious gangster moose moran , as does the money. the kid's choice finishes dead last and a furious moran demands the kid provide him with $10,000  by christmas eve, or the kid \"won't make it to new year's.\" the kid decides to return to new york to try to come up with the money. he first tries his on-again, off-again girlfriend brainy baxter . however, when talk of long-term commitment arises, the kid quickly makes an escape. he next visits local crime boss \"oxford\" charley , with whom he has had past dealings. this falls through as charley is in serious tax trouble and does not particularly care for the kid anyway. as he leaves charley's establishment and is about to give up hope, the kid notices a cornerside santa claus and his kettle. thinking quickly, the kid fashions himself a santa suit and begins collecting donations. this fails as he is recognized by a passing policeman, who remembers his previous underhanded activity well. the kid lands in court, where he is convicted of collecting for a charity without a license and sentenced to ten days in jail . however, while in court, the kid learns where his scheme went wrong. after a short stay, brainy arrives to bail him out. he then sets about restarting his santa operation, this time with legitimate backing. to this end, he needs a charity to represent and a city license. the kid receives key inspiration when he remembers that nellie thursday , a kindly neighborhood resident, has been denied entry to a retirement home because of her jailed husband's criminal past as a safecracker. organizing other small-time new york swindlers and brainy, who is both surprised and charmed at the kid's apparent goodwill, the kid converts an abandoned casino  into the \"nellie thursday home for old dolls\". a small group of elderly women and makeshift amenities complete the project. the kid is able to receive the all-important city license. now free to collect, the kid and his compatriots dress as santa claus and position themselves throughout manhattan. the others are unaware that the kid plans to keep the money for himself to pay off moran. the scheme is a huge success, netting $2,000 in only a few days. an overjoyed brainy decides to leave her job as a dancer and look after the \"home\" full-time until after christmas. coincidentally, her employer is none other than \"oxford\" charley, whom brainy cheerfully informs of the effort. seeing a potential gold mine, charley decides to muscle in on the operation. reasoning that the nellie thursday home is \"wherever nellie thursday is\", charley and his crew kidnap the home's inhabitants  and move them to charley's mansion in nyack. the kid learns of this when he returns to the home after a late night to find the home deserted and money  gone. clued in by oversized oxford footprints in the snow, the kid and his friends pay charley a visit. here, charley reveals the true nature of the kid's scheme through a phone conversation with moose moran. the kid's accomplices are angry and move to confront him, but the kid manages to slip away. however, brainy tracks him down outside and voices her disgust at his actions. after a few days of stewing in self-pity , the kid is surprised to meet nellie, who has escaped charley's compound. he decides to recover the money, sneaking into charley's home in the guise of an elderly woman. he finds that charley and his crew are again moving the women, this time to a more secure location. using the heightened activity to his advantage, the kid enters charley's office and confronts him. after a brief struggle, the kid overpowers charley and makes off with the money, narrowly avoiding the thugs charley has sent after him. the ensuing chaos allows brainy and the others to escape. later that night, the kid returns to the original nellie thursday home to meet with moose moran . the deal appears to be in jeopardy as moran arrives with charley. charley demands that the kid reimburse him, which would leave too little for moran. however, the kid turns the tables by hitting a switch, revealing hidden casino tables. all are occupied, mainly by the escaped old dolls. the kid and his still-loyal friends hold off the gangsters as the police initiate a raid. moran and charley are arrested while the judge who sentenced the kid earlier warns that he will be \"keeping an eye on him\". the kid assures him that will not be necessary and his attention will lie on the home, which is going to become a reality. the night's main event begins as nellie's husband henry, free on parole, joyously reunites with his wife.\n",
            "seventh-day adventist church pastor michael chamberlain, his wife lindy, their two sons, and their nine-week-old daughter azaria are on a camping holiday in the outback. with the baby sleeping in their tent, the family is enjoying a barbecue with their fellow campers when a cry is heard. lindy returns to the tent to check on azaria and is certain she sees a dingo with something in its mouth running off as she approaches. when she discovers the infant is missing, everyone joins forces to search for her, without success. it is assumed what lindy saw was the animal carrying off the child, and a subsequent inquest rules her account of events is true. the tide of public opinion soon turns against the chamberlains. for many, lindy seems too stoic, too cold-hearted, and too accepting of the disaster that has befallen her. gossip about her begins to swell and soon is accepted as statements of fact. the couple's beliefs are not widely practised in the country, and when the media report a rumour that the name azaria means \"sacrifice in the wilderness\" , the public is quick to believe they decapitated their baby with a pair of scissors as part of a bizarre religious rite. law-enforcement officials find new witnesses, forensics experts, and a lot of circumstantial evidence—including a small wooden coffin michael uses as a receptacle for his parishioners' packs of un-smoked cigarettes—and reopen the investigation, and eventually lindy is charged with murder. seven months pregnant, she ignores her attorneys' advice to play on the jury's sympathy and appears emotionless on the stand, convincing onlookers she is guilty of the crime of which she is accused. as the trial progresses, michael's faith in his religion and his belief in his wife disintegrate, and he stumbles through his testimony, suggesting he is concealing the truth. in october 1982, lindy is found guilty and sentenced to life imprisonment with hard labour, while michael is found guilty as an accessory and given an 18-month suspended sentence. more than three years later, while searching for the body of an english tourist who fell from uluru, police discover a small item of clothing that is identified as the jacket lindy had insisted azaria was wearing over her jumpsuit, which had been recovered early in the investigation. she is immediately released from prison, the case reopened and all convictions against the chamberlains overturned.\n"
          ]
        },
        {
          "name": "stderr",
          "output_type": "stream",
          "text": [
            "22/02/28 22:37:26 WARN TaskSetManager: Stage 40 contains a task of very large size (18273 KiB). The maximum recommended task size is 1000 KiB.\n"
          ]
        }
      ],
      "source": [
        "# Transformar textos a minúsculas\n",
        "plot_summaries_minus = plot_summaries.map(lambda x: (x[1].lower()))\n",
        "\n",
        "for letra in plot_summaries_minus.take(5):\n",
        "  print(letra)"
      ]
    },
    {
      "cell_type": "code",
      "execution_count": 39,
      "metadata": {
        "id": "WmLxVlI1Z8a2"
      },
      "outputs": [
        {
          "name": "stdout",
          "output_type": "stream",
          "text": [
            "['shlykov,', 'a', 'hard-working', 'taxi', 'driver', 'and', 'lyosha,', 'a', 'saxophonist,', 'develop', 'a', 'bizarre', 'love-hate', 'relationship,', 'and', 'despite', 'their', 'prejudices,', 'realize', 'they', \"aren't\", 'so', 'different', 'after', 'all.']\n",
            "['the', 'nation', 'of', 'panem', 'consists', 'of', 'a', 'wealthy', 'capitol', 'and', 'twelve', 'poorer', 'districts.', 'as', 'punishment', 'for', 'a', 'past', 'rebellion,', 'each', 'district', 'must', 'provide', 'a', 'boy', 'and', 'girl', '', 'between', 'the', 'ages', 'of', '12', 'and', '18', 'selected', 'by', 'lottery', '', 'for', 'the', 'annual', 'hunger', 'games.', 'the', 'tributes', 'must', 'fight', 'to', 'the', 'death', 'in', 'an', 'arena;', 'the', 'sole', 'survivor', 'is', 'rewarded', 'with', 'fame', 'and', 'wealth.', 'in', 'her', 'first', 'reaping,', '12-year-old', 'primrose', 'everdeen', 'is', 'chosen', 'from', 'district', '12.', 'her', 'older', 'sister', 'katniss', 'volunteers', 'to', 'take', 'her', 'place.', 'peeta', 'mellark,', 'a', \"baker's\", 'son', 'who', 'once', 'gave', 'katniss', 'bread', 'when', 'she', 'was', 'starving,', 'is', 'the', 'other', 'district', '12', 'tribute.', 'katniss', 'and', 'peeta', 'are', 'taken', 'to', 'the', 'capitol,', 'accompanied', 'by', 'their', 'frequently', 'drunk', 'mentor,', 'past', 'victor', 'haymitch', 'abernathy.', 'he', 'warns', 'them', 'about', 'the', '\"career\"', 'tributes', 'who', 'train', 'intensively', 'at', 'special', 'academies', 'and', 'almost', 'always', 'win.', 'during', 'a', 'tv', 'interview', 'with', 'caesar', 'flickerman,', 'peeta', 'unexpectedly', 'reveals', 'his', 'love', 'for', 'katniss.', 'she', 'is', 'outraged,', 'believing', 'it', 'to', 'be', 'a', 'ploy', 'to', 'gain', 'audience', 'support,', 'as', '\"sponsors\"', 'may', 'provide', 'in-games', 'gifts', 'of', 'food,', 'medicine,', 'and', 'tools.', 'however,', 'she', 'discovers', 'peeta', 'meant', 'what', 'he', 'said.', 'the', 'televised', 'games', 'begin', 'with', 'half', 'of', 'the', 'tributes', 'killed', 'in', 'the', 'first', 'few', 'minutes;', 'katniss', 'barely', 'survives', 'ignoring', \"haymitch's\", 'advice', 'to', 'run', 'away', 'from', 'the', 'melee', 'over', 'the', 'tempting', 'supplies', 'and', 'weapons', 'strewn', 'in', 'front', 'of', 'a', 'structure', 'called', 'the', 'cornucopia.', 'peeta', 'forms', 'an', 'uneasy', 'alliance', 'with', 'the', 'four', 'careers.', 'they', 'later', 'find', 'katniss', 'and', 'corner', 'her', 'up', 'a', 'tree.', 'rue,', 'hiding', 'in', 'a', 'nearby', 'tree,', 'draws', 'her', 'attention', 'to', 'a', 'poisonous', 'tracker', 'jacker', 'nest', 'hanging', 'from', 'a', 'branch.', 'katniss', 'drops', 'it', 'on', 'her', 'sleeping', 'besiegers.', 'they', 'all', 'scatter,', 'except', 'for', 'glimmer,', 'who', 'is', 'killed', 'by', 'the', 'insects.', 'hallucinating', 'due', 'to', 'tracker', 'jacker', 'venom,', 'katniss', 'is', 'warned', 'to', 'run', 'away', 'by', 'peeta.', 'rue', 'cares', 'for', 'katniss', 'for', 'a', 'couple', 'of', 'days', 'until', 'she', 'recovers.', 'meanwhile,', 'the', 'alliance', 'has', 'gathered', 'all', 'the', 'supplies', 'into', 'a', 'pile.', 'katniss', 'has', 'rue', 'draw', 'them', 'off,', 'then', 'destroys', 'the', 'stockpile', 'by', 'setting', 'off', 'the', 'mines', 'planted', 'around', 'it.', 'furious,', 'cato', 'kills', 'the', 'boy', 'assigned', 'to', 'guard', 'it.', 'as', 'katniss', 'runs', 'from', 'the', 'scene,', 'she', 'hears', 'rue', 'calling', 'her', 'name.', 'she', 'finds', 'rue', 'trapped', 'and', 'releases', 'her.', 'marvel,', 'a', 'tribute', 'from', 'district', '1,', 'throws', 'a', 'spear', 'at', 'katniss,', 'but', 'she', 'dodges', 'the', 'spear,', 'causing', 'it', 'to', 'stab', 'rue', 'in', 'the', 'stomach', 'instead.', 'katniss', 'shoots', 'him', 'dead', 'with', 'an', 'arrow.', 'she', 'then', 'comforts', 'the', 'dying', 'rue', 'with', 'a', 'song.', 'afterward,', 'she', 'gathers', 'and', 'arranges', 'flowers', 'around', \"rue's\", 'body.', 'when', 'this', 'is', 'televised,', 'it', 'sparks', 'a', 'riot', 'in', \"rue's\", 'district', '11.', 'president', 'snow', 'summons', 'seneca', 'crane,', 'the', 'gamemaker,', 'to', 'express', 'his', 'displeasure', 'at', 'the', 'way', 'the', 'games', 'are', 'turning', 'out.', 'since', 'katniss', 'and', 'peeta', 'have', 'been', 'presented', 'to', 'the', 'public', 'as', '\"star-crossed', 'lovers\",', 'haymitch', 'is', 'able', 'to', 'convince', 'crane', 'to', 'make', 'a', 'rule', 'change', 'to', 'avoid', 'inciting', 'further', 'riots.', 'it', 'is', 'announced', 'that', 'tributes', 'from', 'the', 'same', 'district', 'can', 'win', 'as', 'a', 'pair.', 'upon', 'hearing', 'this,', 'katniss', 'searches', 'for', 'peeta', 'and', 'finds', 'him', 'with', 'an', 'infected', 'sword', 'wound', 'in', 'the', 'leg.', 'she', 'portrays', 'herself', 'as', 'deeply', 'in', 'love', 'with', 'him', 'and', 'gains', 'a', \"sponsor's\", 'gift', 'of', 'soup.', 'an', 'announcer', 'proclaims', 'a', 'feast,', 'where', 'the', 'thing', 'each', 'survivor', 'needs', 'most', 'will', 'be', 'provided.', 'peeta', 'begs', 'her', 'not', 'to', 'risk', 'getting', 'him', 'medicine.', 'katniss', 'promises', 'not', 'to', 'go,', 'but', 'after', 'he', 'falls', 'asleep,', 'she', 'heads', 'to', 'the', 'feast.', 'clove', 'ambushes', 'her', 'and', 'pins', 'her', 'down.', 'as', 'clove', 'gloats,', 'thresh,', 'the', 'other', 'district', '11', 'tribute,', 'kills', 'clove', 'after', 'overhearing', 'her', 'tormenting', 'katniss', 'about', 'killing', 'rue.', 'he', 'spares', 'katniss', '\"just', 'this', 'time...for', 'rue\".', 'the', 'medicine', 'works,', 'keeping', 'peeta', 'mobile.', 'foxface,', 'the', 'girl', 'from', 'district', '5,', 'dies', 'from', 'eating', 'nightlock', 'berries', 'she', 'stole', 'from', 'peeta;', 'neither', 'knew', 'they', 'are', 'highly', 'poisonous.', 'crane', 'changes', 'the', 'time', 'of', 'day', 'in', 'the', 'arena', 'to', 'late', 'at', 'night', 'and', 'unleashes', 'a', 'pack', 'of', 'hound-like', 'creatures', 'to', 'speed', 'things', 'up.', 'they', 'kill', 'thresh', 'and', 'force', 'katniss', 'and', 'peeta', 'to', 'flee', 'to', 'the', 'roof', 'of', 'the', 'cornucopia,', 'where', 'they', 'encounter', 'cato.', 'after', 'a', 'battle,', 'katniss', 'wounds', 'cato', 'with', 'an', 'arrow', 'and', 'peeta', 'hurls', 'him', 'to', 'the', 'creatures', 'below.', 'katniss', 'shoots', 'cato', 'to', 'spare', 'him', 'a', 'prolonged', 'death.', 'with', 'peeta', 'and', 'katniss', 'apparently', 'victorious,', 'the', 'rule', 'change', 'allowing', 'two', 'winners', 'is', 'suddenly', 'revoked.', 'peeta', 'tells', 'katniss', 'to', 'shoot', 'him.', 'instead,', 'she', 'gives', 'him', 'half', 'of', 'the', 'nightlock.', 'however,', 'before', 'they', 'can', 'commit', 'suicide,', 'they', 'are', 'hastily', 'proclaimed', 'the', 'victors', 'of', 'the', '74th', 'hunger', 'games.', 'haymitch', 'warns', 'katniss', 'that', 'she', 'has', 'made', 'powerful', 'enemies', 'after', 'her', 'display', 'of', 'defiance.', 'she', 'and', 'peeta', 'return', 'to', 'district', '12,', 'while', 'crane', 'is', 'locked', 'in', 'a', 'room', 'with', 'a', 'bowl', 'of', 'nightlock', 'berries,', 'and', 'president', 'snow', 'considers', 'the', 'situation.']\n",
            "['poovalli', 'induchoodan', '', 'is', 'sentenced', 'for', 'six', 'years', 'prison', 'life', 'for', 'murdering', 'his', 'classmate.', 'induchoodan,', 'the', 'only', 'son', 'of', 'justice', 'maranchery', 'karunakara', 'menon', '', 'was', 'framed', 'in', 'the', 'case', 'by', 'manapally', 'madhavan', 'nambiar', '', 'and', 'his', 'crony', 'dysp', 'sankaranarayanan', '', 'to', 'take', 'revenge', 'on', 'idealist', 'judge', 'menon', 'who', 'had', 'earlier', 'given', 'jail', 'sentence', 'to', 'manapally', 'in', 'a', 'corruption', 'case.', 'induchoodan,', 'who', 'had', 'achieved', 'top', 'rank', 'in', 'indian', 'civil', 'service', 'loses', 'the', 'post', 'and', 'manapally', 'sudheeran', '([[saikumar', '', 'enters', 'the', 'list', 'of', 'civil', 'service', 'trainees.', 'we', 'learn', 'in', 'flashback', 'that', 'it', 'was', 'ramakrishnan', '', 'the', 'son', 'of', 'moopil', 'nair', ',', 'who', 'had', 'actually', 'killed', 'his', 'classmate.', 'six', 'years', 'passes', 'by', 'and', 'manapally', 'madhavan', 'nambiar,', 'now', 'a', 'former', 'state', 'minister,', 'is', 'dead', 'and', 'induchoodan,', 'who', 'is', 'all', 'rage', 'at', 'the', 'gross', 'injustice', 'meted', 'out', 'to', 'him', '-', 'thus', 'destroying', 'his', 'promising', 'life,', 'is', 'released', 'from', 'prison.', 'induchoodan', 'thwarts', 'manapally', 'pavithran', '', 'from', 'performing', 'the', 'funeral', 'rituals', 'of', 'nambiar', 'at', 'bharathapuzha.', 'many', 'confrontations', 'between', 'induchoodan', 'and', \"manapally's\", 'henchmen', 'follow.', 'induchoodan', 'also', 'falls', 'in', 'love', 'with', 'anuradha', '([[aishwarya', ',', 'the', 'strong-willed', 'and', 'independent-minded', 'daughter', 'of', 'mooppil', 'nair.', 'justice', 'menon', 'and', 'his', 'wife', 'returns', 'back', 'to', 'kerala', 'to', 'stay', 'with', 'induchoodan.', 'there', 'is', 'an', 'appearance', 'of', 'a', 'girl', 'named', 'indulekha', '([[kanaka', ',', 'who', 'claims', 'to', 'be', 'the', 'daughter', 'of', 'justice', 'menon.', 'menon', 'flatly', 'refuses', 'the', 'claim', 'and', 'banishes', 'her.', 'forced', 'by', 'circumstances', 'and', 'at', 'the', 'instigation', 'and', 'help', 'of', 'manapally', 'pavithran,', 'she', 'reluctantly', 'come', 'out', 'open', 'with', 'the', 'claim.', 'induchoodan', 'at', 'first', 'thrashes', 'the', 'protesters.', 'but', 'upon', 'knowing', 'the', 'truth', 'from', 'chandrabhanu', 'his', 'uncle,', 'he', 'accepts', 'the', 'task', 'of', 'her', 'protection', 'in', 'the', 'capacity', 'as', 'elder', 'brother.', 'induchoodan', 'decides', 'to', 'marry', 'off', 'indulekha', 'to', 'his', 'good', 'friend', 'jayakrishnan', '.', 'induchoodan', 'has', 'a', 'confrontation', 'with', 'his', 'father', 'and', 'prods', 'him', 'to', 'accept', 'mistake', 'and', 'acknowledge', 'the', 'parentage', 'of', 'indulekha.', 'menon', 'ultimately', 'regrets', 'and', 'goes', 'on', 'to', 'confess', 'to', 'his', 'daughter.', 'the', 'very', 'next', 'day,', 'when', 'induchoodan', 'returns', 'to', 'poovally,', 'indulekha', 'is', 'found', 'dead', 'and', 'menon', 'is', 'accused', 'of', 'murdering', 'her.', 'the', 'whole', 'act', 'was', 'planned', 'by', 'pavithran,', 'who', 'after', 'killing', 'indulekha,', 'forces', 'raman', 'nair', '', 'to', 'testify', 'against', 'menon', 'in', 'court.', 'in', 'court,', 'nandagopal', 'maarar', ',', 'a', 'close', 'friend', 'of', 'induchoodan', 'and', 'a', 'famous', 'supreme', 'court', 'lawyer,', 'appears', 'for', 'menon', 'and', 'manages', 'to', 'lay', 'bare', 'the', 'murder', 'plot', 'and', 'hidden', 'intentions', 'of', 'other', 'party', '.', 'menon', 'is', 'judged', 'innocent', 'of', 'the', 'crime', 'by', 'court.', 'after', 'confronting', 'pavithran', 'and', 'promising', 'just', 'retribution', 'to', 'the', 'crime', 'of', 'killing', 'indulekha,', 'induchoodan', 'returns', 'to', 'his', 'father,', 'who', 'now', 'shows', 'remorse', 'for', 'all', 'his', 'actions', 'including', 'not', 'believing', 'in', 'the', 'innocence', 'of', 'his', 'son.', 'but', 'while', 'speaking', 'to', 'induchoodan,', 'menon', 'suffers', 'a', 'heart', 'stroke', 'and', 'passes', 'away.', 'at', \"menon's\", 'funeral,', 'manapally', 'pavithran', 'arrives', 'to', 'poke', 'fun', 'at', 'induchoodan', 'and', 'he', 'also', 'tries', 'to', 'carry', 'out', 'the', 'postponed', 'last', 'rituals', 'of', 'his', 'own', 'father.', 'induchoodan', 'interrupts', 'the', 'ritual', 'and', 'avenges', 'for', 'the', 'death', 'of', 'his', 'sister', 'and', 'father', 'by', 'severely', 'injuring', 'pavithran.', 'on', 'his', 'way', 'back', 'to', 'peaceful', 'life,', 'induchoodan', 'accepts', 'anuradha', 'as', 'his', 'life', 'partner.']\n",
            "['the', 'lemon', 'drop', 'kid', ',', 'a', 'new', 'york', 'city', 'swindler,', 'is', 'illegally', 'touting', 'horses', 'at', 'a', 'florida', 'racetrack.', 'after', 'several', 'successful', 'hustles,', 'the', 'kid', 'comes', 'across', 'a', 'beautiful,', 'but', 'gullible,', 'woman', 'intending', 'to', 'bet', 'a', 'lot', 'of', 'money.', 'the', 'kid', 'convinces', 'her', 'to', 'switch', 'her', 'bet,', 'employing', 'a', 'prefabricated', 'con.', 'unfortunately', 'for', 'the', 'kid,', 'the', 'woman', '\"belongs\"', 'to', 'notorious', 'gangster', 'moose', 'moran', ',', 'as', 'does', 'the', 'money.', 'the', \"kid's\", 'choice', 'finishes', 'dead', 'last', 'and', 'a', 'furious', 'moran', 'demands', 'the', 'kid', 'provide', 'him', 'with', '$10,000', '', 'by', 'christmas', 'eve,', 'or', 'the', 'kid', '\"won\\'t', 'make', 'it', 'to', 'new', 'year\\'s.\"', 'the', 'kid', 'decides', 'to', 'return', 'to', 'new', 'york', 'to', 'try', 'to', 'come', 'up', 'with', 'the', 'money.', 'he', 'first', 'tries', 'his', 'on-again,', 'off-again', 'girlfriend', 'brainy', 'baxter', '.', 'however,', 'when', 'talk', 'of', 'long-term', 'commitment', 'arises,', 'the', 'kid', 'quickly', 'makes', 'an', 'escape.', 'he', 'next', 'visits', 'local', 'crime', 'boss', '\"oxford\"', 'charley', ',', 'with', 'whom', 'he', 'has', 'had', 'past', 'dealings.', 'this', 'falls', 'through', 'as', 'charley', 'is', 'in', 'serious', 'tax', 'trouble', 'and', 'does', 'not', 'particularly', 'care', 'for', 'the', 'kid', 'anyway.', 'as', 'he', 'leaves', \"charley's\", 'establishment', 'and', 'is', 'about', 'to', 'give', 'up', 'hope,', 'the', 'kid', 'notices', 'a', 'cornerside', 'santa', 'claus', 'and', 'his', 'kettle.', 'thinking', 'quickly,', 'the', 'kid', 'fashions', 'himself', 'a', 'santa', 'suit', 'and', 'begins', 'collecting', 'donations.', 'this', 'fails', 'as', 'he', 'is', 'recognized', 'by', 'a', 'passing', 'policeman,', 'who', 'remembers', 'his', 'previous', 'underhanded', 'activity', 'well.', 'the', 'kid', 'lands', 'in', 'court,', 'where', 'he', 'is', 'convicted', 'of', 'collecting', 'for', 'a', 'charity', 'without', 'a', 'license', 'and', 'sentenced', 'to', 'ten', 'days', 'in', 'jail', '.', 'however,', 'while', 'in', 'court,', 'the', 'kid', 'learns', 'where', 'his', 'scheme', 'went', 'wrong.', 'after', 'a', 'short', 'stay,', 'brainy', 'arrives', 'to', 'bail', 'him', 'out.', 'he', 'then', 'sets', 'about', 'restarting', 'his', 'santa', 'operation,', 'this', 'time', 'with', 'legitimate', 'backing.', 'to', 'this', 'end,', 'he', 'needs', 'a', 'charity', 'to', 'represent', 'and', 'a', 'city', 'license.', 'the', 'kid', 'receives', 'key', 'inspiration', 'when', 'he', 'remembers', 'that', 'nellie', 'thursday', ',', 'a', 'kindly', 'neighborhood', 'resident,', 'has', 'been', 'denied', 'entry', 'to', 'a', 'retirement', 'home', 'because', 'of', 'her', 'jailed', \"husband's\", 'criminal', 'past', 'as', 'a', 'safecracker.', 'organizing', 'other', 'small-time', 'new', 'york', 'swindlers', 'and', 'brainy,', 'who', 'is', 'both', 'surprised', 'and', 'charmed', 'at', 'the', \"kid's\", 'apparent', 'goodwill,', 'the', 'kid', 'converts', 'an', 'abandoned', 'casino', '', 'into', 'the', '\"nellie', 'thursday', 'home', 'for', 'old', 'dolls\".', 'a', 'small', 'group', 'of', 'elderly', 'women', 'and', 'makeshift', 'amenities', 'complete', 'the', 'project.', 'the', 'kid', 'is', 'able', 'to', 'receive', 'the', 'all-important', 'city', 'license.', 'now', 'free', 'to', 'collect,', 'the', 'kid', 'and', 'his', 'compatriots', 'dress', 'as', 'santa', 'claus', 'and', 'position', 'themselves', 'throughout', 'manhattan.', 'the', 'others', 'are', 'unaware', 'that', 'the', 'kid', 'plans', 'to', 'keep', 'the', 'money', 'for', 'himself', 'to', 'pay', 'off', 'moran.', 'the', 'scheme', 'is', 'a', 'huge', 'success,', 'netting', '$2,000', 'in', 'only', 'a', 'few', 'days.', 'an', 'overjoyed', 'brainy', 'decides', 'to', 'leave', 'her', 'job', 'as', 'a', 'dancer', 'and', 'look', 'after', 'the', '\"home\"', 'full-time', 'until', 'after', 'christmas.', 'coincidentally,', 'her', 'employer', 'is', 'none', 'other', 'than', '\"oxford\"', 'charley,', 'whom', 'brainy', 'cheerfully', 'informs', 'of', 'the', 'effort.', 'seeing', 'a', 'potential', 'gold', 'mine,', 'charley', 'decides', 'to', 'muscle', 'in', 'on', 'the', 'operation.', 'reasoning', 'that', 'the', 'nellie', 'thursday', 'home', 'is', '\"wherever', 'nellie', 'thursday', 'is\",', 'charley', 'and', 'his', 'crew', 'kidnap', 'the', \"home's\", 'inhabitants', '', 'and', 'move', 'them', 'to', \"charley's\", 'mansion', 'in', 'nyack.', 'the', 'kid', 'learns', 'of', 'this', 'when', 'he', 'returns', 'to', 'the', 'home', 'after', 'a', 'late', 'night', 'to', 'find', 'the', 'home', 'deserted', 'and', 'money', '', 'gone.', 'clued', 'in', 'by', 'oversized', 'oxford', 'footprints', 'in', 'the', 'snow,', 'the', 'kid', 'and', 'his', 'friends', 'pay', 'charley', 'a', 'visit.', 'here,', 'charley', 'reveals', 'the', 'true', 'nature', 'of', 'the', \"kid's\", 'scheme', 'through', 'a', 'phone', 'conversation', 'with', 'moose', 'moran.', 'the', \"kid's\", 'accomplices', 'are', 'angry', 'and', 'move', 'to', 'confront', 'him,', 'but', 'the', 'kid', 'manages', 'to', 'slip', 'away.', 'however,', 'brainy', 'tracks', 'him', 'down', 'outside', 'and', 'voices', 'her', 'disgust', 'at', 'his', 'actions.', 'after', 'a', 'few', 'days', 'of', 'stewing', 'in', 'self-pity', ',', 'the', 'kid', 'is', 'surprised', 'to', 'meet', 'nellie,', 'who', 'has', 'escaped', \"charley's\", 'compound.', 'he', 'decides', 'to', 'recover', 'the', 'money,', 'sneaking', 'into', \"charley's\", 'home', 'in', 'the', 'guise', 'of', 'an', 'elderly', 'woman.', 'he', 'finds', 'that', 'charley', 'and', 'his', 'crew', 'are', 'again', 'moving', 'the', 'women,', 'this', 'time', 'to', 'a', 'more', 'secure', 'location.', 'using', 'the', 'heightened', 'activity', 'to', 'his', 'advantage,', 'the', 'kid', 'enters', \"charley's\", 'office', 'and', 'confronts', 'him.', 'after', 'a', 'brief', 'struggle,', 'the', 'kid', 'overpowers', 'charley', 'and', 'makes', 'off', 'with', 'the', 'money,', 'narrowly', 'avoiding', 'the', 'thugs', 'charley', 'has', 'sent', 'after', 'him.', 'the', 'ensuing', 'chaos', 'allows', 'brainy', 'and', 'the', 'others', 'to', 'escape.', 'later', 'that', 'night,', 'the', 'kid', 'returns', 'to', 'the', 'original', 'nellie', 'thursday', 'home', 'to', 'meet', 'with', 'moose', 'moran', '.', 'the', 'deal', 'appears', 'to', 'be', 'in', 'jeopardy', 'as', 'moran', 'arrives', 'with', 'charley.', 'charley', 'demands', 'that', 'the', 'kid', 'reimburse', 'him,', 'which', 'would', 'leave', 'too', 'little', 'for', 'moran.', 'however,', 'the', 'kid', 'turns', 'the', 'tables', 'by', 'hitting', 'a', 'switch,', 'revealing', 'hidden', 'casino', 'tables.', 'all', 'are', 'occupied,', 'mainly', 'by', 'the', 'escaped', 'old', 'dolls.', 'the', 'kid', 'and', 'his', 'still-loyal', 'friends', 'hold', 'off', 'the', 'gangsters', 'as', 'the', 'police', 'initiate', 'a', 'raid.', 'moran', 'and', 'charley', 'are', 'arrested', 'while', 'the', 'judge', 'who', 'sentenced', 'the', 'kid', 'earlier', 'warns', 'that', 'he', 'will', 'be', '\"keeping', 'an', 'eye', 'on', 'him\".', 'the', 'kid', 'assures', 'him', 'that', 'will', 'not', 'be', 'necessary', 'and', 'his', 'attention', 'will', 'lie', 'on', 'the', 'home,', 'which', 'is', 'going', 'to', 'become', 'a', 'reality.', 'the', \"night's\", 'main', 'event', 'begins', 'as', \"nellie's\", 'husband', 'henry,', 'free', 'on', 'parole,', 'joyously', 'reunites', 'with', 'his', 'wife.']\n",
            "['seventh-day', 'adventist', 'church', 'pastor', 'michael', 'chamberlain,', 'his', 'wife', 'lindy,', 'their', 'two', 'sons,', 'and', 'their', 'nine-week-old', 'daughter', 'azaria', 'are', 'on', 'a', 'camping', 'holiday', 'in', 'the', 'outback.', 'with', 'the', 'baby', 'sleeping', 'in', 'their', 'tent,', 'the', 'family', 'is', 'enjoying', 'a', 'barbecue', 'with', 'their', 'fellow', 'campers', 'when', 'a', 'cry', 'is', 'heard.', 'lindy', 'returns', 'to', 'the', 'tent', 'to', 'check', 'on', 'azaria', 'and', 'is', 'certain', 'she', 'sees', 'a', 'dingo', 'with', 'something', 'in', 'its', 'mouth', 'running', 'off', 'as', 'she', 'approaches.', 'when', 'she', 'discovers', 'the', 'infant', 'is', 'missing,', 'everyone', 'joins', 'forces', 'to', 'search', 'for', 'her,', 'without', 'success.', 'it', 'is', 'assumed', 'what', 'lindy', 'saw', 'was', 'the', 'animal', 'carrying', 'off', 'the', 'child,', 'and', 'a', 'subsequent', 'inquest', 'rules', 'her', 'account', 'of', 'events', 'is', 'true.', 'the', 'tide', 'of', 'public', 'opinion', 'soon', 'turns', 'against', 'the', 'chamberlains.', 'for', 'many,', 'lindy', 'seems', 'too', 'stoic,', 'too', 'cold-hearted,', 'and', 'too', 'accepting', 'of', 'the', 'disaster', 'that', 'has', 'befallen', 'her.', 'gossip', 'about', 'her', 'begins', 'to', 'swell', 'and', 'soon', 'is', 'accepted', 'as', 'statements', 'of', 'fact.', 'the', \"couple's\", 'beliefs', 'are', 'not', 'widely', 'practised', 'in', 'the', 'country,', 'and', 'when', 'the', 'media', 'report', 'a', 'rumour', 'that', 'the', 'name', 'azaria', 'means', '\"sacrifice', 'in', 'the', 'wilderness\"', ',', 'the', 'public', 'is', 'quick', 'to', 'believe', 'they', 'decapitated', 'their', 'baby', 'with', 'a', 'pair', 'of', 'scissors', 'as', 'part', 'of', 'a', 'bizarre', 'religious', 'rite.', 'law-enforcement', 'officials', 'find', 'new', 'witnesses,', 'forensics', 'experts,', 'and', 'a', 'lot', 'of', 'circumstantial', 'evidence—including', 'a', 'small', 'wooden', 'coffin', 'michael', 'uses', 'as', 'a', 'receptacle', 'for', 'his', \"parishioners'\", 'packs', 'of', 'un-smoked', 'cigarettes—and', 'reopen', 'the', 'investigation,', 'and', 'eventually', 'lindy', 'is', 'charged', 'with', 'murder.', 'seven', 'months', 'pregnant,', 'she', 'ignores', 'her', \"attorneys'\", 'advice', 'to', 'play', 'on', 'the', \"jury's\", 'sympathy', 'and', 'appears', 'emotionless', 'on', 'the', 'stand,', 'convincing', 'onlookers', 'she', 'is', 'guilty', 'of', 'the', 'crime', 'of', 'which', 'she', 'is', 'accused.', 'as', 'the', 'trial', 'progresses,', \"michael's\", 'faith', 'in', 'his', 'religion', 'and', 'his', 'belief', 'in', 'his', 'wife', 'disintegrate,', 'and', 'he', 'stumbles', 'through', 'his', 'testimony,', 'suggesting', 'he', 'is', 'concealing', 'the', 'truth.', 'in', 'october', '1982,', 'lindy', 'is', 'found', 'guilty', 'and', 'sentenced', 'to', 'life', 'imprisonment', 'with', 'hard', 'labour,', 'while', 'michael', 'is', 'found', 'guilty', 'as', 'an', 'accessory', 'and', 'given', 'an', '18-month', 'suspended', 'sentence.', 'more', 'than', 'three', 'years', 'later,', 'while', 'searching', 'for', 'the', 'body', 'of', 'an', 'english', 'tourist', 'who', 'fell', 'from', 'uluru,', 'police', 'discover', 'a', 'small', 'item', 'of', 'clothing', 'that', 'is', 'identified', 'as', 'the', 'jacket', 'lindy', 'had', 'insisted', 'azaria', 'was', 'wearing', 'over', 'her', 'jumpsuit,', 'which', 'had', 'been', 'recovered', 'early', 'in', 'the', 'investigation.', 'she', 'is', 'immediately', 'released', 'from', 'prison,', 'the', 'case', 'reopened', 'and', 'all', 'convictions', 'against', 'the', 'chamberlains', 'overturned.']\n"
          ]
        },
        {
          "name": "stderr",
          "output_type": "stream",
          "text": [
            "22/02/28 22:37:26 WARN TaskSetManager: Stage 41 contains a task of very large size (18273 KiB). The maximum recommended task size is 1000 KiB.\n"
          ]
        }
      ],
      "source": [
        "# Separar texto por palabra\n",
        "plot_summaries_sep = plot_summaries_minus.map(lambda x: (x.split(' ')))\n",
        "\n",
        "for letra in plot_summaries_sep.take(5):\n",
        "  print(letra)"
      ]
    },
    {
      "cell_type": "code",
      "execution_count": 40,
      "metadata": {
        "id": "_RF1oKiLaCU8"
      },
      "outputs": [
        {
          "name": "stderr",
          "output_type": "stream",
          "text": [
            "22/02/28 22:37:27 WARN TaskSetManager: Stage 42 contains a task of very large size (18273 KiB). The maximum recommended task size is 1000 KiB.\n",
            "[Stage 42:>                                                         (0 + 1) / 1]\r"
          ]
        },
        {
          "name": "stdout",
          "output_type": "stream",
          "text": [
            "['shlykov,', 'hard-working', 'taxi', 'driver', 'lyosha,', 'saxophonist,', 'develop', 'bizarre', 'love-hate', 'relationship,', 'despite', 'prejudices,', 'realize', 'different', 'all.']\n",
            "['nation', 'panem', 'consists', 'wealthy', 'capitol', 'twelve', 'poorer', 'districts.', 'punishment', 'past', 'rebellion,', 'district', 'must', 'provide', 'boy', 'girl', '', 'ages', '12', '18', 'selected', 'lottery', '', 'annual', 'hunger', 'games.', 'tributes', 'must', 'fight', 'death', 'arena;', 'sole', 'survivor', 'rewarded', 'fame', 'wealth.', 'first', 'reaping,', '12-year-old', 'primrose', 'everdeen', 'chosen', 'district', '12.', 'older', 'sister', 'katniss', 'volunteers', 'take', 'place.', 'peeta', 'mellark,', \"baker's\", 'son', 'gave', 'katniss', 'bread', 'starving,', 'district', '12', 'tribute.', 'katniss', 'peeta', 'taken', 'capitol,', 'accompanied', 'frequently', 'drunk', 'mentor,', 'past', 'victor', 'haymitch', 'abernathy.', 'warns', '\"career\"', 'tributes', 'train', 'intensively', 'special', 'academies', 'almost', 'always', 'win.', 'tv', 'interview', 'caesar', 'flickerman,', 'peeta', 'unexpectedly', 'reveals', 'love', 'katniss.', 'outraged,', 'believing', 'ploy', 'gain', 'audience', 'support,', '\"sponsors\"', 'may', 'provide', 'in-games', 'gifts', 'food,', 'medicine,', 'tools.', 'however,', 'discovers', 'peeta', 'meant', 'said.', 'televised', 'games', 'begin', 'half', 'tributes', 'killed', 'first', 'minutes;', 'katniss', 'barely', 'survives', 'ignoring', \"haymitch's\", 'advice', 'run', 'away', 'melee', 'tempting', 'supplies', 'weapons', 'strewn', 'front', 'structure', 'called', 'cornucopia.', 'peeta', 'forms', 'uneasy', 'alliance', 'four', 'careers.', 'later', 'find', 'katniss', 'corner', 'tree.', 'rue,', 'hiding', 'nearby', 'tree,', 'draws', 'attention', 'poisonous', 'tracker', 'jacker', 'nest', 'hanging', 'branch.', 'katniss', 'drops', 'sleeping', 'besiegers.', 'scatter,', 'except', 'glimmer,', 'killed', 'insects.', 'hallucinating', 'due', 'tracker', 'jacker', 'venom,', 'katniss', 'warned', 'run', 'away', 'peeta.', 'rue', 'cares', 'katniss', 'couple', 'days', 'recovers.', 'meanwhile,', 'alliance', 'gathered', 'supplies', 'pile.', 'katniss', 'rue', 'draw', 'off,', 'destroys', 'stockpile', 'setting', 'mines', 'planted', 'around', 'it.', 'furious,', 'cato', 'kills', 'boy', 'assigned', 'guard', 'it.', 'katniss', 'runs', 'scene,', 'hears', 'rue', 'calling', 'name.', 'finds', 'rue', 'trapped', 'releases', 'her.', 'marvel,', 'tribute', 'district', '1,', 'throws', 'spear', 'katniss,', 'dodges', 'spear,', 'causing', 'stab', 'rue', 'stomach', 'instead.', 'katniss', 'shoots', 'dead', 'arrow.', 'comforts', 'dying', 'rue', 'song.', 'afterward,', 'gathers', 'arranges', 'flowers', 'around', \"rue's\", 'body.', 'televised,', 'sparks', 'riot', \"rue's\", 'district', '11.', 'president', 'snow', 'summons', 'seneca', 'crane,', 'gamemaker,', 'express', 'displeasure', 'way', 'games', 'turning', 'out.', 'since', 'katniss', 'peeta', 'presented', 'public', '\"star-crossed', 'lovers\",', 'haymitch', 'able', 'convince', 'crane', 'make', 'rule', 'change', 'avoid', 'inciting', 'riots.', 'announced', 'tributes', 'district', 'win', 'pair.', 'upon', 'hearing', 'this,', 'katniss', 'searches', 'peeta', 'finds', 'infected', 'sword', 'wound', 'leg.', 'portrays', 'deeply', 'love', 'gains', \"sponsor's\", 'gift', 'soup.', 'announcer', 'proclaims', 'feast,', 'thing', 'survivor', 'needs', 'provided.', 'peeta', 'begs', 'risk', 'getting', 'medicine.', 'katniss', 'promises', 'go,', 'falls', 'asleep,', 'heads', 'feast.', 'clove', 'ambushes', 'pins', 'down.', 'clove', 'gloats,', 'thresh,', 'district', '11', 'tribute,', 'kills', 'clove', 'overhearing', 'tormenting', 'katniss', 'killing', 'rue.', 'spares', 'katniss', '\"just', 'time...for', 'rue\".', 'medicine', 'works,', 'keeping', 'peeta', 'mobile.', 'foxface,', 'girl', 'district', '5,', 'dies', 'eating', 'nightlock', 'berries', 'stole', 'peeta;', 'neither', 'knew', 'highly', 'poisonous.', 'crane', 'changes', 'time', 'day', 'arena', 'late', 'night', 'unleashes', 'pack', 'hound-like', 'creatures', 'speed', 'things', 'up.', 'kill', 'thresh', 'force', 'katniss', 'peeta', 'flee', 'roof', 'cornucopia,', 'encounter', 'cato.', 'battle,', 'katniss', 'wounds', 'cato', 'arrow', 'peeta', 'hurls', 'creatures', 'below.', 'katniss', 'shoots', 'cato', 'spare', 'prolonged', 'death.', 'peeta', 'katniss', 'apparently', 'victorious,', 'rule', 'change', 'allowing', 'two', 'winners', 'suddenly', 'revoked.', 'peeta', 'tells', 'katniss', 'shoot', 'him.', 'instead,', 'gives', 'half', 'nightlock.', 'however,', 'commit', 'suicide,', 'hastily', 'proclaimed', 'victors', '74th', 'hunger', 'games.', 'haymitch', 'warns', 'katniss', 'made', 'powerful', 'enemies', 'display', 'defiance.', 'peeta', 'return', 'district', '12,', 'crane', 'locked', 'room', 'bowl', 'nightlock', 'berries,', 'president', 'snow', 'considers', 'situation.']\n",
            "['poovalli', 'induchoodan', '', 'sentenced', 'six', 'years', 'prison', 'life', 'murdering', 'classmate.', 'induchoodan,', 'son', 'justice', 'maranchery', 'karunakara', 'menon', '', 'framed', 'case', 'manapally', 'madhavan', 'nambiar', '', 'crony', 'dysp', 'sankaranarayanan', '', 'take', 'revenge', 'idealist', 'judge', 'menon', 'earlier', 'given', 'jail', 'sentence', 'manapally', 'corruption', 'case.', 'induchoodan,', 'achieved', 'top', 'rank', 'indian', 'civil', 'service', 'loses', 'post', 'manapally', 'sudheeran', '([[saikumar', '', 'enters', 'list', 'civil', 'service', 'trainees.', 'learn', 'flashback', 'ramakrishnan', '', 'son', 'moopil', 'nair', ',', 'actually', 'killed', 'classmate.', 'six', 'years', 'passes', 'manapally', 'madhavan', 'nambiar,', 'former', 'state', 'minister,', 'dead', 'induchoodan,', 'rage', 'gross', 'injustice', 'meted', '-', 'thus', 'destroying', 'promising', 'life,', 'released', 'prison.', 'induchoodan', 'thwarts', 'manapally', 'pavithran', '', 'performing', 'funeral', 'rituals', 'nambiar', 'bharathapuzha.', 'many', 'confrontations', 'induchoodan', \"manapally's\", 'henchmen', 'follow.', 'induchoodan', 'also', 'falls', 'love', 'anuradha', '([[aishwarya', ',', 'strong-willed', 'independent-minded', 'daughter', 'mooppil', 'nair.', 'justice', 'menon', 'wife', 'returns', 'back', 'kerala', 'stay', 'induchoodan.', 'appearance', 'girl', 'named', 'indulekha', '([[kanaka', ',', 'claims', 'daughter', 'justice', 'menon.', 'menon', 'flatly', 'refuses', 'claim', 'banishes', 'her.', 'forced', 'circumstances', 'instigation', 'help', 'manapally', 'pavithran,', 'reluctantly', 'come', 'open', 'claim.', 'induchoodan', 'first', 'thrashes', 'protesters.', 'upon', 'knowing', 'truth', 'chandrabhanu', 'uncle,', 'accepts', 'task', 'protection', 'capacity', 'elder', 'brother.', 'induchoodan', 'decides', 'marry', 'indulekha', 'good', 'friend', 'jayakrishnan', '.', 'induchoodan', 'confrontation', 'father', 'prods', 'accept', 'mistake', 'acknowledge', 'parentage', 'indulekha.', 'menon', 'ultimately', 'regrets', 'goes', 'confess', 'daughter.', 'next', 'day,', 'induchoodan', 'returns', 'poovally,', 'indulekha', 'found', 'dead', 'menon', 'accused', 'murdering', 'her.', 'whole', 'act', 'planned', 'pavithran,', 'killing', 'indulekha,', 'forces', 'raman', 'nair', '', 'testify', 'menon', 'court.', 'court,', 'nandagopal', 'maarar', ',', 'close', 'friend', 'induchoodan', 'famous', 'supreme', 'court', 'lawyer,', 'appears', 'menon', 'manages', 'lay', 'bare', 'murder', 'plot', 'hidden', 'intentions', 'party', '.', 'menon', 'judged', 'innocent', 'crime', 'court.', 'confronting', 'pavithran', 'promising', 'retribution', 'crime', 'killing', 'indulekha,', 'induchoodan', 'returns', 'father,', 'shows', 'remorse', 'actions', 'including', 'believing', 'innocence', 'son.', 'speaking', 'induchoodan,', 'menon', 'suffers', 'heart', 'stroke', 'passes', 'away.', \"menon's\", 'funeral,', 'manapally', 'pavithran', 'arrives', 'poke', 'fun', 'induchoodan', 'also', 'tries', 'carry', 'postponed', 'last', 'rituals', 'father.', 'induchoodan', 'interrupts', 'ritual', 'avenges', 'death', 'sister', 'father', 'severely', 'injuring', 'pavithran.', 'way', 'back', 'peaceful', 'life,', 'induchoodan', 'accepts', 'anuradha', 'life', 'partner.']\n",
            "['lemon', 'drop', 'kid', ',', 'new', 'york', 'city', 'swindler,', 'illegally', 'touting', 'horses', 'florida', 'racetrack.', 'several', 'successful', 'hustles,', 'kid', 'comes', 'across', 'beautiful,', 'gullible,', 'woman', 'intending', 'bet', 'lot', 'money.', 'kid', 'convinces', 'switch', 'bet,', 'employing', 'prefabricated', 'con.', 'unfortunately', 'kid,', 'woman', '\"belongs\"', 'notorious', 'gangster', 'moose', 'moran', ',', 'money.', \"kid's\", 'choice', 'finishes', 'dead', 'last', 'furious', 'moran', 'demands', 'kid', 'provide', '$10,000', '', 'christmas', 'eve,', 'kid', '\"won\\'t', 'make', 'new', 'year\\'s.\"', 'kid', 'decides', 'return', 'new', 'york', 'try', 'come', 'money.', 'first', 'tries', 'on-again,', 'off-again', 'girlfriend', 'brainy', 'baxter', '.', 'however,', 'talk', 'long-term', 'commitment', 'arises,', 'kid', 'quickly', 'makes', 'escape.', 'next', 'visits', 'local', 'crime', 'boss', '\"oxford\"', 'charley', ',', 'past', 'dealings.', 'falls', 'charley', 'serious', 'tax', 'trouble', 'particularly', 'care', 'kid', 'anyway.', 'leaves', \"charley's\", 'establishment', 'give', 'hope,', 'kid', 'notices', 'cornerside', 'santa', 'claus', 'kettle.', 'thinking', 'quickly,', 'kid', 'fashions', 'santa', 'suit', 'begins', 'collecting', 'donations.', 'fails', 'recognized', 'passing', 'policeman,', 'remembers', 'previous', 'underhanded', 'activity', 'well.', 'kid', 'lands', 'court,', 'convicted', 'collecting', 'charity', 'without', 'license', 'sentenced', 'ten', 'days', 'jail', '.', 'however,', 'court,', 'kid', 'learns', 'scheme', 'went', 'wrong.', 'short', 'stay,', 'brainy', 'arrives', 'bail', 'out.', 'sets', 'restarting', 'santa', 'operation,', 'time', 'legitimate', 'backing.', 'end,', 'needs', 'charity', 'represent', 'city', 'license.', 'kid', 'receives', 'key', 'inspiration', 'remembers', 'nellie', 'thursday', ',', 'kindly', 'neighborhood', 'resident,', 'denied', 'entry', 'retirement', 'home', 'jailed', \"husband's\", 'criminal', 'past', 'safecracker.', 'organizing', 'small-time', 'new', 'york', 'swindlers', 'brainy,', 'surprised', 'charmed', \"kid's\", 'apparent', 'goodwill,', 'kid', 'converts', 'abandoned', 'casino', '', '\"nellie', 'thursday', 'home', 'old', 'dolls\".', 'small', 'group', 'elderly', 'women', 'makeshift', 'amenities', 'complete', 'project.', 'kid', 'able', 'receive', 'all-important', 'city', 'license.', 'free', 'collect,', 'kid', 'compatriots', 'dress', 'santa', 'claus', 'position', 'throughout', 'manhattan.', 'others', 'unaware', 'kid', 'plans', 'keep', 'money', 'pay', 'moran.', 'scheme', 'huge', 'success,', 'netting', '$2,000', 'days.', 'overjoyed', 'brainy', 'decides', 'leave', 'job', 'dancer', 'look', '\"home\"', 'full-time', 'christmas.', 'coincidentally,', 'employer', 'none', '\"oxford\"', 'charley,', 'brainy', 'cheerfully', 'informs', 'effort.', 'seeing', 'potential', 'gold', 'mine,', 'charley', 'decides', 'muscle', 'operation.', 'reasoning', 'nellie', 'thursday', 'home', '\"wherever', 'nellie', 'thursday', 'is\",', 'charley', 'crew', 'kidnap', \"home's\", 'inhabitants', '', 'move', \"charley's\", 'mansion', 'nyack.', 'kid', 'learns', 'returns', 'home', 'late', 'night', 'find', 'home', 'deserted', 'money', '', 'gone.', 'clued', 'oversized', 'oxford', 'footprints', 'snow,', 'kid', 'friends', 'pay', 'charley', 'visit.', 'here,', 'charley', 'reveals', 'true', 'nature', \"kid's\", 'scheme', 'phone', 'conversation', 'moose', 'moran.', \"kid's\", 'accomplices', 'angry', 'move', 'confront', 'him,', 'kid', 'manages', 'slip', 'away.', 'however,', 'brainy', 'tracks', 'outside', 'voices', 'disgust', 'actions.', 'days', 'stewing', 'self-pity', ',', 'kid', 'surprised', 'meet', 'nellie,', 'escaped', \"charley's\", 'compound.', 'decides', 'recover', 'money,', 'sneaking', \"charley's\", 'home', 'guise', 'elderly', 'woman.', 'finds', 'charley', 'crew', 'moving', 'women,', 'time', 'secure', 'location.', 'using', 'heightened', 'activity', 'advantage,', 'kid', 'enters', \"charley's\", 'office', 'confronts', 'him.', 'brief', 'struggle,', 'kid', 'overpowers', 'charley', 'makes', 'money,', 'narrowly', 'avoiding', 'thugs', 'charley', 'sent', 'him.', 'ensuing', 'chaos', 'allows', 'brainy', 'others', 'escape.', 'later', 'night,', 'kid', 'returns', 'original', 'nellie', 'thursday', 'home', 'meet', 'moose', 'moran', '.', 'deal', 'appears', 'jeopardy', 'moran', 'arrives', 'charley.', 'charley', 'demands', 'kid', 'reimburse', 'him,', 'would', 'leave', 'little', 'moran.', 'however,', 'kid', 'turns', 'tables', 'hitting', 'switch,', 'revealing', 'hidden', 'casino', 'tables.', 'occupied,', 'mainly', 'escaped', 'old', 'dolls.', 'kid', 'still-loyal', 'friends', 'hold', 'gangsters', 'police', 'initiate', 'raid.', 'moran', 'charley', 'arrested', 'judge', 'sentenced', 'kid', 'earlier', 'warns', '\"keeping', 'eye', 'him\".', 'kid', 'assures', 'necessary', 'attention', 'lie', 'home,', 'going', 'become', 'reality.', \"night's\", 'main', 'event', 'begins', \"nellie's\", 'husband', 'henry,', 'free', 'parole,', 'joyously', 'reunites', 'wife.']\n",
            "['seventh-day', 'adventist', 'church', 'pastor', 'michael', 'chamberlain,', 'wife', 'lindy,', 'two', 'sons,', 'nine-week-old', 'daughter', 'azaria', 'camping', 'holiday', 'outback.', 'baby', 'sleeping', 'tent,', 'family', 'enjoying', 'barbecue', 'fellow', 'campers', 'cry', 'heard.', 'lindy', 'returns', 'tent', 'check', 'azaria', 'certain', 'sees', 'dingo', 'something', 'mouth', 'running', 'approaches.', 'discovers', 'infant', 'missing,', 'everyone', 'joins', 'forces', 'search', 'her,', 'without', 'success.', 'assumed', 'lindy', 'saw', 'animal', 'carrying', 'child,', 'subsequent', 'inquest', 'rules', 'account', 'events', 'true.', 'tide', 'public', 'opinion', 'soon', 'turns', 'chamberlains.', 'many,', 'lindy', 'seems', 'stoic,', 'cold-hearted,', 'accepting', 'disaster', 'befallen', 'her.', 'gossip', 'begins', 'swell', 'soon', 'accepted', 'statements', 'fact.', \"couple's\", 'beliefs', 'widely', 'practised', 'country,', 'media', 'report', 'rumour', 'name', 'azaria', 'means', '\"sacrifice', 'wilderness\"', ',', 'public', 'quick', 'believe', 'decapitated', 'baby', 'pair', 'scissors', 'part', 'bizarre', 'religious', 'rite.', 'law-enforcement', 'officials', 'find', 'new', 'witnesses,', 'forensics', 'experts,', 'lot', 'circumstantial', 'evidence—including', 'small', 'wooden', 'coffin', 'michael', 'uses', 'receptacle', \"parishioners'\", 'packs', 'un-smoked', 'cigarettes—and', 'reopen', 'investigation,', 'eventually', 'lindy', 'charged', 'murder.', 'seven', 'months', 'pregnant,', 'ignores', \"attorneys'\", 'advice', 'play', \"jury's\", 'sympathy', 'appears', 'emotionless', 'stand,', 'convincing', 'onlookers', 'guilty', 'crime', 'accused.', 'trial', 'progresses,', \"michael's\", 'faith', 'religion', 'belief', 'wife', 'disintegrate,', 'stumbles', 'testimony,', 'suggesting', 'concealing', 'truth.', 'october', '1982,', 'lindy', 'found', 'guilty', 'sentenced', 'life', 'imprisonment', 'hard', 'labour,', 'michael', 'found', 'guilty', 'accessory', 'given', '18-month', 'suspended', 'sentence.', 'three', 'years', 'later,', 'searching', 'body', 'english', 'tourist', 'fell', 'uluru,', 'police', 'discover', 'small', 'item', 'clothing', 'identified', 'jacket', 'lindy', 'insisted', 'azaria', 'wearing', 'jumpsuit,', 'recovered', 'early', 'investigation.', 'immediately', 'released', 'prison,', 'case', 'reopened', 'convictions', 'chamberlains', 'overturned.']\n"
          ]
        },
        {
          "name": "stderr",
          "output_type": "stream",
          "text": [
            "                                                                                \r"
          ]
        }
      ],
      "source": [
        "# Quitar las stop words\n",
        "\n",
        "def removeStopWordsFunct(x):\n",
        "    from nltk.corpus import stopwords\n",
        "    stop_words=set(stopwords.words('english'))\n",
        "    filteredSentence = [w for w in x if not w in stop_words]\n",
        "    return filteredSentence\n",
        "\n",
        "plot_summaries_stop = plot_summaries_sep.map(removeStopWordsFunct)\n",
        "\n",
        "for palabra in plot_summaries_stop.take(5):\n",
        "  print(palabra)"
      ]
    },
    {
      "cell_type": "code",
      "execution_count": 41,
      "metadata": {
        "id": "ueJRWyjnanHl"
      },
      "outputs": [
        {
          "name": "stderr",
          "output_type": "stream",
          "text": [
            "22/02/28 22:37:32 WARN TaskSetManager: Stage 43 contains a task of very large size (18273 KiB). The maximum recommended task size is 1000 KiB.\n",
            "[Stage 43:>                                                         (0 + 1) / 1]\r"
          ]
        },
        {
          "name": "stdout",
          "output_type": "stream",
          "text": [
            "['shlykov', 'hardworking', 'taxi', 'driver', 'lyosha', 'saxophonist', 'develop', 'bizarre', 'lovehate', 'relationship', 'despite', 'prejudices', 'realize', 'different', 'all']\n",
            "['nation', 'panem', 'consists', 'wealthy', 'capitol', 'twelve', 'poorer', 'districts', 'punishment', 'past', 'rebellion', 'district', 'must', 'provide', 'boy', 'girl', '', 'ages', '12', '18', 'selected', 'lottery', '', 'annual', 'hunger', 'games', 'tributes', 'must', 'fight', 'death', 'arena', 'sole', 'survivor', 'rewarded', 'fame', 'wealth', 'first', 'reaping', '12yearold', 'primrose', 'everdeen', 'chosen', 'district', '12', 'older', 'sister', 'katniss', 'volunteers', 'take', 'place', 'peeta', 'mellark', 'bakers', 'son', 'gave', 'katniss', 'bread', 'starving', 'district', '12', 'tribute', 'katniss', 'peeta', 'taken', 'capitol', 'accompanied', 'frequently', 'drunk', 'mentor', 'past', 'victor', 'haymitch', 'abernathy', 'warns', 'career', 'tributes', 'train', 'intensively', 'special', 'academies', 'almost', 'always', 'win', 'tv', 'interview', 'caesar', 'flickerman', 'peeta', 'unexpectedly', 'reveals', 'love', 'katniss', 'outraged', 'believing', 'ploy', 'gain', 'audience', 'support', 'sponsors', 'may', 'provide', 'ingames', 'gifts', 'food', 'medicine', 'tools', 'however', 'discovers', 'peeta', 'meant', 'said', 'televised', 'games', 'begin', 'half', 'tributes', 'killed', 'first', 'minutes', 'katniss', 'barely', 'survives', 'ignoring', 'haymitchs', 'advice', 'run', 'away', 'melee', 'tempting', 'supplies', 'weapons', 'strewn', 'front', 'structure', 'called', 'cornucopia', 'peeta', 'forms', 'uneasy', 'alliance', 'four', 'careers', 'later', 'find', 'katniss', 'corner', 'tree', 'rue', 'hiding', 'nearby', 'tree', 'draws', 'attention', 'poisonous', 'tracker', 'jacker', 'nest', 'hanging', 'branch', 'katniss', 'drops', 'sleeping', 'besiegers', 'scatter', 'except', 'glimmer', 'killed', 'insects', 'hallucinating', 'due', 'tracker', 'jacker', 'venom', 'katniss', 'warned', 'run', 'away', 'peeta', 'rue', 'cares', 'katniss', 'couple', 'days', 'recovers', 'meanwhile', 'alliance', 'gathered', 'supplies', 'pile', 'katniss', 'rue', 'draw', 'off', 'destroys', 'stockpile', 'setting', 'mines', 'planted', 'around', 'it', 'furious', 'cato', 'kills', 'boy', 'assigned', 'guard', 'it', 'katniss', 'runs', 'scene', 'hears', 'rue', 'calling', 'name', 'finds', 'rue', 'trapped', 'releases', 'her', 'marvel', 'tribute', 'district', '1', 'throws', 'spear', 'katniss', 'dodges', 'spear', 'causing', 'stab', 'rue', 'stomach', 'instead', 'katniss', 'shoots', 'dead', 'arrow', 'comforts', 'dying', 'rue', 'song', 'afterward', 'gathers', 'arranges', 'flowers', 'around', 'rues', 'body', 'televised', 'sparks', 'riot', 'rues', 'district', '11', 'president', 'snow', 'summons', 'seneca', 'crane', 'gamemaker', 'express', 'displeasure', 'way', 'games', 'turning', 'out', 'since', 'katniss', 'peeta', 'presented', 'public', 'starcrossed', 'lovers', 'haymitch', 'able', 'convince', 'crane', 'make', 'rule', 'change', 'avoid', 'inciting', 'riots', 'announced', 'tributes', 'district', 'win', 'pair', 'upon', 'hearing', 'this', 'katniss', 'searches', 'peeta', 'finds', 'infected', 'sword', 'wound', 'leg', 'portrays', 'deeply', 'love', 'gains', 'sponsors', 'gift', 'soup', 'announcer', 'proclaims', 'feast', 'thing', 'survivor', 'needs', 'provided', 'peeta', 'begs', 'risk', 'getting', 'medicine', 'katniss', 'promises', 'go', 'falls', 'asleep', 'heads', 'feast', 'clove', 'ambushes', 'pins', 'down', 'clove', 'gloats', 'thresh', 'district', '11', 'tribute', 'kills', 'clove', 'overhearing', 'tormenting', 'katniss', 'killing', 'rue', 'spares', 'katniss', 'just', 'timefor', 'rue', 'medicine', 'works', 'keeping', 'peeta', 'mobile', 'foxface', 'girl', 'district', '5', 'dies', 'eating', 'nightlock', 'berries', 'stole', 'peeta', 'neither', 'knew', 'highly', 'poisonous', 'crane', 'changes', 'time', 'day', 'arena', 'late', 'night', 'unleashes', 'pack', 'houndlike', 'creatures', 'speed', 'things', 'up', 'kill', 'thresh', 'force', 'katniss', 'peeta', 'flee', 'roof', 'cornucopia', 'encounter', 'cato', 'battle', 'katniss', 'wounds', 'cato', 'arrow', 'peeta', 'hurls', 'creatures', 'below', 'katniss', 'shoots', 'cato', 'spare', 'prolonged', 'death', 'peeta', 'katniss', 'apparently', 'victorious', 'rule', 'change', 'allowing', 'two', 'winners', 'suddenly', 'revoked', 'peeta', 'tells', 'katniss', 'shoot', 'him', 'instead', 'gives', 'half', 'nightlock', 'however', 'commit', 'suicide', 'hastily', 'proclaimed', 'victors', '74th', 'hunger', 'games', 'haymitch', 'warns', 'katniss', 'made', 'powerful', 'enemies', 'display', 'defiance', 'peeta', 'return', 'district', '12', 'crane', 'locked', 'room', 'bowl', 'nightlock', 'berries', 'president', 'snow', 'considers', 'situation']\n",
            "['poovalli', 'induchoodan', '', 'sentenced', 'six', 'years', 'prison', 'life', 'murdering', 'classmate', 'induchoodan', 'son', 'justice', 'maranchery', 'karunakara', 'menon', '', 'framed', 'case', 'manapally', 'madhavan', 'nambiar', '', 'crony', 'dysp', 'sankaranarayanan', '', 'take', 'revenge', 'idealist', 'judge', 'menon', 'earlier', 'given', 'jail', 'sentence', 'manapally', 'corruption', 'case', 'induchoodan', 'achieved', 'top', 'rank', 'indian', 'civil', 'service', 'loses', 'post', 'manapally', 'sudheeran', 'saikumar', '', 'enters', 'list', 'civil', 'service', 'trainees', 'learn', 'flashback', 'ramakrishnan', '', 'son', 'moopil', 'nair', '', 'actually', 'killed', 'classmate', 'six', 'years', 'passes', 'manapally', 'madhavan', 'nambiar', 'former', 'state', 'minister', 'dead', 'induchoodan', 'rage', 'gross', 'injustice', 'meted', '', 'thus', 'destroying', 'promising', 'life', 'released', 'prison', 'induchoodan', 'thwarts', 'manapally', 'pavithran', '', 'performing', 'funeral', 'rituals', 'nambiar', 'bharathapuzha', 'many', 'confrontations', 'induchoodan', 'manapallys', 'henchmen', 'follow', 'induchoodan', 'also', 'falls', 'love', 'anuradha', 'aishwarya', '', 'strongwilled', 'independentminded', 'daughter', 'mooppil', 'nair', 'justice', 'menon', 'wife', 'returns', 'back', 'kerala', 'stay', 'induchoodan', 'appearance', 'girl', 'named', 'indulekha', 'kanaka', '', 'claims', 'daughter', 'justice', 'menon', 'menon', 'flatly', 'refuses', 'claim', 'banishes', 'her', 'forced', 'circumstances', 'instigation', 'help', 'manapally', 'pavithran', 'reluctantly', 'come', 'open', 'claim', 'induchoodan', 'first', 'thrashes', 'protesters', 'upon', 'knowing', 'truth', 'chandrabhanu', 'uncle', 'accepts', 'task', 'protection', 'capacity', 'elder', 'brother', 'induchoodan', 'decides', 'marry', 'indulekha', 'good', 'friend', 'jayakrishnan', '', 'induchoodan', 'confrontation', 'father', 'prods', 'accept', 'mistake', 'acknowledge', 'parentage', 'indulekha', 'menon', 'ultimately', 'regrets', 'goes', 'confess', 'daughter', 'next', 'day', 'induchoodan', 'returns', 'poovally', 'indulekha', 'found', 'dead', 'menon', 'accused', 'murdering', 'her', 'whole', 'act', 'planned', 'pavithran', 'killing', 'indulekha', 'forces', 'raman', 'nair', '', 'testify', 'menon', 'court', 'court', 'nandagopal', 'maarar', '', 'close', 'friend', 'induchoodan', 'famous', 'supreme', 'court', 'lawyer', 'appears', 'menon', 'manages', 'lay', 'bare', 'murder', 'plot', 'hidden', 'intentions', 'party', '', 'menon', 'judged', 'innocent', 'crime', 'court', 'confronting', 'pavithran', 'promising', 'retribution', 'crime', 'killing', 'indulekha', 'induchoodan', 'returns', 'father', 'shows', 'remorse', 'actions', 'including', 'believing', 'innocence', 'son', 'speaking', 'induchoodan', 'menon', 'suffers', 'heart', 'stroke', 'passes', 'away', 'menons', 'funeral', 'manapally', 'pavithran', 'arrives', 'poke', 'fun', 'induchoodan', 'also', 'tries', 'carry', 'postponed', 'last', 'rituals', 'father', 'induchoodan', 'interrupts', 'ritual', 'avenges', 'death', 'sister', 'father', 'severely', 'injuring', 'pavithran', 'way', 'back', 'peaceful', 'life', 'induchoodan', 'accepts', 'anuradha', 'life', 'partner']\n",
            "['lemon', 'drop', 'kid', '', 'new', 'york', 'city', 'swindler', 'illegally', 'touting', 'horses', 'florida', 'racetrack', 'several', 'successful', 'hustles', 'kid', 'comes', 'across', 'beautiful', 'gullible', 'woman', 'intending', 'bet', 'lot', 'money', 'kid', 'convinces', 'switch', 'bet', 'employing', 'prefabricated', 'con', 'unfortunately', 'kid', 'woman', 'belongs', 'notorious', 'gangster', 'moose', 'moran', '', 'money', 'kids', 'choice', 'finishes', 'dead', 'last', 'furious', 'moran', 'demands', 'kid', 'provide', '10000', '', 'christmas', 'eve', 'kid', 'wont', 'make', 'new', 'years', 'kid', 'decides', 'return', 'new', 'york', 'try', 'come', 'money', 'first', 'tries', 'onagain', 'offagain', 'girlfriend', 'brainy', 'baxter', '', 'however', 'talk', 'longterm', 'commitment', 'arises', 'kid', 'quickly', 'makes', 'escape', 'next', 'visits', 'local', 'crime', 'boss', 'oxford', 'charley', '', 'past', 'dealings', 'falls', 'charley', 'serious', 'tax', 'trouble', 'particularly', 'care', 'kid', 'anyway', 'leaves', 'charleys', 'establishment', 'give', 'hope', 'kid', 'notices', 'cornerside', 'santa', 'claus', 'kettle', 'thinking', 'quickly', 'kid', 'fashions', 'santa', 'suit', 'begins', 'collecting', 'donations', 'fails', 'recognized', 'passing', 'policeman', 'remembers', 'previous', 'underhanded', 'activity', 'well', 'kid', 'lands', 'court', 'convicted', 'collecting', 'charity', 'without', 'license', 'sentenced', 'ten', 'days', 'jail', '', 'however', 'court', 'kid', 'learns', 'scheme', 'went', 'wrong', 'short', 'stay', 'brainy', 'arrives', 'bail', 'out', 'sets', 'restarting', 'santa', 'operation', 'time', 'legitimate', 'backing', 'end', 'needs', 'charity', 'represent', 'city', 'license', 'kid', 'receives', 'key', 'inspiration', 'remembers', 'nellie', 'thursday', '', 'kindly', 'neighborhood', 'resident', 'denied', 'entry', 'retirement', 'home', 'jailed', 'husbands', 'criminal', 'past', 'safecracker', 'organizing', 'smalltime', 'new', 'york', 'swindlers', 'brainy', 'surprised', 'charmed', 'kids', 'apparent', 'goodwill', 'kid', 'converts', 'abandoned', 'casino', '', 'nellie', 'thursday', 'home', 'old', 'dolls', 'small', 'group', 'elderly', 'women', 'makeshift', 'amenities', 'complete', 'project', 'kid', 'able', 'receive', 'allimportant', 'city', 'license', 'free', 'collect', 'kid', 'compatriots', 'dress', 'santa', 'claus', 'position', 'throughout', 'manhattan', 'others', 'unaware', 'kid', 'plans', 'keep', 'money', 'pay', 'moran', 'scheme', 'huge', 'success', 'netting', '2000', 'days', 'overjoyed', 'brainy', 'decides', 'leave', 'job', 'dancer', 'look', 'home', 'fulltime', 'christmas', 'coincidentally', 'employer', 'none', 'oxford', 'charley', 'brainy', 'cheerfully', 'informs', 'effort', 'seeing', 'potential', 'gold', 'mine', 'charley', 'decides', 'muscle', 'operation', 'reasoning', 'nellie', 'thursday', 'home', 'wherever', 'nellie', 'thursday', 'is', 'charley', 'crew', 'kidnap', 'homes', 'inhabitants', '', 'move', 'charleys', 'mansion', 'nyack', 'kid', 'learns', 'returns', 'home', 'late', 'night', 'find', 'home', 'deserted', 'money', '', 'gone', 'clued', 'oversized', 'oxford', 'footprints', 'snow', 'kid', 'friends', 'pay', 'charley', 'visit', 'here', 'charley', 'reveals', 'true', 'nature', 'kids', 'scheme', 'phone', 'conversation', 'moose', 'moran', 'kids', 'accomplices', 'angry', 'move', 'confront', 'him', 'kid', 'manages', 'slip', 'away', 'however', 'brainy', 'tracks', 'outside', 'voices', 'disgust', 'actions', 'days', 'stewing', 'selfpity', '', 'kid', 'surprised', 'meet', 'nellie', 'escaped', 'charleys', 'compound', 'decides', 'recover', 'money', 'sneaking', 'charleys', 'home', 'guise', 'elderly', 'woman', 'finds', 'charley', 'crew', 'moving', 'women', 'time', 'secure', 'location', 'using', 'heightened', 'activity', 'advantage', 'kid', 'enters', 'charleys', 'office', 'confronts', 'him', 'brief', 'struggle', 'kid', 'overpowers', 'charley', 'makes', 'money', 'narrowly', 'avoiding', 'thugs', 'charley', 'sent', 'him', 'ensuing', 'chaos', 'allows', 'brainy', 'others', 'escape', 'later', 'night', 'kid', 'returns', 'original', 'nellie', 'thursday', 'home', 'meet', 'moose', 'moran', '', 'deal', 'appears', 'jeopardy', 'moran', 'arrives', 'charley', 'charley', 'demands', 'kid', 'reimburse', 'him', 'would', 'leave', 'little', 'moran', 'however', 'kid', 'turns', 'tables', 'hitting', 'switch', 'revealing', 'hidden', 'casino', 'tables', 'occupied', 'mainly', 'escaped', 'old', 'dolls', 'kid', 'stillloyal', 'friends', 'hold', 'gangsters', 'police', 'initiate', 'raid', 'moran', 'charley', 'arrested', 'judge', 'sentenced', 'kid', 'earlier', 'warns', 'keeping', 'eye', 'him', 'kid', 'assures', 'necessary', 'attention', 'lie', 'home', 'going', 'become', 'reality', 'nights', 'main', 'event', 'begins', 'nellies', 'husband', 'henry', 'free', 'parole', 'joyously', 'reunites', 'wife']\n",
            "['seventhday', 'adventist', 'church', 'pastor', 'michael', 'chamberlain', 'wife', 'lindy', 'two', 'sons', 'nineweekold', 'daughter', 'azaria', 'camping', 'holiday', 'outback', 'baby', 'sleeping', 'tent', 'family', 'enjoying', 'barbecue', 'fellow', 'campers', 'cry', 'heard', 'lindy', 'returns', 'tent', 'check', 'azaria', 'certain', 'sees', 'dingo', 'something', 'mouth', 'running', 'approaches', 'discovers', 'infant', 'missing', 'everyone', 'joins', 'forces', 'search', 'her', 'without', 'success', 'assumed', 'lindy', 'saw', 'animal', 'carrying', 'child', 'subsequent', 'inquest', 'rules', 'account', 'events', 'true', 'tide', 'public', 'opinion', 'soon', 'turns', 'chamberlains', 'many', 'lindy', 'seems', 'stoic', 'coldhearted', 'accepting', 'disaster', 'befallen', 'her', 'gossip', 'begins', 'swell', 'soon', 'accepted', 'statements', 'fact', 'couples', 'beliefs', 'widely', 'practised', 'country', 'media', 'report', 'rumour', 'name', 'azaria', 'means', 'sacrifice', 'wilderness', '', 'public', 'quick', 'believe', 'decapitated', 'baby', 'pair', 'scissors', 'part', 'bizarre', 'religious', 'rite', 'lawenforcement', 'officials', 'find', 'new', 'witnesses', 'forensics', 'experts', 'lot', 'circumstantial', 'evidence—including', 'small', 'wooden', 'coffin', 'michael', 'uses', 'receptacle', 'parishioners', 'packs', 'unsmoked', 'cigarettes—and', 'reopen', 'investigation', 'eventually', 'lindy', 'charged', 'murder', 'seven', 'months', 'pregnant', 'ignores', 'attorneys', 'advice', 'play', 'jurys', 'sympathy', 'appears', 'emotionless', 'stand', 'convincing', 'onlookers', 'guilty', 'crime', 'accused', 'trial', 'progresses', 'michaels', 'faith', 'religion', 'belief', 'wife', 'disintegrate', 'stumbles', 'testimony', 'suggesting', 'concealing', 'truth', 'october', '1982', 'lindy', 'found', 'guilty', 'sentenced', 'life', 'imprisonment', 'hard', 'labour', 'michael', 'found', 'guilty', 'accessory', 'given', '18month', 'suspended', 'sentence', 'three', 'years', 'later', 'searching', 'body', 'english', 'tourist', 'fell', 'uluru', 'police', 'discover', 'small', 'item', 'clothing', 'identified', 'jacket', 'lindy', 'insisted', 'azaria', 'wearing', 'jumpsuit', 'recovered', 'early', 'investigation', 'immediately', 'released', 'prison', 'case', 'reopened', 'convictions', 'chamberlains', 'overturned']\n"
          ]
        },
        {
          "name": "stderr",
          "output_type": "stream",
          "text": [
            "                                                                                \r"
          ]
        }
      ],
      "source": [
        "# Quitar los signos de puntuación \n",
        "\n",
        "import string\n",
        "def removePunctuationsFunct(x):\n",
        "    list_punct=list(string.punctuation)\n",
        "    filtered = [''.join(c for c in s if c not in list_punct) for s in x] \n",
        "    filtered_space = [s for s in filtered if s] #remove empty space \n",
        "    return filtered\n",
        "\n",
        "plot_summaries_punct = plot_summaries_stop.map(removePunctuationsFunct)\n",
        "\n",
        "for palabra in plot_summaries_punct.take(5):\n",
        "  print(palabra)"
      ]
    },
    {
      "cell_type": "code",
      "execution_count": 42,
      "metadata": {
        "id": "LUOmkMOwkyIy"
      },
      "outputs": [
        {
          "name": "stderr",
          "output_type": "stream",
          "text": [
            "22/02/28 22:37:35 WARN TaskSetManager: Stage 44 contains a task of very large size (18273 KiB). The maximum recommended task size is 1000 KiB.\n",
            "[Stage 44:>                                                         (0 + 1) / 1]\r"
          ]
        },
        {
          "name": "stdout",
          "output_type": "stream",
          "text": [
            "shlykov\n",
            "hardworking\n",
            "taxi\n",
            "driver\n",
            "lyosha\n",
            "saxophonist\n",
            "develop\n",
            "bizarre\n",
            "lovehate\n",
            "relationship\n"
          ]
        },
        {
          "name": "stderr",
          "output_type": "stream",
          "text": [
            "                                                                                \r"
          ]
        }
      ],
      "source": [
        "# Aplanar las palabras\n",
        "\n",
        "def unir(lista):\n",
        "  todos = []\n",
        "  for i in range(len(lista)):\n",
        "    for j in range(len(lista[i])):\n",
        "      todos.append(lista[i][j])\n",
        "  return lista\n",
        "\n",
        "plot_summaries_flat = plot_summaries_punct.flatMap(unir)\n",
        "\n",
        "for palabra in plot_summaries_flat.take(10):\n",
        "  print(palabra)"
      ]
    },
    {
      "cell_type": "code",
      "execution_count": 43,
      "metadata": {
        "id": "EgIHb3rC07b_"
      },
      "outputs": [
        {
          "name": "stderr",
          "output_type": "stream",
          "text": [
            "22/02/28 22:37:38 WARN TaskSetManager: Stage 45 contains a task of very large size (18273 KiB). The maximum recommended task size is 1000 KiB.\n",
            "[Stage 50:===========================================>              (3 + 1) / 4]\r"
          ]
        },
        {
          "name": "stdout",
          "output_type": "stream",
          "text": [
            "('', 142895)\n",
            "('one', 31215)\n",
            "('him', 27672)\n",
            "('back', 24460)\n",
            "('two', 21753)\n",
            "('film', 20271)\n",
            "('tells', 19109)\n",
            "('her', 18468)\n",
            "('father', 18338)\n",
            "('man', 18170)\n"
          ]
        },
        {
          "name": "stderr",
          "output_type": "stream",
          "text": [
            "                                                                                \r"
          ]
        }
      ],
      "source": [
        "# Contar ocurrencias de las palabras\n",
        "\n",
        "plot_summaries_palabras = plot_summaries_flat.map(lambda x: (x,1)) \\\n",
        "                                              .reduceByKey(lambda a,b: a+b) \\\n",
        "                                              .sortBy(lambda x: x[1], ascending = False)\n",
        "\n",
        "for palabra in plot_summaries_palabras.take(10):\n",
        "  print(palabra)"
      ]
    },
    {
      "cell_type": "markdown",
      "metadata": {
        "id": "cU5BJQZUpTn-"
      },
      "source": [
        "## Q-Gramas"
      ]
    },
    {
      "cell_type": "code",
      "execution_count": 44,
      "metadata": {
        "id": "KnV1ejyfelWI"
      },
      "outputs": [],
      "source": [
        "# Función para sacar q-gramas\n",
        "def gramas(palabra, q):\n",
        "  n = len(palabra)\n",
        "  lista_gramas = []\n",
        "  for i in range(n-q+1):\n",
        "    lista_gramas.append((palabra[i:i+q],1))\n",
        "  return lista_gramas"
      ]
    },
    {
      "cell_type": "code",
      "execution_count": 45,
      "metadata": {
        "id": "KocDaRZ5Ji5_"
      },
      "outputs": [
        {
          "name": "stderr",
          "output_type": "stream",
          "text": [
            "22/02/28 22:39:35 WARN TaskSetManager: Stage 52 contains a task of very large size (18273 KiB). The maximum recommended task size is 1000 KiB.\n",
            "                                                                                \r"
          ]
        },
        {
          "name": "stdout",
          "output_type": "stream",
          "text": [
            "('in', 888731)\n",
            "('er', 778264)\n",
            "('es', 680630)\n",
            "('re', 585268)\n",
            "('an', 562525)\n",
            "('ng', 556631)\n",
            "('ar', 514032)\n",
            "('en', 512426)\n",
            "('on', 505966)\n",
            "('te', 484857)\n"
          ]
        }
      ],
      "source": [
        "# Contar ocurrencias de bigramas\n",
        "plot_summaries_bigramas = plot_summaries_flat.flatMap(lambda x: gramas(x,2)) \\\n",
        "                                              .reduceByKey(lambda a, b: a + b) \\\n",
        "                                              .sortBy(lambda x: x[1], ascending = False)\n",
        "\n",
        "for palabra in plot_summaries_bigramas.take(10):\n",
        "  print(palabra)"
      ]
    },
    {
      "cell_type": "code",
      "execution_count": 46,
      "metadata": {
        "id": "NJ8ncP6dM-cc"
      },
      "outputs": [
        {
          "data": {
            "text/plain": [
              "3433"
            ]
          },
          "execution_count": 46,
          "metadata": {},
          "output_type": "execute_result"
        }
      ],
      "source": [
        "# Cuenta de bigramas\n",
        "plot_summaries_bigramas.count()"
      ]
    },
    {
      "cell_type": "code",
      "execution_count": 47,
      "metadata": {
        "id": "ORXrhng30RkQ"
      },
      "outputs": [
        {
          "name": "stderr",
          "output_type": "stream",
          "text": [
            "[Stage 70:>                                                         (0 + 0) / 4]\r"
          ]
        },
        {
          "name": "stdout",
          "output_type": "stream",
          "text": [
            "('íq', 1)\n",
            "('6¢', 1)\n",
            "('’”', 1)\n",
            "('而不', 1)\n",
            "('不改', 1)\n",
            "('是謂', 1)\n",
            "('çã', 1)\n",
            "('\\u200bh', 1)\n",
            "('\\u200bs', 1)\n",
            "('\\n1', 1)\n"
          ]
        },
        {
          "name": "stderr",
          "output_type": "stream",
          "text": [
            "                                                                                \r"
          ]
        }
      ],
      "source": [
        "# Ver qué bigramas se repiten menos\n",
        "\n",
        "p = plot_summaries_bigramas.sortBy(lambda x: x[1], ascending = True)\n",
        "\n",
        "for palabra in p.take(10):\n",
        "  print(palabra)"
      ]
    },
    {
      "cell_type": "code",
      "execution_count": 48,
      "metadata": {
        "id": "pfb0-LNtRei4"
      },
      "outputs": [
        {
          "data": {
            "text/plain": [
              "True"
            ]
          },
          "execution_count": 48,
          "metadata": {},
          "output_type": "execute_result"
        }
      ],
      "source": [
        "# Función para detectar gramas validos\n",
        "import re\n",
        "\n",
        "def valido_grama(grama, n):\n",
        "\n",
        "  pattern = re.compile(\"[a-z]{\" + str(n) + \"}\")\n",
        "  if pattern.match(grama):\n",
        "    return True\n",
        "\n",
        "valido_grama('ac', 2)"
      ]
    },
    {
      "cell_type": "code",
      "execution_count": 49,
      "metadata": {
        "id": "2QPU1AVtPEJ2"
      },
      "outputs": [
        {
          "name": "stdout",
          "output_type": "stream",
          "text": [
            "('bx', 1)\n",
            "('fq', 2)\n",
            "('jq', 2)\n",
            "('wx', 2)\n",
            "('vq', 2)\n",
            "('qy', 3)\n",
            "('qd', 3)\n",
            "('qx', 3)\n",
            "('cx', 3)\n",
            "('qp', 4)\n"
          ]
        }
      ],
      "source": [
        "# Bigramas validos menos repetidos\n",
        "p = plot_summaries_bigramas.filter(lambda x : valido_grama(x[0],2)).sortBy(lambda x: x[1], ascending = True)\n",
        "\n",
        "for palabra in p.take(10):\n",
        "  print(palabra)"
      ]
    },
    {
      "cell_type": "code",
      "execution_count": 50,
      "metadata": {
        "id": "XeZg7AK9PEJ2"
      },
      "outputs": [
        {
          "data": {
            "text/plain": [
              "673"
            ]
          },
          "execution_count": 50,
          "metadata": {},
          "output_type": "execute_result"
        }
      ],
      "source": [
        "# Cuenta bigramas, esperados: 26^2=276\n",
        "p.count()"
      ]
    },
    {
      "cell_type": "code",
      "execution_count": 51,
      "metadata": {
        "id": "4WdrFkMr0BKo"
      },
      "outputs": [
        {
          "name": "stderr",
          "output_type": "stream",
          "text": [
            "22/02/28 22:42:41 WARN TaskSetManager: Stage 86 contains a task of very large size (18273 KiB). The maximum recommended task size is 1000 KiB.\n",
            "                                                                                \r"
          ]
        },
        {
          "name": "stdout",
          "output_type": "stream",
          "text": [
            "('ing', 435139)\n",
            "('ent', 160454)\n",
            "('ter', 150150)\n",
            "('her', 140996)\n",
            "('ion', 134398)\n",
            "('the', 125719)\n",
            "('ers', 123246)\n",
            "('ate', 114046)\n",
            "('all', 112322)\n",
            "('ver', 105528)\n"
          ]
        }
      ],
      "source": [
        "# Contar ocurrencias por trigrama\n",
        "plot_summaries_trigramas = plot_summaries_flat.flatMap(lambda x: gramas(x,3)). \\\n",
        "                                              reduceByKey(lambda a, b: a + b). \\\n",
        "                                              sortBy(lambda x: x[1], ascending = False)\n",
        "\n",
        "for palabra in plot_summaries_trigramas.take(10):\n",
        "  print(palabra)"
      ]
    },
    {
      "cell_type": "code",
      "execution_count": 52,
      "metadata": {
        "id": "hBYIxkD_SXB8"
      },
      "outputs": [
        {
          "name": "stdout",
          "output_type": "stream",
          "text": [
            "('yqv', 1)\n",
            "('ehj', 1)\n",
            "('vty', 1)\n",
            "('drw', 1)\n",
            "('bph', 1)\n",
            "('fgc', 1)\n",
            "('tpj', 1)\n",
            "('rfd', 1)\n",
            "('pyx', 1)\n",
            "('lnt', 1)\n"
          ]
        }
      ],
      "source": [
        "# Trigramas validos menos repetidos\n",
        "p = plot_summaries_trigramas.filter(lambda x : valido_grama(x[0],3)).sortBy(lambda x: x[1], ascending = True)\n",
        "\n",
        "for palabra in p.take(10):\n",
        "  print(palabra)"
      ]
    },
    {
      "cell_type": "markdown",
      "metadata": {
        "id": "VKS0Y0VM4Hmf"
      },
      "source": [
        "## Porcentaje de Peliculas que mencionan una Palabra\n"
      ]
    },
    {
      "cell_type": "code",
      "execution_count": 53,
      "metadata": {
        "id": "ZtSQ3zSaDi0B"
      },
      "outputs": [],
      "source": [
        "def pertenece(palabra, documento):\n",
        "  if palabra in documento:\n",
        "    return 1\n",
        "  else: \n",
        "    return 0"
      ]
    },
    {
      "cell_type": "code",
      "execution_count": 54,
      "metadata": {
        "id": "Ve3DsuR0DbN6"
      },
      "outputs": [
        {
          "name": "stderr",
          "output_type": "stream",
          "text": [
            "22/02/28 22:46:07 WARN TaskSetManager: Stage 103 contains a task of very large size (18273 KiB). The maximum recommended task size is 1000 KiB.\n",
            "[Stage 103:==========================================>              (3 + 1) / 4]\r"
          ]
        },
        {
          "name": "stdout",
          "output_type": "stream",
          "text": [
            "9084\n"
          ]
        },
        {
          "name": "stderr",
          "output_type": "stream",
          "text": [
            "                                                                                \r"
          ]
        }
      ],
      "source": [
        "def cuenta(palabra):\n",
        "  plot_summaries_cuenta = plot_summaries_punct.map(lambda x: pertenece(palabra, x)).reduce(lambda a,b:a+b)\n",
        "\n",
        "  print(plot_summaries_cuenta)\n",
        "\n",
        "cuenta('father')"
      ]
    },
    {
      "cell_type": "code",
      "execution_count": 55,
      "metadata": {
        "id": "gHiaOFpJHlxX"
      },
      "outputs": [
        {
          "name": "stderr",
          "output_type": "stream",
          "text": [
            "22/02/28 22:48:16 WARN TaskSetManager: Stage 104 contains a task of very large size (18273 KiB). The maximum recommended task size is 1000 KiB.\n",
            "[Stage 104:==========================================>              (3 + 1) / 4]\r"
          ]
        },
        {
          "name": "stdout",
          "output_type": "stream",
          "text": [
            "578\n"
          ]
        },
        {
          "name": "stderr",
          "output_type": "stream",
          "text": [
            "                                                                                \r"
          ]
        }
      ],
      "source": [
        "cuenta('gay')"
      ]
    },
    {
      "cell_type": "code",
      "execution_count": 56,
      "metadata": {
        "id": "CESGwra7StAE"
      },
      "outputs": [
        {
          "name": "stderr",
          "output_type": "stream",
          "text": [
            "22/02/28 22:50:07 WARN TaskSetManager: Stage 105 contains a task of very large size (18273 KiB). The maximum recommended task size is 1000 KiB.\n",
            "22/02/28 22:51:43 WARN TaskSetManager: Stage 106 contains a task of very large size (18273 KiB). The maximum recommended task size is 1000 KiB.\n",
            "[Stage 106:==========================================>              (3 + 1) / 4]\r"
          ]
        },
        {
          "name": "stdout",
          "output_type": "stream",
          "text": [
            "21.473654350755265\n"
          ]
        },
        {
          "name": "stderr",
          "output_type": "stream",
          "text": [
            "                                                                                \r"
          ]
        }
      ],
      "source": [
        "def porcentaje(palabra):\n",
        "  plot_summaries_cuenta = plot_summaries_punct.map(lambda x: pertenece(palabra, x)).reduce(lambda a,b:a+b)\n",
        "\n",
        "  print(str(plot_summaries_cuenta*100/plot_summaries_punct.count()))\n",
        "\n",
        "porcentaje('father')"
      ]
    },
    {
      "cell_type": "code",
      "execution_count": 57,
      "metadata": {
        "id": "lI8abya7UBOz"
      },
      "outputs": [
        {
          "name": "stderr",
          "output_type": "stream",
          "text": [
            "22/02/28 22:53:23 WARN TaskSetManager: Stage 107 contains a task of very large size (18273 KiB). The maximum recommended task size is 1000 KiB.\n",
            "22/02/28 22:55:07 WARN TaskSetManager: Stage 108 contains a task of very large size (18273 KiB). The maximum recommended task size is 1000 KiB.\n",
            "[Stage 108:==========================================>              (3 + 1) / 4]\r"
          ]
        },
        {
          "name": "stdout",
          "output_type": "stream",
          "text": [
            "1.3663333569723188\n"
          ]
        },
        {
          "name": "stderr",
          "output_type": "stream",
          "text": [
            "                                                                                \r"
          ]
        }
      ],
      "source": [
        "porcentaje('gay')"
      ]
    },
    {
      "cell_type": "markdown",
      "metadata": {
        "id": "4QNgnr_GtYIh"
      },
      "source": [
        "## Términos Despectivos"
      ]
    },
    {
      "cell_type": "code",
      "execution_count": 71,
      "metadata": {},
      "outputs": [
        {
          "name": "stderr",
          "output_type": "stream",
          "text": [
            "22/03/01 09:43:25 WARN TaskSetManager: Stage 123 contains a task of very large size (18273 KiB). The maximum recommended task size is 1000 KiB.\n",
            "22/03/01 09:44:23 WARN TaskSetManager: Stage 124 contains a task of very large size (18273 KiB). The maximum recommended task size is 1000 KiB.\n",
            "22/03/01 09:45:20 WARN TaskSetManager: Stage 125 contains a task of very large size (18273 KiB). The maximum recommended task size is 1000 KiB.\n",
            "                                                                                \r"
          ]
        },
        {
          "data": {
            "text/plain": [
              "[('23753991', 3),\n",
              " ('5752544', 2),\n",
              " ('17997162', 1),\n",
              " ('12298570', 1),\n",
              " ('1834238', 1)]"
            ]
          },
          "execution_count": 71,
          "metadata": {},
          "output_type": "execute_result"
        }
      ],
      "source": [
        "cont_f = cont.map(lambda x: (x[0], x[1].count('faggot')))\n",
        "cont_f = cont_f.sortBy(lambda renglon: renglon[1], ascending = False)\n",
        "cont_f.take(5)"
      ]
    },
    {
      "cell_type": "code",
      "execution_count": 72,
      "metadata": {},
      "outputs": [
        {
          "name": "stderr",
          "output_type": "stream",
          "text": [
            "22/03/01 09:46:43 WARN TaskSetManager: Stage 127 contains a task of very large size (12858 KiB). The maximum recommended task size is 1000 KiB.\n",
            "22/03/01 09:46:44 WARN TaskSetManager: Stage 128 contains a task of very large size (12866 KiB). The maximum recommended task size is 1000 KiB.\n",
            "                                                                                \r"
          ]
        },
        {
          "data": {
            "text/plain": [
              "[['23753991',\n",
              "  '/m/06zshz4',\n",
              "  '2009',\n",
              "  '',\n",
              "  '',\n",
              "  '',\n",
              "  '',\n",
              "  '',\n",
              "  'Cameron Mitchell Mason',\n",
              "  '',\n",
              "  '/m/0gcjgpp',\n",
              "  '',\n",
              "  '/m/0gbz7bj']]"
            ]
          },
          "execution_count": 72,
          "metadata": {},
          "output_type": "execute_result"
        }
      ],
      "source": [
        "character.filter(lambda x: x[0] == '23753991').take(1)"
      ]
    },
    {
      "cell_type": "markdown",
      "metadata": {},
      "source": [
        "## Equidad (?)"
      ]
    },
    {
      "cell_type": "code",
      "execution_count": 73,
      "metadata": {},
      "outputs": [
        {
          "name": "stderr",
          "output_type": "stream",
          "text": [
            "22/03/01 09:53:04 WARN TaskSetManager: Stage 129 contains a task of very large size (18273 KiB). The maximum recommended task size is 1000 KiB.\n",
            "                                                                                \r"
          ]
        },
        {
          "name": "stdout",
          "output_type": "stream",
          "text": [
            "196\n"
          ]
        },
        {
          "name": "stderr",
          "output_type": "stream",
          "text": [
            "22/03/01 09:54:21 WARN TaskSetManager: Stage 130 contains a task of very large size (18273 KiB). The maximum recommended task size is 1000 KiB.\n",
            "22/03/01 09:55:17 WARN TaskSetManager: Stage 131 contains a task of very large size (18273 KiB). The maximum recommended task size is 1000 KiB.\n"
          ]
        },
        {
          "name": "stdout",
          "output_type": "stream",
          "text": [
            "352\n"
          ]
        },
        {
          "name": "stderr",
          "output_type": "stream",
          "text": [
            "                                                                                \r"
          ]
        },
        {
          "name": "stdout",
          "output_type": "stream",
          "text": [
            "36\n"
          ]
        },
        {
          "name": "stderr",
          "output_type": "stream",
          "text": [
            "22/03/01 09:56:35 WARN TaskSetManager: Stage 132 contains a task of very large size (18273 KiB). The maximum recommended task size is 1000 KiB.\n",
            "22/03/01 09:57:42 WARN TaskSetManager: Stage 133 contains a task of very large size (18273 KiB). The maximum recommended task size is 1000 KiB.\n"
          ]
        },
        {
          "name": "stdout",
          "output_type": "stream",
          "text": [
            "741\n"
          ]
        },
        {
          "name": "stderr",
          "output_type": "stream",
          "text": [
            "22/03/01 09:58:55 WARN TaskSetManager: Stage 134 contains a task of very large size (18273 KiB). The maximum recommended task size is 1000 KiB.\n"
          ]
        },
        {
          "name": "stdout",
          "output_type": "stream",
          "text": [
            "768\n"
          ]
        },
        {
          "name": "stderr",
          "output_type": "stream",
          "text": [
            "ERROR:root:KeyboardInterrupt while sending command.                 (0 + 4) / 4]\n",
            "Traceback (most recent call last):\n",
            "  File \"/usr/local/lib/python3.9/site-packages/py4j/java_gateway.py\", line 1038, in send_command\n",
            "    response = connection.send_command(command)\n",
            "  File \"/usr/local/lib/python3.9/site-packages/py4j/clientserver.py\", line 475, in send_command\n",
            "    answer = smart_decode(self.stream.readline()[:-1])\n",
            "  File \"/usr/local/Cellar/python@3.9/3.9.10/Frameworks/Python.framework/Versions/3.9/lib/python3.9/socket.py\", line 704, in readinto\n",
            "    return self._sock.recv_into(b)\n",
            "KeyboardInterrupt\n"
          ]
        },
        {
          "ename": "KeyboardInterrupt",
          "evalue": "",
          "output_type": "error",
          "traceback": [
            "\u001b[0;31m---------------------------------------------------------------------------\u001b[0m",
            "\u001b[0;31mKeyboardInterrupt\u001b[0m                         Traceback (most recent call last)",
            "\u001b[0;32m/var/folders/7n/jy1_ycd91snbbhld0x37jht80000gn/T/ipykernel_73254/1741736620.py\u001b[0m in \u001b[0;36m<module>\u001b[0;34m\u001b[0m\n\u001b[1;32m      4\u001b[0m \u001b[0mmiss\u001b[0m\u001b[0;34m=\u001b[0m\u001b[0mcuenta\u001b[0m\u001b[0;34m(\u001b[0m\u001b[0;34m'miss'\u001b[0m\u001b[0;34m)\u001b[0m\u001b[0;34m\u001b[0m\u001b[0;34m\u001b[0m\u001b[0m\n\u001b[1;32m      5\u001b[0m \u001b[0mactor\u001b[0m\u001b[0;34m=\u001b[0m\u001b[0mcuenta\u001b[0m\u001b[0;34m(\u001b[0m\u001b[0;34m'actor'\u001b[0m\u001b[0;34m)\u001b[0m\u001b[0;34m\u001b[0m\u001b[0;34m\u001b[0m\u001b[0m\n\u001b[0;32m----> 6\u001b[0;31m \u001b[0mactress\u001b[0m\u001b[0;34m=\u001b[0m\u001b[0mcuenta\u001b[0m\u001b[0;34m(\u001b[0m\u001b[0;34m'actress'\u001b[0m\u001b[0;34m)\u001b[0m\u001b[0;34m\u001b[0m\u001b[0;34m\u001b[0m\u001b[0m\n\u001b[0m\u001b[1;32m      7\u001b[0m \u001b[0mbusinessman\u001b[0m\u001b[0;34m=\u001b[0m\u001b[0mcuenta\u001b[0m\u001b[0;34m(\u001b[0m\u001b[0;34m'businessman'\u001b[0m\u001b[0;34m)\u001b[0m\u001b[0;34m\u001b[0m\u001b[0;34m\u001b[0m\u001b[0m\n\u001b[1;32m      8\u001b[0m \u001b[0mbusinesswoman\u001b[0m\u001b[0;34m=\u001b[0m\u001b[0mcuenta\u001b[0m\u001b[0;34m(\u001b[0m\u001b[0;34m'businesswoman'\u001b[0m\u001b[0;34m)\u001b[0m\u001b[0;34m\u001b[0m\u001b[0;34m\u001b[0m\u001b[0m\n",
            "\u001b[0;32m/var/folders/7n/jy1_ycd91snbbhld0x37jht80000gn/T/ipykernel_73254/3923470721.py\u001b[0m in \u001b[0;36mcuenta\u001b[0;34m(palabra)\u001b[0m\n\u001b[1;32m      1\u001b[0m \u001b[0;32mdef\u001b[0m \u001b[0mcuenta\u001b[0m\u001b[0;34m(\u001b[0m\u001b[0mpalabra\u001b[0m\u001b[0;34m)\u001b[0m\u001b[0;34m:\u001b[0m\u001b[0;34m\u001b[0m\u001b[0;34m\u001b[0m\u001b[0m\n\u001b[0;32m----> 2\u001b[0;31m   \u001b[0mplot_summaries_cuenta\u001b[0m \u001b[0;34m=\u001b[0m \u001b[0mplot_summaries_punct\u001b[0m\u001b[0;34m.\u001b[0m\u001b[0mmap\u001b[0m\u001b[0;34m(\u001b[0m\u001b[0;32mlambda\u001b[0m \u001b[0mx\u001b[0m\u001b[0;34m:\u001b[0m \u001b[0mpertenece\u001b[0m\u001b[0;34m(\u001b[0m\u001b[0mpalabra\u001b[0m\u001b[0;34m,\u001b[0m \u001b[0mx\u001b[0m\u001b[0;34m)\u001b[0m\u001b[0;34m)\u001b[0m\u001b[0;34m.\u001b[0m\u001b[0mreduce\u001b[0m\u001b[0;34m(\u001b[0m\u001b[0;32mlambda\u001b[0m \u001b[0ma\u001b[0m\u001b[0;34m,\u001b[0m\u001b[0mb\u001b[0m\u001b[0;34m:\u001b[0m\u001b[0ma\u001b[0m\u001b[0;34m+\u001b[0m\u001b[0mb\u001b[0m\u001b[0;34m)\u001b[0m\u001b[0;34m\u001b[0m\u001b[0;34m\u001b[0m\u001b[0m\n\u001b[0m\u001b[1;32m      3\u001b[0m \u001b[0;34m\u001b[0m\u001b[0m\n\u001b[1;32m      4\u001b[0m   \u001b[0mprint\u001b[0m\u001b[0;34m(\u001b[0m\u001b[0mplot_summaries_cuenta\u001b[0m\u001b[0;34m)\u001b[0m\u001b[0;34m\u001b[0m\u001b[0;34m\u001b[0m\u001b[0m\n\u001b[1;32m      5\u001b[0m \u001b[0;34m\u001b[0m\u001b[0m\n",
            "\u001b[0;32m/usr/local/lib/python3.9/site-packages/pyspark/rdd.py\u001b[0m in \u001b[0;36mreduce\u001b[0;34m(self, f)\u001b[0m\n\u001b[1;32m    997\u001b[0m             \u001b[0;32myield\u001b[0m \u001b[0mreduce\u001b[0m\u001b[0;34m(\u001b[0m\u001b[0mf\u001b[0m\u001b[0;34m,\u001b[0m \u001b[0miterator\u001b[0m\u001b[0;34m,\u001b[0m \u001b[0minitial\u001b[0m\u001b[0;34m)\u001b[0m\u001b[0;34m\u001b[0m\u001b[0;34m\u001b[0m\u001b[0m\n\u001b[1;32m    998\u001b[0m \u001b[0;34m\u001b[0m\u001b[0m\n\u001b[0;32m--> 999\u001b[0;31m         \u001b[0mvals\u001b[0m \u001b[0;34m=\u001b[0m \u001b[0mself\u001b[0m\u001b[0;34m.\u001b[0m\u001b[0mmapPartitions\u001b[0m\u001b[0;34m(\u001b[0m\u001b[0mfunc\u001b[0m\u001b[0;34m)\u001b[0m\u001b[0;34m.\u001b[0m\u001b[0mcollect\u001b[0m\u001b[0;34m(\u001b[0m\u001b[0;34m)\u001b[0m\u001b[0;34m\u001b[0m\u001b[0;34m\u001b[0m\u001b[0m\n\u001b[0m\u001b[1;32m   1000\u001b[0m         \u001b[0;32mif\u001b[0m \u001b[0mvals\u001b[0m\u001b[0;34m:\u001b[0m\u001b[0;34m\u001b[0m\u001b[0;34m\u001b[0m\u001b[0m\n\u001b[1;32m   1001\u001b[0m             \u001b[0;32mreturn\u001b[0m \u001b[0mreduce\u001b[0m\u001b[0;34m(\u001b[0m\u001b[0mf\u001b[0m\u001b[0;34m,\u001b[0m \u001b[0mvals\u001b[0m\u001b[0;34m)\u001b[0m\u001b[0;34m\u001b[0m\u001b[0;34m\u001b[0m\u001b[0m\n",
            "\u001b[0;32m/usr/local/lib/python3.9/site-packages/pyspark/rdd.py\u001b[0m in \u001b[0;36mcollect\u001b[0;34m(self)\u001b[0m\n\u001b[1;32m    948\u001b[0m         \"\"\"\n\u001b[1;32m    949\u001b[0m         \u001b[0;32mwith\u001b[0m \u001b[0mSCCallSiteSync\u001b[0m\u001b[0;34m(\u001b[0m\u001b[0mself\u001b[0m\u001b[0;34m.\u001b[0m\u001b[0mcontext\u001b[0m\u001b[0;34m)\u001b[0m \u001b[0;32mas\u001b[0m \u001b[0mcss\u001b[0m\u001b[0;34m:\u001b[0m\u001b[0;34m\u001b[0m\u001b[0;34m\u001b[0m\u001b[0m\n\u001b[0;32m--> 950\u001b[0;31m             \u001b[0msock_info\u001b[0m \u001b[0;34m=\u001b[0m \u001b[0mself\u001b[0m\u001b[0;34m.\u001b[0m\u001b[0mctx\u001b[0m\u001b[0;34m.\u001b[0m\u001b[0m_jvm\u001b[0m\u001b[0;34m.\u001b[0m\u001b[0mPythonRDD\u001b[0m\u001b[0;34m.\u001b[0m\u001b[0mcollectAndServe\u001b[0m\u001b[0;34m(\u001b[0m\u001b[0mself\u001b[0m\u001b[0;34m.\u001b[0m\u001b[0m_jrdd\u001b[0m\u001b[0;34m.\u001b[0m\u001b[0mrdd\u001b[0m\u001b[0;34m(\u001b[0m\u001b[0;34m)\u001b[0m\u001b[0;34m)\u001b[0m\u001b[0;34m\u001b[0m\u001b[0;34m\u001b[0m\u001b[0m\n\u001b[0m\u001b[1;32m    951\u001b[0m         \u001b[0;32mreturn\u001b[0m \u001b[0mlist\u001b[0m\u001b[0;34m(\u001b[0m\u001b[0m_load_from_socket\u001b[0m\u001b[0;34m(\u001b[0m\u001b[0msock_info\u001b[0m\u001b[0;34m,\u001b[0m \u001b[0mself\u001b[0m\u001b[0;34m.\u001b[0m\u001b[0m_jrdd_deserializer\u001b[0m\u001b[0;34m)\u001b[0m\u001b[0;34m)\u001b[0m\u001b[0;34m\u001b[0m\u001b[0;34m\u001b[0m\u001b[0m\n\u001b[1;32m    952\u001b[0m \u001b[0;34m\u001b[0m\u001b[0m\n",
            "\u001b[0;32m/usr/local/lib/python3.9/site-packages/py4j/java_gateway.py\u001b[0m in \u001b[0;36m__call__\u001b[0;34m(self, *args)\u001b[0m\n\u001b[1;32m   1318\u001b[0m             \u001b[0mproto\u001b[0m\u001b[0;34m.\u001b[0m\u001b[0mEND_COMMAND_PART\u001b[0m\u001b[0;34m\u001b[0m\u001b[0;34m\u001b[0m\u001b[0m\n\u001b[1;32m   1319\u001b[0m \u001b[0;34m\u001b[0m\u001b[0m\n\u001b[0;32m-> 1320\u001b[0;31m         \u001b[0manswer\u001b[0m \u001b[0;34m=\u001b[0m \u001b[0mself\u001b[0m\u001b[0;34m.\u001b[0m\u001b[0mgateway_client\u001b[0m\u001b[0;34m.\u001b[0m\u001b[0msend_command\u001b[0m\u001b[0;34m(\u001b[0m\u001b[0mcommand\u001b[0m\u001b[0;34m)\u001b[0m\u001b[0;34m\u001b[0m\u001b[0;34m\u001b[0m\u001b[0m\n\u001b[0m\u001b[1;32m   1321\u001b[0m         return_value = get_return_value(\n\u001b[1;32m   1322\u001b[0m             answer, self.gateway_client, self.target_id, self.name)\n",
            "\u001b[0;32m/usr/local/lib/python3.9/site-packages/py4j/java_gateway.py\u001b[0m in \u001b[0;36msend_command\u001b[0;34m(self, command, retry, binary)\u001b[0m\n\u001b[1;32m   1036\u001b[0m         \u001b[0mconnection\u001b[0m \u001b[0;34m=\u001b[0m \u001b[0mself\u001b[0m\u001b[0;34m.\u001b[0m\u001b[0m_get_connection\u001b[0m\u001b[0;34m(\u001b[0m\u001b[0;34m)\u001b[0m\u001b[0;34m\u001b[0m\u001b[0;34m\u001b[0m\u001b[0m\n\u001b[1;32m   1037\u001b[0m         \u001b[0;32mtry\u001b[0m\u001b[0;34m:\u001b[0m\u001b[0;34m\u001b[0m\u001b[0;34m\u001b[0m\u001b[0m\n\u001b[0;32m-> 1038\u001b[0;31m             \u001b[0mresponse\u001b[0m \u001b[0;34m=\u001b[0m \u001b[0mconnection\u001b[0m\u001b[0;34m.\u001b[0m\u001b[0msend_command\u001b[0m\u001b[0;34m(\u001b[0m\u001b[0mcommand\u001b[0m\u001b[0;34m)\u001b[0m\u001b[0;34m\u001b[0m\u001b[0;34m\u001b[0m\u001b[0m\n\u001b[0m\u001b[1;32m   1039\u001b[0m             \u001b[0;32mif\u001b[0m \u001b[0mbinary\u001b[0m\u001b[0;34m:\u001b[0m\u001b[0;34m\u001b[0m\u001b[0;34m\u001b[0m\u001b[0m\n\u001b[1;32m   1040\u001b[0m                 \u001b[0;32mreturn\u001b[0m \u001b[0mresponse\u001b[0m\u001b[0;34m,\u001b[0m \u001b[0mself\u001b[0m\u001b[0;34m.\u001b[0m\u001b[0m_create_connection_guard\u001b[0m\u001b[0;34m(\u001b[0m\u001b[0mconnection\u001b[0m\u001b[0;34m)\u001b[0m\u001b[0;34m\u001b[0m\u001b[0;34m\u001b[0m\u001b[0m\n",
            "\u001b[0;32m/usr/local/lib/python3.9/site-packages/py4j/clientserver.py\u001b[0m in \u001b[0;36msend_command\u001b[0;34m(self, command)\u001b[0m\n\u001b[1;32m    473\u001b[0m         \u001b[0;32mtry\u001b[0m\u001b[0;34m:\u001b[0m\u001b[0;34m\u001b[0m\u001b[0;34m\u001b[0m\u001b[0m\n\u001b[1;32m    474\u001b[0m             \u001b[0;32mwhile\u001b[0m \u001b[0;32mTrue\u001b[0m\u001b[0;34m:\u001b[0m\u001b[0;34m\u001b[0m\u001b[0;34m\u001b[0m\u001b[0m\n\u001b[0;32m--> 475\u001b[0;31m                 \u001b[0manswer\u001b[0m \u001b[0;34m=\u001b[0m \u001b[0msmart_decode\u001b[0m\u001b[0;34m(\u001b[0m\u001b[0mself\u001b[0m\u001b[0;34m.\u001b[0m\u001b[0mstream\u001b[0m\u001b[0;34m.\u001b[0m\u001b[0mreadline\u001b[0m\u001b[0;34m(\u001b[0m\u001b[0;34m)\u001b[0m\u001b[0;34m[\u001b[0m\u001b[0;34m:\u001b[0m\u001b[0;34m-\u001b[0m\u001b[0;36m1\u001b[0m\u001b[0;34m]\u001b[0m\u001b[0;34m)\u001b[0m\u001b[0;34m\u001b[0m\u001b[0;34m\u001b[0m\u001b[0m\n\u001b[0m\u001b[1;32m    476\u001b[0m                 \u001b[0mlogger\u001b[0m\u001b[0;34m.\u001b[0m\u001b[0mdebug\u001b[0m\u001b[0;34m(\u001b[0m\u001b[0;34m\"Answer received: {0}\"\u001b[0m\u001b[0;34m.\u001b[0m\u001b[0mformat\u001b[0m\u001b[0;34m(\u001b[0m\u001b[0manswer\u001b[0m\u001b[0;34m)\u001b[0m\u001b[0;34m)\u001b[0m\u001b[0;34m\u001b[0m\u001b[0;34m\u001b[0m\u001b[0m\n\u001b[1;32m    477\u001b[0m                 \u001b[0;31m# Happens when a the other end is dead. There might be an empty\u001b[0m\u001b[0;34m\u001b[0m\u001b[0;34m\u001b[0m\u001b[0m\n",
            "\u001b[0;32m/usr/local/Cellar/python@3.9/3.9.10/Frameworks/Python.framework/Versions/3.9/lib/python3.9/socket.py\u001b[0m in \u001b[0;36mreadinto\u001b[0;34m(self, b)\u001b[0m\n\u001b[1;32m    702\u001b[0m         \u001b[0;32mwhile\u001b[0m \u001b[0;32mTrue\u001b[0m\u001b[0;34m:\u001b[0m\u001b[0;34m\u001b[0m\u001b[0;34m\u001b[0m\u001b[0m\n\u001b[1;32m    703\u001b[0m             \u001b[0;32mtry\u001b[0m\u001b[0;34m:\u001b[0m\u001b[0;34m\u001b[0m\u001b[0;34m\u001b[0m\u001b[0m\n\u001b[0;32m--> 704\u001b[0;31m                 \u001b[0;32mreturn\u001b[0m \u001b[0mself\u001b[0m\u001b[0;34m.\u001b[0m\u001b[0m_sock\u001b[0m\u001b[0;34m.\u001b[0m\u001b[0mrecv_into\u001b[0m\u001b[0;34m(\u001b[0m\u001b[0mb\u001b[0m\u001b[0;34m)\u001b[0m\u001b[0;34m\u001b[0m\u001b[0;34m\u001b[0m\u001b[0m\n\u001b[0m\u001b[1;32m    705\u001b[0m             \u001b[0;32mexcept\u001b[0m \u001b[0mtimeout\u001b[0m\u001b[0;34m:\u001b[0m\u001b[0;34m\u001b[0m\u001b[0;34m\u001b[0m\u001b[0m\n\u001b[1;32m    706\u001b[0m                 \u001b[0mself\u001b[0m\u001b[0;34m.\u001b[0m\u001b[0m_timeout_occurred\u001b[0m \u001b[0;34m=\u001b[0m \u001b[0;32mTrue\u001b[0m\u001b[0;34m\u001b[0m\u001b[0;34m\u001b[0m\u001b[0m\n",
            "\u001b[0;31mKeyboardInterrupt\u001b[0m: "
          ]
        },
        {
          "name": "stderr",
          "output_type": "stream",
          "text": [
            "Exception in thread \"serve RDD 169\" java.net.SocketTimeoutException: Accept timed out\n",
            "\tat java.net.PlainSocketImpl.socketAccept(Native Method)\n",
            "\tat java.net.AbstractPlainSocketImpl.accept(AbstractPlainSocketImpl.java:535)\n",
            "\tat java.net.ServerSocket.implAccept(ServerSocket.java:545)\n",
            "\tat java.net.ServerSocket.accept(ServerSocket.java:513)\n",
            "\tat org.apache.spark.security.SocketAuthServer$$anon$1.run(SocketAuthServer.scala:64)\n"
          ]
        }
      ],
      "source": [
        "waiter=cuenta('waiter')\n",
        "waitress=cuenta('waitress')\n",
        "mister=cuenta('mister')\n",
        "miss=cuenta('miss')\n",
        "actor=cuenta('actor')\n",
        "actress=cuenta('actress')\n",
        "businessman=cuenta('businessman')\n",
        "businesswoman=cuenta('businesswoman')\n",
        "girl=cuenta('girl')\n",
        "boy=cuenta('boy')\n",
        "policeman=cuenta('policeman')\n",
        "policewoman=cuenta('policewoman')"
      ]
    },
    {
      "cell_type": "code",
      "execution_count": null,
      "metadata": {},
      "outputs": [],
      "source": [
        "cuenta('man')\n",
        "cuenta('woman')"
      ]
    },
    {
      "cell_type": "code",
      "execution_count": null,
      "metadata": {},
      "outputs": [],
      "source": [
        "cuenta('father')\n",
        "cuenta('mother')"
      ]
    },
    {
      "cell_type": "code",
      "execution_count": null,
      "metadata": {},
      "outputs": [],
      "source": [
        "cuenta('dad')\n",
        "cuenta('mom')"
      ]
    },
    {
      "cell_type": "code",
      "execution_count": null,
      "metadata": {},
      "outputs": [],
      "source": [
        "import matplotlib.pyplot as plt\n",
        "\n",
        "eje_x = ['waiter', 'waitress', 'mister', 'miss', 'actor', 'actress', 'businessman', 'businesswoman', 'policeman', 'policewoman']\n",
        "eje_y = [196,352,36,741,768,773,865,54,556,27]\n",
        " \n",
        "plt.barh(eje_x, eje_y, color=['blue', 'pink'])\n",
        " \n",
        "plt.xlabel('Cantidad de menciones en resumenes')\n",
        " \n",
        "plt.ylabel('Palabras con genéro')\n",
        " \n",
        "plt.title('Comparación entre masculino y femenino')\n",
        " \n",
        "plt.show()"
      ]
    },
    {
      "cell_type": "code",
      "execution_count": null,
      "metadata": {},
      "outputs": [],
      "source": [
        "cuenta('jesus')\n",
        "cuenta('hugo')\n",
        "cuenta('enrique')\n",
        "cuenta('blanca')\n",
        "cuenta('daniel')\n",
        "cuenta('john')"
      ]
    }
  ],
  "metadata": {
    "colab": {
      "collapsed_sections": [],
      "name": "P1.ipynb",
      "provenance": []
    },
    "interpreter": {
      "hash": "dace54320b3e5d10a320680296c22e4020a583bcc2297e7e554010d74f6aaf0c"
    },
    "kernelspec": {
      "display_name": "Python 3.9.2 64-bit ('3.9.2')",
      "language": "python",
      "name": "python3"
    },
    "language_info": {
      "codemirror_mode": {
        "name": "ipython",
        "version": 3
      },
      "file_extension": ".py",
      "mimetype": "text/x-python",
      "name": "python",
      "nbconvert_exporter": "python",
      "pygments_lexer": "ipython3",
      "version": "3.9.10"
    },
    "orig_nbformat": 4
  },
  "nbformat": 4,
  "nbformat_minor": 0
}
