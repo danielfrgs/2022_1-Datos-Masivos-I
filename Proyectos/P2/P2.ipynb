{
 "cells": [
  {
   "cell_type": "markdown",
   "metadata": {},
   "source": [
    "# Mini-Proyecto 2: Búsqueda de pares similares\n",
    "\n",
    "Fragoso Alvarado Daniel\n",
    "\n",
    "Rangel Ramirez Hugo\n",
    "\n",
    "Jesús Enrique\n",
    "\n",
    "---\n",
    "\n",
    "La base de datos fue obtenida de la discusión de [Kaggle](https://www.kaggle.com/datasets/zynicide/wine-reviews); el cual consiste de 3 archivos:\n",
    "\n",
    "- `winemag-data-130k-v2.csv` contiene 10 columnas y 130k filas de reseñas de vinos.\n",
    "\n",
    "- `winemag-data_first150k.csv` contiene 10 columnas y 150 000 filas de reseñas de vinos.\n",
    "\n",
    "- `winemag-data-130k-v2.json` contiene 6919 nodos de reseñas de vinos."
   ]
  },
  {
   "cell_type": "markdown",
   "metadata": {},
   "source": [
    "Objetivo del mini-proyecto: Implementar un método de búsqueda de pares similares en el conjunto de datos asignado.\n",
    "\n",
    "El proyecto consiste en implementar solo un método de búsqueda como min hashing o índice inverso. Es deseable que se evalúen distintas funciones de distancias/similitud y se analicen los resultados respecto a los pares recuperados y al tiempo. Recuerda: es posible usar bibliotecas y funciones existentes.\n",
    "\n",
    "Estamos considerando que trabajaran con los mismo integrantes del mini-proyecto anterior. En caso de cambios, por favor avísennos."
   ]
  },
  {
   "cell_type": "code",
   "execution_count": null,
   "metadata": {},
   "outputs": [],
   "source": []
  },
  {
   "cell_type": "code",
   "execution_count": null,
   "metadata": {},
   "outputs": [],
   "source": []
  }
 ],
 "metadata": {
  "language_info": {
   "name": "python"
  },
  "orig_nbformat": 4
 },
 "nbformat": 4,
 "nbformat_minor": 2
}
