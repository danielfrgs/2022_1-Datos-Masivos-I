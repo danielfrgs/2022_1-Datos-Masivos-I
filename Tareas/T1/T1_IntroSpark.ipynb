{
 "cells": [
  {
   "cell_type": "markdown",
   "metadata": {},
   "source": [
    "## Tarea 1: Introducción a Spark\n",
    "\n",
    "Fragoso Alvarado Daniel | 316049054"
   ]
  },
  {
   "cell_type": "code",
   "execution_count": 4,
   "metadata": {},
   "outputs": [],
   "source": [
    "import pandas as pd\n",
    "import pyspark\n",
    "# Cargar Funciones Extra\n",
    "from pyspark.sql.functions import * \n",
    "from pyspark.sql import SparkSession\n",
    "\n",
    "spark = SparkSession.builder.appName('Tarea_1').getOrCreate()"
   ]
  },
  {
   "cell_type": "code",
   "execution_count": 16,
   "metadata": {},
   "outputs": [],
   "source": [
    "# Cargar Los Datos:\n",
    "\n",
    "fifa18 = spark.sparkContext.textFile('players_18.csv')"
   ]
  },
  {
   "cell_type": "code",
   "execution_count": 17,
   "metadata": {},
   "outputs": [
    {
     "data": {
      "text/plain": [
       "players_18.csv MapPartitionsRDD[3] at textFile at NativeMethodAccessorImpl.java:0"
      ]
     },
     "execution_count": 17,
     "metadata": {},
     "output_type": "execute_result"
    }
   ],
   "source": [
    "fifa18"
   ]
  },
  {
   "cell_type": "code",
   "execution_count": 18,
   "metadata": {},
   "outputs": [
    {
     "name": "stderr",
     "output_type": "stream",
     "text": [
      "[Stage 0:>                                                          (0 + 1) / 1]\r"
     ]
    },
    {
     "name": "stdout",
     "output_type": "stream",
     "text": [
      "sofifa_id,player_url,short_name,long_name,age,dob,height_cm,weight_kg,nationality,club,overall,potential,value_eur,wage_eur,player_positions,preferred_foot,international_reputation,weak_foot,skill_moves,work_rate,body_type,real_face,release_clause_eur,player_tags,team_position,team_jersey_number,loaned_from,joined,contract_valid_until,nation_position,nation_jersey_number,pace,shooting,passing,dribbling,defending,physic,gk_diving,gk_handling,gk_kicking,gk_reflexes,gk_speed,gk_positioning,player_traits,attacking_crossing,attacking_finishing,attacking_heading_accuracy,attacking_short_passing,attacking_volleys,skill_dribbling,skill_curve,skill_fk_accuracy,skill_long_passing,skill_ball_control,movement_acceleration,movement_sprint_speed,movement_agility,movement_reactions,movement_balance,power_shot_power,power_jumping,power_stamina,power_strength,power_long_shots,mentality_aggression,mentality_interceptions,mentality_positioning,mentality_vision,mentality_penalties,mentality_composure,defending_marking,defending_standing_tackle,defending_sliding_tackle,goalkeeping_diving,goalkeeping_handling,goalkeeping_kicking,goalkeeping_positioning,goalkeeping_reflexes,ls,st,rs,lw,lf,cf,rf,rw,lam,cam,ram,lm,lcm,cm,rcm,rm,lwb,ldm,cdm,rdm,rwb,lb,lcb,cb,rcb,rb\n"
     ]
    },
    {
     "name": "stderr",
     "output_type": "stream",
     "text": [
      "                                                                                \r"
     ]
    }
   ],
   "source": [
    "# Vamos a Observar la primera fila (titulos) de los datos:\n",
    "\n",
    "for renglon in fifa18.take(1):\n",
    "    print(renglon)"
   ]
  },
  {
   "cell_type": "code",
   "execution_count": 21,
   "metadata": {},
   "outputs": [],
   "source": [
    "# Vamos a eliminar la primera fila, que es el nombre de las columnas\n",
    "# para así solo obtener los datos de los jugadores.\n",
    "\n",
    "columnas = fifa18.take(1)[0]\n",
    "# Reasignar los datos\n",
    "\n",
    "fifa18 = fifa18.filter(lambda renglon: renglon != columnas)"
   ]
  },
  {
   "cell_type": "markdown",
   "metadata": {},
   "source": [
    "Vamos a gnerar una función que nos ayude a agregar cada registro en tuplas que tegan los campos de nuestro ínteres. En este caso serán: `nombre`, `edad`, `estatura`, `peso`, `nacionalidad`, `equipo`, `rank`."
   ]
  },
  {
   "cell_type": "code",
   "execution_count": 23,
   "metadata": {},
   "outputs": [],
   "source": [
    "# Vamos a definir una función que agregue los datos deseados en una tupla\n",
    "\n",
    "def separar_campos(renglon):\n",
    "    # Vamos a separar la tupla con comas\n",
    "    separacion = renglon.split(',')\n",
    "    # Extracción de los campos\n",
    "    nombre = str(separacion[2])\n",
    "    edad = int(separacion[4])\n",
    "    estatura = int(separacion[6])\n",
    "    peso = int(separacion[7])\n",
    "    nacionalidad = str(separacion[8])\n",
    "    equipo = str(separacion[9])\n",
    "    rank = int(separacion[10])\n",
    "    # Generamos la Tupla\n",
    "    return (nombre, edad, estatura, peso, nacionalidad, equipo, rank)\n",
    "    "
   ]
  },
  {
   "cell_type": "code",
   "execution_count": 25,
   "metadata": {},
   "outputs": [
    {
     "name": "stderr",
     "output_type": "stream",
     "text": [
      "[Stage 3:>                                                          (0 + 1) / 1]\r"
     ]
    },
    {
     "name": "stdout",
     "output_type": "stream",
     "text": [
      "('Cristiano Ronaldo', 32, 185, 80, 'Portugal', 'Real Madrid', 94)\n"
     ]
    },
    {
     "name": "stderr",
     "output_type": "stream",
     "text": [
      "                                                                                \r"
     ]
    }
   ],
   "source": [
    "# Aplicamos la funcion anuestrso datos\n",
    "\n",
    "fifa18_lim = fifa18.map(separar_campos)\n",
    "\n",
    "# Observemos como se observan:\n",
    "\n",
    "for renglon in fifa18_lim.take(1):\n",
    "    print(renglon)"
   ]
  },
  {
   "cell_type": "markdown",
   "metadata": {},
   "source": [
    "### Operaciones - RDD's\n",
    "\n",
    "Vamos a realizar los ejemplos de vistos en clase, y posteriormente vamos a realizar dos operaciones nuevas:\n",
    "\n"
   ]
  },
  {
   "cell_type": "markdown",
   "metadata": {},
   "source": [
    "*Ejemplo 1*: ¿Cuantos Jugadores existen por País?"
   ]
  },
  {
   "cell_type": "code",
   "execution_count": 27,
   "metadata": {},
   "outputs": [
    {
     "name": "stdout",
     "output_type": "stream",
     "text": [
      "('Portugal', 350)\n",
      "('Argentina', 964)\n",
      "('Brazil', 799)\n",
      "('Uruguay', 147)\n",
      "('Poland', 320)\n",
      "('Belgium', 274)\n",
      "('Slovenia', 64)\n",
      "('France', 958)\n",
      "('Netherlands', 422)\n",
      "('Gabon', 12)\n",
      "('Denmark', 342)\n",
      "('Slovakia', 64)\n",
      "('Austria', 267)\n",
      "('Greece', 97)\n",
      "('Bosnia Herzegovina', 56)\n",
      "('Costa Rica', 28)\n",
      "('Switzerland', 232)\n",
      "('Algeria', 56)\n",
      "('Ecuador', 37)\n",
      "('Montenegro', 25)\n"
     ]
    }
   ],
   "source": [
    "# Vamos a seleccionar únicamete los campos de nacionalidad\n",
    "nacionalidades = fifa18_lim.map(lambda renglon: (renglon[4], 1))\n",
    "# Vamos a sumar todos los valores a partir del nombre del País\n",
    "nacionalidades = nacionalidades.reduceByKey(lambda n, m: n+m)\n",
    "\n",
    "# Vamos a visualizar los datos despues de aplicar la acción collect() para obtener \n",
    "# todo el conntenido de las nacionalidades que se calculó antes\n",
    "\n",
    "nacionalidades_res = nacionalidades.collect()\n",
    "\n",
    "# Visualización\n",
    "for renglon in nacionalidades_res[:20]:\n",
    "    print(renglon)"
   ]
  },
  {
   "cell_type": "markdown",
   "metadata": {},
   "source": [
    "*Ejemplo 2*: Ordenar de forma ascendente y desendente"
   ]
  },
  {
   "cell_type": "code",
   "execution_count": 29,
   "metadata": {},
   "outputs": [
    {
     "name": "stdout",
     "output_type": "stream",
     "text": [
      "('Libya', 1)\n",
      "('Guatemala', 1)\n",
      "('Eritrea', 1)\n",
      "('Somalia', 1)\n",
      "('Mauritius', 1)\n"
     ]
    }
   ],
   "source": [
    "# Ordenaremos mediante SortBy() de forma desendente\n",
    "nacionalidades_des = nacionalidades.sortBy(lambda renglon: renglon[1], ascending = True)\n",
    "\n",
    "for renglon in nacionalidades_des.take(5):\n",
    "    print(renglon)"
   ]
  },
  {
   "cell_type": "code",
   "execution_count": 30,
   "metadata": {},
   "outputs": [
    {
     "name": "stdout",
     "output_type": "stream",
     "text": [
      "('England', 1608)\n",
      "('Germany', 1141)\n",
      "('Spain', 1002)\n",
      "('Argentina', 964)\n",
      "('France', 958)\n"
     ]
    }
   ],
   "source": [
    "# Ordenaremos mediante SortBy() de forma ascendente\n",
    "nacionalidades_des = nacionalidades.sortBy(lambda renglon: renglon[1], ascending = False)\n",
    "\n",
    "for renglon in nacionalidades_des.take(5):\n",
    "    print(renglon)"
   ]
  },
  {
   "cell_type": "code",
   "execution_count": 31,
   "metadata": {},
   "outputs": [
    {
     "data": {
      "text/plain": [
       "164"
      ]
     },
     "execution_count": 31,
     "metadata": {},
     "output_type": "execute_result"
    }
   ],
   "source": [
    "nacionalidades.count()"
   ]
  },
  {
   "cell_type": "markdown",
   "metadata": {},
   "source": [
    "**Ejemplo 3**: ¿Cuantos equipos se encuentran en la base de datos?"
   ]
  },
  {
   "cell_type": "code",
   "execution_count": 37,
   "metadata": {},
   "outputs": [
    {
     "name": "stderr",
     "output_type": "stream",
     "text": [
      "[Stage 32:>                                                         (0 + 2) / 2]\r"
     ]
    },
    {
     "name": "stdout",
     "output_type": "stream",
     "text": [
      "('FC Bayern München', 26)\n",
      "('Manchester United', 33)\n",
      "('Chelsea', 33)\n",
      "('Manchester City', 33)\n",
      "('Atlético Madrid', 32)\n",
      "('Milan', 31)\n",
      "('Borussia Dortmund', 33)\n",
      "('Bayer 04 Leverkusen', 26)\n",
      "('Athletic Club de Bilbao', 28)\n",
      "('Torino', 27)\n"
     ]
    },
    {
     "name": "stderr",
     "output_type": "stream",
     "text": [
      "                                                                                \r"
     ]
    }
   ],
   "source": [
    "# Vamos a seleccionar únicamente los campos de equipo (5)\n",
    "equipos = fifa18_lim.map(lambda renglon: (renglon[5], 1))\n",
    "# Vamos a sumar todos los valores a partir de el nombre del País\n",
    "equipos = equipos.reduceByKey(lambda n, m: n+m)\n",
    "\n",
    "# Visualización\n",
    "for renglon in equipos.take(10):\n",
    "    print(renglon)"
   ]
  },
  {
   "cell_type": "code",
   "execution_count": 35,
   "metadata": {},
   "outputs": [
    {
     "data": {
      "text/plain": [
       "677"
      ]
     },
     "execution_count": 35,
     "metadata": {},
     "output_type": "execute_result"
    }
   ],
   "source": [
    "# Usemos la accion count() para obtener el número de equipos:\n",
    "\n",
    "equipos.count()"
   ]
  },
  {
   "cell_type": "markdown",
   "metadata": {},
   "source": [
    "**Ejemplo 4**: De los 677 equipos, ¿cuales son el top 10?, basandonos en el rank de sus jugadores:"
   ]
  },
  {
   "cell_type": "code",
   "execution_count": 42,
   "metadata": {},
   "outputs": [
    {
     "name": "stdout",
     "output_type": "stream",
     "text": [
      "('FC Bayern München', 2065)\n",
      "('Manchester United', 2563)\n",
      "('Chelsea', 2525)\n",
      "('Manchester City', 2446)\n",
      "('Atlético Madrid', 2428)\n"
     ]
    }
   ],
   "source": [
    "# Para esta consulta vamos a seleccionar el equipo (5), y el rank(6)\n",
    "\n",
    "equipos_best = fifa18_lim.map(lambda renglon: (renglon[5], renglon[6]))\n",
    "# Vamos a sumar todos los valores a apartir del nombre del País\n",
    "equipos_best = equipos_best.reduceByKey(lambda n, m: n+m)\n",
    "\n",
    "# Visualización\n",
    "for renglon in equipos_best.take(5):\n",
    "    print(renglon)"
   ]
  },
  {
   "cell_type": "code",
   "execution_count": 96,
   "metadata": {},
   "outputs": [],
   "source": [
    "# Notemos que no todos los equipos tienen jugadores dentro de la base de datos en la misma \n",
    "# medida, por lo que vamos a filtrar para quedarnos con aquellos equipos de más de 30 juguares\n",
    "# con el fin de que no haya un sesgo que beneficie a ciertos equipos\n",
    "\n",
    "equipos_imp = equipos.filter(lambda renglon: renglon[1] > 30)\n",
    "\n",
    "# Seleccionaremos los equipos en una nueva variable, para lo que usaremos map()\n",
    "\n",
    "equipos_imp_nombres = equipos_imp.map(lambda x: x[0])"
   ]
  },
  {
   "cell_type": "code",
   "execution_count": 97,
   "metadata": {},
   "outputs": [
    {
     "name": "stdout",
     "output_type": "stream",
     "text": [
      "Manchester United\n",
      "Chelsea\n",
      "Manchester City\n",
      "Atlético Madrid\n",
      "Milan\n"
     ]
    }
   ],
   "source": [
    "for x in equipos_imp_nombres.take(5):\n",
    "    print(x)"
   ]
  },
  {
   "cell_type": "code",
   "execution_count": 98,
   "metadata": {},
   "outputs": [],
   "source": [
    "# Convertimos a lista para poder iterar\n",
    "equipos_imp_nombres = equipos_imp_nombres.take(equipos_imp_nombres.count())"
   ]
  },
  {
   "cell_type": "code",
   "execution_count": 104,
   "metadata": {},
   "outputs": [],
   "source": [
    "# Ahora vamos a fltrar los datos del rank de los equipos:\n",
    "equipos_best = equipos_best.filter(lambda renglon: renglon[0] in equipos_imp_nombres)"
   ]
  },
  {
   "cell_type": "code",
   "execution_count": 113,
   "metadata": {},
   "outputs": [
    {
     "data": {
      "text/plain": [
       "[('Manchester United', (2563, 33)),\n",
       " ('Chelsea', (2525, 33)),\n",
       " ('Manchester City', (2446, 33)),\n",
       " ('Atlético Madrid', (2428, 32)),\n",
       " ('Milan', (2343, 31))]"
      ]
     },
     "execution_count": 113,
     "metadata": {},
     "output_type": "execute_result"
    }
   ],
   "source": [
    "# Ahora tenemos que integrar el número de jugadores de cada equipo:\n",
    "# Recordemos que ese conjunto de datos ya lo tenemos en 'equipos_imp'\n",
    "\n",
    "# Usaremos la función join():\n",
    "equipos_total = equipos_best.join(equipos_imp)\n",
    "\n",
    "equipos_total.take(5)"
   ]
  },
  {
   "cell_type": "code",
   "execution_count": 140,
   "metadata": {},
   "outputs": [],
   "source": [
    "# Ahora tenemos que integrar el número de jugadores de cada equipo:\n",
    "# Recordemos que ese conjunto de datos ya lo tenemos en 'equipos_imp'\n",
    "\n",
    "# Vamos a definir una función que agregue los datos deseados en una tupla\n",
    "\n",
    "def promedio(renglon):\n",
    "    # Extracción de los campos\n",
    "    equipo = renglon[0]\n",
    "    rank = int(renglon[1][0])\n",
    "    jugadores = int(renglon[1][1])\n",
    "    # Generamos la Tupla\n",
    "    return (equipo, rank/jugadores)\n"
   ]
  },
  {
   "cell_type": "code",
   "execution_count": 141,
   "metadata": {},
   "outputs": [
    {
     "data": {
      "text/plain": [
       "[('Manchester United', 77.66666666666667),\n",
       " ('Chelsea', 76.51515151515152),\n",
       " ('Manchester City', 74.12121212121212),\n",
       " ('Atlético Madrid', 75.875),\n",
       " ('Milan', 75.58064516129032)]"
      ]
     },
     "execution_count": 141,
     "metadata": {},
     "output_type": "execute_result"
    }
   ],
   "source": [
    "# Aplicamos la funcion a nuestros datos\n",
    "ranking = equipos_total.map(promedio)\n",
    "\n",
    "# Observemos \n",
    "ranking.take(5)"
   ]
  },
  {
   "cell_type": "code",
   "execution_count": 142,
   "metadata": {},
   "outputs": [
    {
     "name": "stdout",
     "output_type": "stream",
     "text": [
      "('Manchester United', 77.66666666666667)\n",
      "('Chelsea', 76.51515151515152)\n",
      "('Liverpool', 75.9090909090909)\n",
      "('Atlético Madrid', 75.875)\n",
      "('Arsenal', 75.75757575757575)\n",
      "('Borussia Dortmund', 75.63636363636364)\n",
      "('Milan', 75.58064516129032)\n",
      "('Everton', 74.72727272727273)\n",
      "('Watford', 74.18181818181819)\n",
      "('Manchester City', 74.12121212121212)\n"
     ]
    }
   ],
   "source": [
    "# Ordenaremos mediante SortBy() de forma ascendente\n",
    "mejores_equipos = ranking.sortBy(lambda renglon: renglon[1], ascending = False)\n",
    "\n",
    "for renglon in mejores_equipos.take(10):\n",
    "    print(renglon)"
   ]
  },
  {
   "cell_type": "markdown",
   "metadata": {},
   "source": [
    "### Operaciones - DataFrame\n",
    "\n",
    "Primero haremos la importación de los datos:"
   ]
  },
  {
   "cell_type": "code",
   "execution_count": 143,
   "metadata": {},
   "outputs": [
    {
     "name": "stderr",
     "output_type": "stream",
     "text": [
      "                                                                                \r"
     ]
    },
    {
     "name": "stdout",
     "output_type": "stream",
     "text": [
      "+-----------------+---+---------+---------+-----------+-------------------+---------+--------------+\n",
      "|       short_name|age|height_cm|weight_kg|nationality|               club|value_eur|preferred_foot|\n",
      "+-----------------+---+---------+---------+-----------+-------------------+---------+--------------+\n",
      "|Cristiano Ronaldo| 32|      185|       80|   Portugal|        Real Madrid| 95500000|         Right|\n",
      "|         L. Messi| 30|      170|       72|  Argentina|       FC Barcelona|105000000|          Left|\n",
      "|           Neymar| 25|      175|       68|     Brazil|Paris Saint-Germain|123000000|         Right|\n",
      "|         M. Neuer| 31|      193|       92|    Germany|  FC Bayern München| 61000000|         Right|\n",
      "|        L. Suárez| 30|      182|       86|    Uruguay|       FC Barcelona| 97000000|         Right|\n",
      "+-----------------+---+---------+---------+-----------+-------------------+---------+--------------+\n",
      "only showing top 5 rows\n",
      "\n"
     ]
    }
   ],
   "source": [
    "df_fifa18 = spark.read.csv('players_18.csv', header = True, inferSchema= True)\n",
    "\n",
    "# Seleccionemos el conjunto de columnas que nos interesan\n",
    "df_fifa18 = df_fifa18.select('short_name','age', 'height_cm', 'weight_kg', 'nationality', 'club', 'value_eur', 'preferred_foot')\n",
    "\n",
    "# Visualizamos\n",
    "df_fifa18.show(5)"
   ]
  },
  {
   "cell_type": "code",
   "execution_count": 144,
   "metadata": {},
   "outputs": [
    {
     "data": {
      "text/html": [
       "<div>\n",
       "<style scoped>\n",
       "    .dataframe tbody tr th:only-of-type {\n",
       "        vertical-align: middle;\n",
       "    }\n",
       "\n",
       "    .dataframe tbody tr th {\n",
       "        vertical-align: top;\n",
       "    }\n",
       "\n",
       "    .dataframe thead th {\n",
       "        text-align: right;\n",
       "    }\n",
       "</style>\n",
       "<table border=\"1\" class=\"dataframe\">\n",
       "  <thead>\n",
       "    <tr style=\"text-align: right;\">\n",
       "      <th></th>\n",
       "      <th>short_name</th>\n",
       "      <th>age</th>\n",
       "      <th>height_cm</th>\n",
       "      <th>weight_kg</th>\n",
       "      <th>nationality</th>\n",
       "      <th>club</th>\n",
       "      <th>value_eur</th>\n",
       "      <th>preferred_foot</th>\n",
       "    </tr>\n",
       "  </thead>\n",
       "  <tbody>\n",
       "    <tr>\n",
       "      <th>0</th>\n",
       "      <td>Cristiano Ronaldo</td>\n",
       "      <td>32</td>\n",
       "      <td>185</td>\n",
       "      <td>80</td>\n",
       "      <td>Portugal</td>\n",
       "      <td>Real Madrid</td>\n",
       "      <td>95500000</td>\n",
       "      <td>Right</td>\n",
       "    </tr>\n",
       "    <tr>\n",
       "      <th>1</th>\n",
       "      <td>L. Messi</td>\n",
       "      <td>30</td>\n",
       "      <td>170</td>\n",
       "      <td>72</td>\n",
       "      <td>Argentina</td>\n",
       "      <td>FC Barcelona</td>\n",
       "      <td>105000000</td>\n",
       "      <td>Left</td>\n",
       "    </tr>\n",
       "    <tr>\n",
       "      <th>2</th>\n",
       "      <td>Neymar</td>\n",
       "      <td>25</td>\n",
       "      <td>175</td>\n",
       "      <td>68</td>\n",
       "      <td>Brazil</td>\n",
       "      <td>Paris Saint-Germain</td>\n",
       "      <td>123000000</td>\n",
       "      <td>Right</td>\n",
       "    </tr>\n",
       "    <tr>\n",
       "      <th>3</th>\n",
       "      <td>M. Neuer</td>\n",
       "      <td>31</td>\n",
       "      <td>193</td>\n",
       "      <td>92</td>\n",
       "      <td>Germany</td>\n",
       "      <td>FC Bayern München</td>\n",
       "      <td>61000000</td>\n",
       "      <td>Right</td>\n",
       "    </tr>\n",
       "    <tr>\n",
       "      <th>4</th>\n",
       "      <td>L. Suárez</td>\n",
       "      <td>30</td>\n",
       "      <td>182</td>\n",
       "      <td>86</td>\n",
       "      <td>Uruguay</td>\n",
       "      <td>FC Barcelona</td>\n",
       "      <td>97000000</td>\n",
       "      <td>Right</td>\n",
       "    </tr>\n",
       "    <tr>\n",
       "      <th>5</th>\n",
       "      <td>R. Lewandowski</td>\n",
       "      <td>28</td>\n",
       "      <td>185</td>\n",
       "      <td>79</td>\n",
       "      <td>Poland</td>\n",
       "      <td>FC Bayern München</td>\n",
       "      <td>92000000</td>\n",
       "      <td>Right</td>\n",
       "    </tr>\n",
       "    <tr>\n",
       "      <th>6</th>\n",
       "      <td>De Gea</td>\n",
       "      <td>26</td>\n",
       "      <td>193</td>\n",
       "      <td>76</td>\n",
       "      <td>Spain</td>\n",
       "      <td>Manchester United</td>\n",
       "      <td>64500000</td>\n",
       "      <td>Right</td>\n",
       "    </tr>\n",
       "    <tr>\n",
       "      <th>7</th>\n",
       "      <td>E. Hazard</td>\n",
       "      <td>26</td>\n",
       "      <td>173</td>\n",
       "      <td>76</td>\n",
       "      <td>Belgium</td>\n",
       "      <td>Chelsea</td>\n",
       "      <td>90500000</td>\n",
       "      <td>Right</td>\n",
       "    </tr>\n",
       "    <tr>\n",
       "      <th>8</th>\n",
       "      <td>Sergio Ramos</td>\n",
       "      <td>31</td>\n",
       "      <td>183</td>\n",
       "      <td>75</td>\n",
       "      <td>Spain</td>\n",
       "      <td>Real Madrid</td>\n",
       "      <td>52000000</td>\n",
       "      <td>Right</td>\n",
       "    </tr>\n",
       "    <tr>\n",
       "      <th>9</th>\n",
       "      <td>G. Higuaín</td>\n",
       "      <td>29</td>\n",
       "      <td>184</td>\n",
       "      <td>87</td>\n",
       "      <td>Argentina</td>\n",
       "      <td>Juventus</td>\n",
       "      <td>77000000</td>\n",
       "      <td>Right</td>\n",
       "    </tr>\n",
       "  </tbody>\n",
       "</table>\n",
       "</div>"
      ],
      "text/plain": [
       "          short_name  age  height_cm  weight_kg nationality  \\\n",
       "0  Cristiano Ronaldo   32        185         80    Portugal   \n",
       "1           L. Messi   30        170         72   Argentina   \n",
       "2             Neymar   25        175         68      Brazil   \n",
       "3           M. Neuer   31        193         92     Germany   \n",
       "4          L. Suárez   30        182         86     Uruguay   \n",
       "5     R. Lewandowski   28        185         79      Poland   \n",
       "6             De Gea   26        193         76       Spain   \n",
       "7          E. Hazard   26        173         76     Belgium   \n",
       "8       Sergio Ramos   31        183         75       Spain   \n",
       "9         G. Higuaín   29        184         87   Argentina   \n",
       "\n",
       "                  club  value_eur preferred_foot  \n",
       "0          Real Madrid   95500000          Right  \n",
       "1         FC Barcelona  105000000           Left  \n",
       "2  Paris Saint-Germain  123000000          Right  \n",
       "3    FC Bayern München   61000000          Right  \n",
       "4         FC Barcelona   97000000          Right  \n",
       "5    FC Bayern München   92000000          Right  \n",
       "6    Manchester United   64500000          Right  \n",
       "7              Chelsea   90500000          Right  \n",
       "8          Real Madrid   52000000          Right  \n",
       "9             Juventus   77000000          Right  "
      ]
     },
     "execution_count": 144,
     "metadata": {},
     "output_type": "execute_result"
    }
   ],
   "source": [
    "# Y podemos transformarlo a un DataFrame de Pandas\n",
    "df_peq = df_fifa18.limit(10)\n",
    "df_pandas = df_peq.toPandas()\n",
    "df_pandas"
   ]
  },
  {
   "cell_type": "code",
   "execution_count": 145,
   "metadata": {},
   "outputs": [
    {
     "data": {
      "text/html": [
       "<div>\n",
       "<style scoped>\n",
       "    .dataframe tbody tr th:only-of-type {\n",
       "        vertical-align: middle;\n",
       "    }\n",
       "\n",
       "    .dataframe tbody tr th {\n",
       "        vertical-align: top;\n",
       "    }\n",
       "\n",
       "    .dataframe thead th {\n",
       "        text-align: right;\n",
       "    }\n",
       "</style>\n",
       "<table border=\"1\" class=\"dataframe\">\n",
       "  <thead>\n",
       "    <tr style=\"text-align: right;\">\n",
       "      <th></th>\n",
       "      <th>short_name</th>\n",
       "      <th>age</th>\n",
       "      <th>height_cm</th>\n",
       "      <th>weight_kg</th>\n",
       "      <th>nationality</th>\n",
       "      <th>club</th>\n",
       "      <th>value_eur</th>\n",
       "      <th>preferred_foot</th>\n",
       "    </tr>\n",
       "  </thead>\n",
       "  <tbody>\n",
       "    <tr>\n",
       "      <th>0</th>\n",
       "      <td>Cristiano Ronaldo</td>\n",
       "      <td>32</td>\n",
       "      <td>185</td>\n",
       "      <td>80</td>\n",
       "      <td>Portugal</td>\n",
       "      <td>Real Madrid</td>\n",
       "      <td>95500000</td>\n",
       "      <td>Right</td>\n",
       "    </tr>\n",
       "    <tr>\n",
       "      <th>1</th>\n",
       "      <td>L. Messi</td>\n",
       "      <td>30</td>\n",
       "      <td>170</td>\n",
       "      <td>72</td>\n",
       "      <td>Argentina</td>\n",
       "      <td>FC Barcelona</td>\n",
       "      <td>105000000</td>\n",
       "      <td>Left</td>\n",
       "    </tr>\n",
       "    <tr>\n",
       "      <th>2</th>\n",
       "      <td>Neymar</td>\n",
       "      <td>25</td>\n",
       "      <td>175</td>\n",
       "      <td>68</td>\n",
       "      <td>Brazil</td>\n",
       "      <td>Paris Saint-Germain</td>\n",
       "      <td>123000000</td>\n",
       "      <td>Right</td>\n",
       "    </tr>\n",
       "    <tr>\n",
       "      <th>3</th>\n",
       "      <td>M. Neuer</td>\n",
       "      <td>31</td>\n",
       "      <td>193</td>\n",
       "      <td>92</td>\n",
       "      <td>Germany</td>\n",
       "      <td>FC Bayern München</td>\n",
       "      <td>61000000</td>\n",
       "      <td>Right</td>\n",
       "    </tr>\n",
       "    <tr>\n",
       "      <th>4</th>\n",
       "      <td>L. Suárez</td>\n",
       "      <td>30</td>\n",
       "      <td>182</td>\n",
       "      <td>86</td>\n",
       "      <td>Uruguay</td>\n",
       "      <td>FC Barcelona</td>\n",
       "      <td>97000000</td>\n",
       "      <td>Right</td>\n",
       "    </tr>\n",
       "    <tr>\n",
       "      <th>5</th>\n",
       "      <td>R. Lewandowski</td>\n",
       "      <td>28</td>\n",
       "      <td>185</td>\n",
       "      <td>79</td>\n",
       "      <td>Poland</td>\n",
       "      <td>FC Bayern München</td>\n",
       "      <td>92000000</td>\n",
       "      <td>Right</td>\n",
       "    </tr>\n",
       "    <tr>\n",
       "      <th>6</th>\n",
       "      <td>De Gea</td>\n",
       "      <td>26</td>\n",
       "      <td>193</td>\n",
       "      <td>76</td>\n",
       "      <td>Spain</td>\n",
       "      <td>Manchester United</td>\n",
       "      <td>64500000</td>\n",
       "      <td>Right</td>\n",
       "    </tr>\n",
       "    <tr>\n",
       "      <th>7</th>\n",
       "      <td>E. Hazard</td>\n",
       "      <td>26</td>\n",
       "      <td>173</td>\n",
       "      <td>76</td>\n",
       "      <td>Belgium</td>\n",
       "      <td>Chelsea</td>\n",
       "      <td>90500000</td>\n",
       "      <td>Right</td>\n",
       "    </tr>\n",
       "    <tr>\n",
       "      <th>8</th>\n",
       "      <td>Sergio Ramos</td>\n",
       "      <td>31</td>\n",
       "      <td>183</td>\n",
       "      <td>75</td>\n",
       "      <td>Spain</td>\n",
       "      <td>Real Madrid</td>\n",
       "      <td>52000000</td>\n",
       "      <td>Right</td>\n",
       "    </tr>\n",
       "    <tr>\n",
       "      <th>9</th>\n",
       "      <td>G. Higuaín</td>\n",
       "      <td>29</td>\n",
       "      <td>184</td>\n",
       "      <td>87</td>\n",
       "      <td>Argentina</td>\n",
       "      <td>Juventus</td>\n",
       "      <td>77000000</td>\n",
       "      <td>Right</td>\n",
       "    </tr>\n",
       "  </tbody>\n",
       "</table>\n",
       "</div>"
      ],
      "text/plain": [
       "          short_name  age  height_cm  weight_kg nationality  \\\n",
       "0  Cristiano Ronaldo   32        185         80    Portugal   \n",
       "1           L. Messi   30        170         72   Argentina   \n",
       "2             Neymar   25        175         68      Brazil   \n",
       "3           M. Neuer   31        193         92     Germany   \n",
       "4          L. Suárez   30        182         86     Uruguay   \n",
       "5     R. Lewandowski   28        185         79      Poland   \n",
       "6             De Gea   26        193         76       Spain   \n",
       "7          E. Hazard   26        173         76     Belgium   \n",
       "8       Sergio Ramos   31        183         75       Spain   \n",
       "9         G. Higuaín   29        184         87   Argentina   \n",
       "\n",
       "                  club  value_eur preferred_foot  \n",
       "0          Real Madrid   95500000          Right  \n",
       "1         FC Barcelona  105000000           Left  \n",
       "2  Paris Saint-Germain  123000000          Right  \n",
       "3    FC Bayern München   61000000          Right  \n",
       "4         FC Barcelona   97000000          Right  \n",
       "5    FC Bayern München   92000000          Right  \n",
       "6    Manchester United   64500000          Right  \n",
       "7              Chelsea   90500000          Right  \n",
       "8          Real Madrid   52000000          Right  \n",
       "9             Juventus   77000000          Right  "
      ]
     },
     "execution_count": 145,
     "metadata": {},
     "output_type": "execute_result"
    }
   ],
   "source": [
    "# O bien podemos resumirlo:\n",
    "\n",
    "df_fifa18.limit(10).toPandas()"
   ]
  },
  {
   "cell_type": "code",
   "execution_count": 146,
   "metadata": {},
   "outputs": [
    {
     "name": "stdout",
     "output_type": "stream",
     "text": [
      "root\n",
      " |-- short_name: string (nullable = true)\n",
      " |-- age: integer (nullable = true)\n",
      " |-- height_cm: integer (nullable = true)\n",
      " |-- weight_kg: integer (nullable = true)\n",
      " |-- nationality: string (nullable = true)\n",
      " |-- club: string (nullable = true)\n",
      " |-- value_eur: integer (nullable = true)\n",
      " |-- preferred_foot: string (nullable = true)\n",
      "\n"
     ]
    }
   ],
   "source": [
    "#Para poder revisar la organización de nuestro DataFrame y el data type de cada campo podemos usarlo siguiente\n",
    "\n",
    "df_fifa18.printSchema()"
   ]
  },
  {
   "cell_type": "markdown",
   "metadata": {},
   "source": [
    "Podemos renombrar Columnas:"
   ]
  },
  {
   "cell_type": "code",
   "execution_count": 148,
   "metadata": {},
   "outputs": [
    {
     "name": "stdout",
     "output_type": "stream",
     "text": [
      "+-----------------+---+---------+---------+-----------+-------------------+--------------+--------------+\n",
      "|       short_name|age|height_cm|weight_kg|nationality|               club|valor_en_euros|preferred_foot|\n",
      "+-----------------+---+---------+---------+-----------+-------------------+--------------+--------------+\n",
      "|Cristiano Ronaldo| 32|      185|       80|   Portugal|        Real Madrid|      95500000|         Right|\n",
      "|         L. Messi| 30|      170|       72|  Argentina|       FC Barcelona|     105000000|          Left|\n",
      "|           Neymar| 25|      175|       68|     Brazil|Paris Saint-Germain|     123000000|         Right|\n",
      "|         M. Neuer| 31|      193|       92|    Germany|  FC Bayern München|      61000000|         Right|\n",
      "|        L. Suárez| 30|      182|       86|    Uruguay|       FC Barcelona|      97000000|         Right|\n",
      "+-----------------+---+---------+---------+-----------+-------------------+--------------+--------------+\n",
      "only showing top 5 rows\n",
      "\n"
     ]
    }
   ],
   "source": [
    "#Para tener resultados permanentes, debemos guardar la salida en otro dataframe.\n",
    "df_colum = df_fifa18.withColumnRenamed('value_eur','valor_en_euros')\n",
    "df_colum.show(5)"
   ]
  },
  {
   "cell_type": "markdown",
   "metadata": {},
   "source": [
    "Podemos Eliminar Columnas:"
   ]
  },
  {
   "cell_type": "code",
   "execution_count": 149,
   "metadata": {},
   "outputs": [
    {
     "name": "stdout",
     "output_type": "stream",
     "text": [
      "+-----------------+---+---------+-----------+-------------------+---------+--------------+\n",
      "|       short_name|age|height_cm|nationality|               club|value_eur|preferred_foot|\n",
      "+-----------------+---+---------+-----------+-------------------+---------+--------------+\n",
      "|Cristiano Ronaldo| 32|      185|   Portugal|        Real Madrid| 95500000|         Right|\n",
      "|         L. Messi| 30|      170|  Argentina|       FC Barcelona|105000000|          Left|\n",
      "|           Neymar| 25|      175|     Brazil|Paris Saint-Germain|123000000|         Right|\n",
      "|         M. Neuer| 31|      193|    Germany|  FC Bayern München| 61000000|         Right|\n",
      "|        L. Suárez| 30|      182|    Uruguay|       FC Barcelona| 97000000|         Right|\n",
      "+-----------------+---+---------+-----------+-------------------+---------+--------------+\n",
      "only showing top 5 rows\n",
      "\n"
     ]
    }
   ],
   "source": [
    "# de forma similar a con Pandas con 'drop()'\n",
    "df_fifa18.drop('weight_kg').show(5)\n"
   ]
  },
  {
   "cell_type": "markdown",
   "metadata": {},
   "source": [
    "Podemos Ordenar Columnas:"
   ]
  },
  {
   "cell_type": "code",
   "execution_count": 150,
   "metadata": {},
   "outputs": [
    {
     "name": "stderr",
     "output_type": "stream",
     "text": [
      "[Stage 188:===================>                                     (1 + 2) / 3]\r"
     ]
    },
    {
     "name": "stdout",
     "output_type": "stream",
     "text": [
      "+-----------------+---+---------+---------+-----------+-------------------+---------+--------------+\n",
      "|       short_name|age|height_cm|weight_kg|nationality|               club|value_eur|preferred_foot|\n",
      "+-----------------+---+---------+---------+-----------+-------------------+---------+--------------+\n",
      "|           Neymar| 25|      175|       68|     Brazil|Paris Saint-Germain|123000000|         Right|\n",
      "|         L. Messi| 30|      170|       72|  Argentina|       FC Barcelona|105000000|          Left|\n",
      "|        L. Suárez| 30|      182|       86|    Uruguay|       FC Barcelona| 97000000|         Right|\n",
      "|Cristiano Ronaldo| 32|      185|       80|   Portugal|        Real Madrid| 95500000|         Right|\n",
      "|   R. Lewandowski| 28|      185|       79|     Poland|  FC Bayern München| 92000000|         Right|\n",
      "+-----------------+---+---------+---------+-----------+-------------------+---------+--------------+\n",
      "only showing top 5 rows\n",
      "\n"
     ]
    },
    {
     "name": "stderr",
     "output_type": "stream",
     "text": [
      "                                                                                \r"
     ]
    }
   ],
   "source": [
    "#Podemos ordenar a los jugadores por su valor\n",
    "df_fifa18.orderBy('value_eur', ascending = False).show(5)"
   ]
  },
  {
   "cell_type": "markdown",
   "metadata": {},
   "source": [
    "Y además podemos Filtrar Datos:"
   ]
  },
  {
   "cell_type": "code",
   "execution_count": 152,
   "metadata": {},
   "outputs": [
    {
     "name": "stdout",
     "output_type": "stream",
     "text": [
      "+-----------+---+---------+---------+-----------+--------------------+---------+--------------+\n",
      "| short_name|age|height_cm|weight_kg|nationality|                club|value_eur|preferred_foot|\n",
      "+-----------+---+---------+---------+-----------+--------------------+---------+--------------+\n",
      "|  G. Buffon| 39|      191|       94|      Italy|            Juventus|  4500000|         Right|\n",
      "|A. Barzagli| 36|      187|       87|      Italy|            Juventus|  5000000|         Right|\n",
      "|     Aduriz| 36|      182|       78|      Spain|Athletic Club de ...| 11000000|         Right|\n",
      "|   Casillas| 36|      185|       84|      Spain|            FC Porto|  3500000|          Left|\n",
      "|   S. Eto'o| 36|      179|       75|   Cameroon|         Antalyaspor|  6500000|         Right|\n",
      "+-----------+---+---------+---------+-----------+--------------------+---------+--------------+\n",
      "only showing top 5 rows\n",
      "\n"
     ]
    }
   ],
   "source": [
    "# Mediate la funcion where()\n",
    "df_fifa18.where(df_fifa18.age > 35).show(5)\n",
    "# Jugadores que tegan mas de 35 años"
   ]
  },
  {
   "cell_type": "code",
   "execution_count": 153,
   "metadata": {},
   "outputs": [
    {
     "name": "stdout",
     "output_type": "stream",
     "text": [
      "+----------+---+---------+---------+-----------+---------+---------+--------------+\n",
      "|short_name|age|height_cm|weight_kg|nationality|     club|value_eur|preferred_foot|\n",
      "+----------+---+---------+---------+-----------+---------+---------+--------------+\n",
      "| J. Milner| 31|      175|       70|    England|Liverpool|  9500000|         Right|\n",
      "| R. Klavan| 31|      187|       85|    Estonia|Liverpool|  7000000|          Left|\n",
      "+----------+---+---------+---------+-----------+---------+---------+--------------+\n",
      "\n"
     ]
    },
    {
     "name": "stderr",
     "output_type": "stream",
     "text": [
      "                                                                                \r"
     ]
    }
   ],
   "source": [
    "# Y podemos concatener codiciones\n",
    "\n",
    "# P.E. Los jugadores del Liverpool que tuviera mas de 30 años de edad\n",
    "df_fifa18.where((df_fifa18.age > 30) & (df_fifa18.club == 'Liverpool')).show(5)"
   ]
  },
  {
   "cell_type": "markdown",
   "metadata": {},
   "source": [
    "*Ejemplo 1*: ¿Cuál es el costo total e euro de un equipo?\n",
    "\n",
    "Esto se va a hacer sumando ekl valor individual de cada jugador del equipo:"
   ]
  },
  {
   "cell_type": "code",
   "execution_count": 156,
   "metadata": {},
   "outputs": [
    {
     "name": "stderr",
     "output_type": "stream",
     "text": [
      "[Stage 195:======================================>                  (2 + 1) / 3]\r"
     ]
    },
    {
     "name": "stdout",
     "output_type": "stream",
     "text": [
      "+--------------------+--------------+\n",
      "|                Club|sum(value_eur)|\n",
      "+--------------------+--------------+\n",
      "|       Côte d'Ivoire|             0|\n",
      "|             Palermo|      45975000|\n",
      "|          Göztepe SK|      45225000|\n",
      "|CD Everton de Viñ...|      46800000|\n",
      "|            Paraguay|             0|\n",
      "+--------------------+--------------+\n",
      "only showing top 5 rows\n",
      "\n"
     ]
    },
    {
     "name": "stderr",
     "output_type": "stream",
     "text": [
      "                                                                                \r"
     ]
    }
   ],
   "source": [
    "costo_club = df_fifa18.groupBy('Club').sum('value_eur')\n",
    "costo_club.show(5)"
   ]
  },
  {
   "cell_type": "code",
   "execution_count": 157,
   "metadata": {},
   "outputs": [
    {
     "name": "stderr",
     "output_type": "stream",
     "text": [
      "[Stage 198:======================================>                  (2 + 1) / 3]\r"
     ]
    },
    {
     "name": "stdout",
     "output_type": "stream",
     "text": [
      "+-------------------+--------------+\n",
      "|               Club|sum(value_eur)|\n",
      "+-------------------+--------------+\n",
      "|        Real Madrid|     826750000|\n",
      "|  FC Bayern München|     748825000|\n",
      "|       FC Barcelona|     715000000|\n",
      "|            Chelsea|     671910000|\n",
      "|Paris Saint-Germain|     631750000|\n",
      "+-------------------+--------------+\n",
      "only showing top 5 rows\n",
      "\n"
     ]
    },
    {
     "name": "stderr",
     "output_type": "stream",
     "text": [
      "                                                                                \r"
     ]
    }
   ],
   "source": [
    "# Y podemos ordenarlas e orden ascendete:\n",
    "costo_club = costo_club.orderBy('sum(value_eur)', ascending = False)\n",
    "costo_club.show(5)"
   ]
  },
  {
   "cell_type": "markdown",
   "metadata": {},
   "source": [
    "*Ejemplo 2*: ¿Cúal es el costo de cada quipo y la edad promedio de sus jugadores?"
   ]
  },
  {
   "cell_type": "code",
   "execution_count": 158,
   "metadata": {},
   "outputs": [
    {
     "name": "stderr",
     "output_type": "stream",
     "text": [
      "[Stage 201:===================>                                     (1 + 2) / 3]\r"
     ]
    },
    {
     "name": "stdout",
     "output_type": "stream",
     "text": [
      "+--------------------+----------+------------------+\n",
      "|                club|valor_club|     edad_promedio|\n",
      "+--------------------+----------+------------------+\n",
      "|       Côte d'Ivoire|         0|              28.2|\n",
      "|             Palermo|  45975000|             24.75|\n",
      "|          Göztepe SK|  45225000| 26.77777777777778|\n",
      "|CD Everton de Viñ...|  46800000|              29.0|\n",
      "|            Paraguay|         0|30.666666666666668|\n",
      "+--------------------+----------+------------------+\n",
      "only showing top 5 rows\n",
      "\n"
     ]
    },
    {
     "name": "stderr",
     "output_type": "stream",
     "text": [
      "                                                                                \r"
     ]
    }
   ],
   "source": [
    "# Usemos el comando anterior para determinar el costo de cada equipo\n",
    "\n",
    "club_edad = df_fifa18.groupBy('club').agg(sum('value_eur').alias('valor_club'), \n",
    "                                          mean('age').alias('edad_promedio'))\n",
    "\n",
    "club_edad.show(5)"
   ]
  },
  {
   "cell_type": "code",
   "execution_count": 159,
   "metadata": {},
   "outputs": [
    {
     "name": "stderr",
     "output_type": "stream",
     "text": [
      "[Stage 204:===================>                                     (1 + 2) / 3]\r"
     ]
    },
    {
     "name": "stdout",
     "output_type": "stream",
     "text": [
      "+-------------------+----------+------------------+\n",
      "|               club|valor_club|     edad_promedio|\n",
      "+-------------------+----------+------------------+\n",
      "|        Real Madrid| 826750000|24.576923076923077|\n",
      "|  FC Bayern München| 748825000|25.076923076923077|\n",
      "|       FC Barcelona| 715000000|             26.25|\n",
      "|            Chelsea| 671910000|24.393939393939394|\n",
      "|Paris Saint-Germain| 631750000|24.392857142857142|\n",
      "+-------------------+----------+------------------+\n",
      "only showing top 5 rows\n",
      "\n"
     ]
    },
    {
     "name": "stderr",
     "output_type": "stream",
     "text": [
      "                                                                                \r"
     ]
    }
   ],
   "source": [
    "# Ordenemos de forma ascendente\n",
    "\n",
    "club_edad = club_edad.orderBy('valor_club', ascending = False)\n",
    "club_edad.show(5)"
   ]
  },
  {
   "cell_type": "markdown",
   "metadata": {},
   "source": [
    "**Ejemplo 3**: ¿Cuántos jugadores son zurdos y cuantos diestros?"
   ]
  },
  {
   "cell_type": "code",
   "execution_count": 168,
   "metadata": {},
   "outputs": [
    {
     "name": "stdout",
     "output_type": "stream",
     "text": [
      "+--------------+-----+\n",
      "|preferred_foot|count|\n",
      "+--------------+-----+\n",
      "|          Left| 4166|\n",
      "|         Right|13426|\n",
      "+--------------+-----+\n",
      "\n"
     ]
    }
   ],
   "source": [
    "# Vamos a ordenar a los jugadores por su pie preferido con GroupBy()\n",
    "pie = df_fifa18.groupBy('preferred_foot').count()\n",
    "pie.show(5)"
   ]
  },
  {
   "cell_type": "markdown",
   "metadata": {},
   "source": [
    "**Ejemplo 4**: ¿Cuál es la proporción entre diestros y zurdos en cada equipo?"
   ]
  },
  {
   "cell_type": "code",
   "execution_count": 186,
   "metadata": {},
   "outputs": [
    {
     "name": "stderr",
     "output_type": "stream",
     "text": [
      "                                                                                \r"
     ]
    },
    {
     "name": "stdout",
     "output_type": "stream",
     "text": [
      "+--------------------+---+\n",
      "|                Club|izq|\n",
      "+--------------------+---+\n",
      "|             Palermo|  6|\n",
      "|CD Everton de Viñ...|  7|\n",
      "|          Göztepe SK|  5|\n",
      "|  Santiago Wanderers|  7|\n",
      "|               Carpi|  3|\n",
      "+--------------------+---+\n",
      "only showing top 5 rows\n",
      "\n"
     ]
    },
    {
     "name": "stderr",
     "output_type": "stream",
     "text": [
      "[Stage 269:===================>                                     (1 + 2) / 3]\r"
     ]
    },
    {
     "name": "stdout",
     "output_type": "stream",
     "text": [
      "+--------------------+---+\n",
      "|                Club|der|\n",
      "+--------------------+---+\n",
      "|       Côte d'Ivoire|  5|\n",
      "|             Palermo| 22|\n",
      "|          Göztepe SK| 22|\n",
      "|CD Everton de Viñ...| 13|\n",
      "|            Paraguay|  8|\n",
      "+--------------------+---+\n",
      "only showing top 5 rows\n",
      "\n"
     ]
    },
    {
     "name": "stderr",
     "output_type": "stream",
     "text": [
      "                                                                                \r"
     ]
    }
   ],
   "source": [
    "# Vamos a generar dos DataFrame con la filtración de preferencia de pie y posteriormente vamos a \n",
    "# contar los jugadores de cada equipo\n",
    "\n",
    "izq = df_fifa18.where(df_fifa18.preferred_foot == 'Left').groupBy('Club').agg(count('preferred_foot').alias('izq'))\n",
    "der = df_fifa18.where(df_fifa18.preferred_foot == 'Right').groupBy('Club').agg(count('preferred_foot').alias('der'))\n",
    "\n",
    "izq.show(5)\n",
    "der.show(5)"
   ]
  },
  {
   "cell_type": "code",
   "execution_count": 187,
   "metadata": {},
   "outputs": [
    {
     "name": "stderr",
     "output_type": "stream",
     "text": [
      "                                                                                \r"
     ]
    },
    {
     "name": "stdout",
     "output_type": "stream",
     "text": [
      "+--------------------+---+---+\n",
      "|                Club|izq|der|\n",
      "+--------------------+---+---+\n",
      "|             Palermo|  6| 22|\n",
      "|          Göztepe SK|  5| 22|\n",
      "|CD Everton de Viñ...|  7| 13|\n",
      "|            Paraguay|  1|  8|\n",
      "|  1. FC Union Berlin|  5| 22|\n",
      "|  Santiago Wanderers|  7| 13|\n",
      "|               Carpi|  3| 27|\n",
      "|          Sagan Tosu|  3| 22|\n",
      "|           Puebla FC| 10| 19|\n",
      "+--------------------+---+---+\n",
      "only showing top 9 rows\n",
      "\n"
     ]
    }
   ],
   "source": [
    "# Hagamos un join con el equipo como llave\n",
    "\n",
    "pref_pie = izq.join(der, on = 'Club')\n",
    "pref_pie.show(9)\n"
   ]
  },
  {
   "cell_type": "code",
   "execution_count": 189,
   "metadata": {},
   "outputs": [
    {
     "name": "stderr",
     "output_type": "stream",
     "text": [
      "                                                                                \r"
     ]
    },
    {
     "name": "stdout",
     "output_type": "stream",
     "text": [
      "+--------------------+---+---+-------------------+\n",
      "|                Club|izq|der|         proporcion|\n",
      "+--------------------+---+---+-------------------+\n",
      "|             Palermo|  6| 22| 0.2727272727272727|\n",
      "|          Göztepe SK|  5| 22|0.22727272727272727|\n",
      "|CD Everton de Viñ...|  7| 13| 0.5384615384615384|\n",
      "|            Paraguay|  1|  8|              0.125|\n",
      "|  1. FC Union Berlin|  5| 22|0.22727272727272727|\n",
      "+--------------------+---+---+-------------------+\n",
      "only showing top 5 rows\n",
      "\n"
     ]
    }
   ],
   "source": [
    "# Calculo de Proporcion:\n",
    "\n",
    "pref_pie = pref_pie.withColumn('proporcion', pref_pie.izq / pref_pie.der)\n",
    "pref_pie.show(5)"
   ]
  },
  {
   "cell_type": "markdown",
   "metadata": {},
   "source": [
    "### Consultas en SQL\n",
    "\n",
    "Primero importemos los datos  en el formato SQL"
   ]
  },
  {
   "cell_type": "code",
   "execution_count": 190,
   "metadata": {},
   "outputs": [
    {
     "name": "stderr",
     "output_type": "stream",
     "text": [
      "/usr/local/lib/python3.9/site-packages/pyspark/sql/dataframe.py:138: FutureWarning: Deprecated in 2.0, use createOrReplaceTempView instead.\n",
      "  warnings.warn(\n",
      "22/02/05 19:01:22 WARN package: Truncated the string representation of a plan since it was too large. This behavior can be adjusted by setting 'spark.sql.debug.maxToStringFields'.\n"
     ]
    }
   ],
   "source": [
    "df_fifa18.registerTempTable('FIFA18')"
   ]
  },
  {
   "cell_type": "code",
   "execution_count": 192,
   "metadata": {},
   "outputs": [
    {
     "name": "stderr",
     "output_type": "stream",
     "text": [
      "[Stage 284:===================>                                     (1 + 2) / 3]\r"
     ]
    },
    {
     "name": "stdout",
     "output_type": "stream",
     "text": [
      "+-------------------+-----------+\n",
      "|               club|valor_total|\n",
      "+-------------------+-----------+\n",
      "|        Real Madrid|  826750000|\n",
      "|  FC Bayern München|  748825000|\n",
      "|       FC Barcelona|  715000000|\n",
      "|            Chelsea|  671910000|\n",
      "|Paris Saint-Germain|  631750000|\n",
      "+-------------------+-----------+\n",
      "only showing top 5 rows\n",
      "\n"
     ]
    },
    {
     "name": "stderr",
     "output_type": "stream",
     "text": [
      "                                                                                \r"
     ]
    }
   ],
   "source": [
    "# Y ahora podemos realizar consultas con código sql\n",
    "\n",
    "consulta = '''\n",
    "  SELECT club, SUM(value_eur) AS valor_total \n",
    "  FROM FIFA18\n",
    "  GROUP BY club\n",
    "  ORDER BY valor_total DESC\n",
    "  '''\n",
    "spark.sql(consulta).show(5)"
   ]
  },
  {
   "cell_type": "markdown",
   "metadata": {},
   "source": [
    "**Ejemplo 1**: ¿Cuál es el club con menor numero dde jugadores en la base de datos?"
   ]
  },
  {
   "cell_type": "code",
   "execution_count": 194,
   "metadata": {},
   "outputs": [
    {
     "name": "stdout",
     "output_type": "stream",
     "text": [
      "+-----------------+---+---------+---------+-----------+-------------------+---------+--------------+\n",
      "|       short_name|age|height_cm|weight_kg|nationality|               club|value_eur|preferred_foot|\n",
      "+-----------------+---+---------+---------+-----------+-------------------+---------+--------------+\n",
      "|Cristiano Ronaldo| 32|      185|       80|   Portugal|        Real Madrid| 95500000|         Right|\n",
      "|         L. Messi| 30|      170|       72|  Argentina|       FC Barcelona|105000000|          Left|\n",
      "|           Neymar| 25|      175|       68|     Brazil|Paris Saint-Germain|123000000|         Right|\n",
      "|         M. Neuer| 31|      193|       92|    Germany|  FC Bayern München| 61000000|         Right|\n",
      "|        L. Suárez| 30|      182|       86|    Uruguay|       FC Barcelona| 97000000|         Right|\n",
      "+-----------------+---+---------+---------+-----------+-------------------+---------+--------------+\n",
      "only showing top 5 rows\n",
      "\n"
     ]
    }
   ],
   "source": [
    "# Veamos toda la tabla para ver el nombre de las columnas\n",
    "\n",
    "consulta1 = '''\n",
    "  SELECT *\n",
    "  FROM FIFA18\n",
    "  '''\n",
    "spark.sql(consulta1).show(5)"
   ]
  },
  {
   "cell_type": "code",
   "execution_count": 196,
   "metadata": {},
   "outputs": [
    {
     "name": "stdout",
     "output_type": "stream",
     "text": [
      "+------------+---------+\n",
      "|        club|jugadores|\n",
      "+------------+---------+\n",
      "|      Poland|        1|\n",
      "|Halmstads BK|        1|\n",
      "|    Portugal|        1|\n",
      "|     Belgium|        1|\n",
      "|    Colombia|        1|\n",
      "+------------+---------+\n",
      "only showing top 5 rows\n",
      "\n"
     ]
    }
   ],
   "source": [
    "# Contemos a cada jugador\n",
    "\n",
    "consulta1 = '''\n",
    "  SELECT club, COUNT(short_name) AS jugadores\n",
    "  FROM FIFA18\n",
    "  GROUP BY club\n",
    "  ORDER BY jugadores ASC\n",
    "  '''\n",
    "spark.sql(consulta1).show(5)"
   ]
  }
 ],
 "metadata": {
  "interpreter": {
   "hash": "aee8b7b246df8f9039afb4144a1f6fd8d2ca17a180786b69acc140d282b71a49"
  },
  "kernelspec": {
   "display_name": "Python 3.9.9 64-bit",
   "language": "python",
   "name": "python3"
  },
  "language_info": {
   "codemirror_mode": {
    "name": "ipython",
    "version": 3
   },
   "file_extension": ".py",
   "mimetype": "text/x-python",
   "name": "python",
   "nbconvert_exporter": "python",
   "pygments_lexer": "ipython3",
   "version": "3.9.9"
  },
  "orig_nbformat": 4
 },
 "nbformat": 4,
 "nbformat_minor": 2
}
