{
 "cells": [
  {
   "cell_type": "markdown",
   "metadata": {},
   "source": [
    "# Tarea 2: HDFS y MapReduce\n",
    "\n",
    "Fragoso Alvardao Daniel | 316049054"
   ]
  },
  {
   "cell_type": "markdown",
   "metadata": {},
   "source": [
    "-------"
   ]
  },
  {
   "cell_type": "markdown",
   "metadata": {},
   "source": [
    "1. Dibuja el esquema MapReduce que permita contar la frecuencia de palabras de los siguientes fragmentos:\n",
    "\n",
    "    | F1: to be or |\n",
    "    | :--- |\n",
    "    | F2: not to be |\n",
    "    | F3: that is the question |\n",
    "    | F4: be not afraid |\n",
    "    | F5: he was not afraid |\n",
    "\n",
    "    Se indicó usar 4 nodos para mapeo y 2 para reducción. En el esquema se debe mostrar claramente cada uno de los pasos y resultados para cada uno de los nodo."
   ]
  },
  {
   "cell_type": "markdown",
   "metadata": {},
   "source": [
    "<img src='T2_1.png'>"
   ]
  },
  {
   "cell_type": "markdown",
   "metadata": {},
   "source": []
  },
  {
   "cell_type": "markdown",
   "metadata": {},
   "source": []
  },
  {
   "cell_type": "markdown",
   "metadata": {},
   "source": [
    "2. Diseña una arquitectura basada en clúster que contenga 4 racks en total, 2 racks deben estar conectados a un switch y los otros 2 racks deben estar conectados a otro switch. Ambos swtiches deben estar conectados a un switch principal. En la arquitectura diseñada etiqueta: la velocidad de comunicación entre nodos y entre racks, así mismo indica el límite inferior y superior de nodos que debe contener cada rack, y menciona cuáles son los elementos que componen a un nodo."
   ]
  },
  {
   "cell_type": "markdown",
   "metadata": {},
   "source": []
  }
 ],
 "metadata": {
  "language_info": {
   "name": "python"
  },
  "orig_nbformat": 4
 },
 "nbformat": 4,
 "nbformat_minor": 2
}
