{
 "cells": [
  {
   "cell_type": "markdown",
   "metadata": {},
   "source": [
    "# Tarea 2: HDFS y MapReduce\n",
    "\n",
    "Fragoso Alvardao Daniel | 316049054"
   ]
  },
  {
   "cell_type": "markdown",
   "metadata": {},
   "source": [
    "-------"
   ]
  },
  {
   "cell_type": "markdown",
   "metadata": {},
   "source": [
    "1. Dibuja el esquema MapReduce que permita contar la frecuencia de palabras de los siguientes fragmentos:\n",
    "\n",
    "    | F1: to be or |\n",
    "    | :--- |\n",
    "    | F2: not to be |\n",
    "    | F3: that is the question |\n",
    "    | F4: be not afraid |\n",
    "    | F5: he was not afraid |\n",
    "\n",
    "    Se indicó usar 4 nodos para mapeo y 2 para reducción. En el esquema se debe mostrar claramente cada uno de los pasos y resultados para cada uno de los nodo."
   ]
  },
  {
   "cell_type": "markdown",
   "metadata": {},
   "source": [
    "En este caso vamos a iniciar con una lista que contiene todas las frases. El paso inmediatamnete posterior a la entrada es la división de las frases, en este caso se dividiran en 4, cada sección irá a su respecivo nodo, y se realiza el proceso de **MAP**, posterirormente para intentar simplificar las operaciones se realiza el proceso de **COMBINE**, y se agrupan las respectuivas llaves valores en dos grupos, uno para cada nodo desigandos a la reducción, finalemente, se realiza el proceso de **REDUCE** y se genera la salida a partid de ambos conjuntos."
   ]
  },
  {
   "cell_type": "markdown",
   "metadata": {},
   "source": [
    "<img src='T2_1.png'>"
   ]
  },
  {
   "cell_type": "markdown",
   "metadata": {},
   "source": [
    "2. Diseña una arquitectura basada en clúster que contenga 4 racks en total, 2 racks deben estar conectados a un switch y los otros 2 racks deben estar conectados a otro switch. Ambos swtiches deben estar conectados a un switch principal. En la arquitectura diseñada etiqueta: la velocidad de comunicación entre nodos y entre racks, así mismo indica el límite inferior y superior de nodos que debe contener cada rack, y menciona cuáles son los elementos que componen a un nodo."
   ]
  },
  {
   "cell_type": "markdown",
   "metadata": {},
   "source": [
    "Recordemos que la arquitectura basada de cluster consta de un conjunto de computadoras independientes, interconectadas entre sí, de tal manera que funcionan como un solo recurso computacional.\n",
    "\n",
    "Así un **switch** es la froma en que los nodos se comunican, cuya velocidad es de 1Gbps enre cada par de nodos. Mientras que el **rack** es una colección física de nodos en nuestro clúster (entre 16 y 64). Y al mismo timepo cada **nodo** es simplemnete una computadora, es decir que se compone básicamnete de *CPU*, *Memoria* y *Disco*. Finalmente la conexión entre rack's se da por medio de un switch principal cuya velocidad de conexión es mayor que la usal, de 2 hasta 10 Gbps."
   ]
  },
  {
   "cell_type": "markdown",
   "metadata": {},
   "source": [
    "<img src='T2_2.png'>"
   ]
  }
 ],
 "metadata": {
  "interpreter": {
   "hash": "dace54320b3e5d10a320680296c22e4020a583bcc2297e7e554010d74f6aaf0c"
  },
  "kernelspec": {
   "display_name": "Python 3.9.2 64-bit ('3.9.2')",
   "language": "python",
   "name": "python3"
  },
  "language_info": {
   "codemirror_mode": {
    "name": "ipython",
    "version": 3
   },
   "file_extension": ".py",
   "mimetype": "text/x-python",
   "name": "python",
   "nbconvert_exporter": "python",
   "pygments_lexer": "ipython3",
   "version": "3.9.2"
  },
  "orig_nbformat": 4
 },
 "nbformat": 4,
 "nbformat_minor": 2
}
